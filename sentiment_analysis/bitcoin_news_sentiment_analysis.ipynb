{
 "cells": [
  {
   "cell_type": "code",
   "execution_count": 1,
   "metadata": {},
   "outputs": [],
   "source": [
    "#Import Required Pacakges\n",
    "from textblob import TextBlob\n",
    "from vaderSentiment.vaderSentiment import SentimentIntensityAnalyzer\n",
    "import matplotlib.pyplot as plt\n",
    "import numpy as np\n",
    "import pandas as pd\n",
    "import seaborn as sns\n",
    "import math\n",
    "import pickle"
   ]
  },
  {
   "cell_type": "code",
   "execution_count": 2,
   "metadata": {},
   "outputs": [],
   "source": [
    "# load Corpus Dataframe\n",
    "#Open Corpus of News Article Text\n",
    "with open('../news_articles_processing/data_frames/bitcoin_news_df_processed_for_modeling.pickle', 'rb') as file:\n",
    "     bitcoin_news_df = pickle.load(file)"
   ]
  },
  {
   "cell_type": "code",
   "execution_count": 3,
   "metadata": {},
   "outputs": [
    {
     "data": {
      "text/html": [
       "<div>\n",
       "<style scoped>\n",
       "    .dataframe tbody tr th:only-of-type {\n",
       "        vertical-align: middle;\n",
       "    }\n",
       "\n",
       "    .dataframe tbody tr th {\n",
       "        vertical-align: top;\n",
       "    }\n",
       "\n",
       "    .dataframe thead th {\n",
       "        text-align: right;\n",
       "    }\n",
       "</style>\n",
       "<table border=\"1\" class=\"dataframe\">\n",
       "  <thead>\n",
       "    <tr style=\"text-align: right;\">\n",
       "      <th></th>\n",
       "      <th>text</th>\n",
       "      <th>date</th>\n",
       "      <th>sent_with_num</th>\n",
       "      <th>tokenized_text</th>\n",
       "      <th>tfid_vec_text</th>\n",
       "      <th>stemmed_text</th>\n",
       "      <th>lemmatized_text</th>\n",
       "      <th>pos_text</th>\n",
       "      <th>tokenized_sent_with_num</th>\n",
       "      <th>pos_sent_with_num</th>\n",
       "    </tr>\n",
       "  </thead>\n",
       "  <tbody>\n",
       "    <tr>\n",
       "      <th>0</th>\n",
       "      <td>about the authorjp buntinx is a fintech and bi...</td>\n",
       "      <td>0001-11-30 00:00:00+00:00</td>\n",
       "      <td>[]</td>\n",
       "      <td>[authorjp, buntinx, fintech, bitcoin, enthusia...</td>\n",
       "      <td>(0, 127102)\\t0.22856558085345463\\n  (0, 1268...</td>\n",
       "      <td>[authorjp, buntinx, fintech, bitcoin, enthusia...</td>\n",
       "      <td>[authorjp, buntinx, fintech, bitcoin, enthusia...</td>\n",
       "      <td>[[(authorjp, NN)], [(buntinx, NN)], [(fintech,...</td>\n",
       "      <td>[]</td>\n",
       "      <td>[]</td>\n",
       "    </tr>\n",
       "    <tr>\n",
       "      <th>1</th>\n",
       "      <td>new data shows chinese exchanges have accounte...</td>\n",
       "      <td>0001-11-30 00:00:00+00:00</td>\n",
       "      <td>[new data shows chinese exchanges have account...</td>\n",
       "      <td>[new, data, shows, chinese, exchanges, account...</td>\n",
       "      <td>(0, 128858)\\t0.05043681888099185\\n  (0, 1283...</td>\n",
       "      <td>[new, data, show, chines, exchang, account, bi...</td>\n",
       "      <td>[new, data, show, chinese, exchange, accounted...</td>\n",
       "      <td>[[(new, JJ)], [(data, NNS)], [(shows, NNS)], [...</td>\n",
       "      <td>[[new, data, shows, chinese, exchanges, have, ...</td>\n",
       "      <td>[[(new, JJ), (data, NN), (shows, NNS), (chines...</td>\n",
       "    </tr>\n",
       "    <tr>\n",
       "      <th>2</th>\n",
       "      <td>a major european banking trade group has calle...</td>\n",
       "      <td>0001-11-30 00:00:00+00:00</td>\n",
       "      <td>[]</td>\n",
       "      <td>[major, european, banking, trade, group, calle...</td>\n",
       "      <td>(0, 128167)\\t0.04010913921090279\\n  (0, 1257...</td>\n",
       "      <td>[major, european, bank, trade, group, call, go...</td>\n",
       "      <td>[major, european, banking, trade, group, calle...</td>\n",
       "      <td>[[(major, JJ)], [(european, JJ)], [(banking, N...</td>\n",
       "      <td>[]</td>\n",
       "      <td>[]</td>\n",
       "    </tr>\n",
       "  </tbody>\n",
       "</table>\n",
       "</div>"
      ],
      "text/plain": [
       "                                                text  \\\n",
       "0  about the authorjp buntinx is a fintech and bi...   \n",
       "1  new data shows chinese exchanges have accounte...   \n",
       "2  a major european banking trade group has calle...   \n",
       "\n",
       "                        date  \\\n",
       "0  0001-11-30 00:00:00+00:00   \n",
       "1  0001-11-30 00:00:00+00:00   \n",
       "2  0001-11-30 00:00:00+00:00   \n",
       "\n",
       "                                       sent_with_num  \\\n",
       "0                                                 []   \n",
       "1  [new data shows chinese exchanges have account...   \n",
       "2                                                 []   \n",
       "\n",
       "                                      tokenized_text  \\\n",
       "0  [authorjp, buntinx, fintech, bitcoin, enthusia...   \n",
       "1  [new, data, shows, chinese, exchanges, account...   \n",
       "2  [major, european, banking, trade, group, calle...   \n",
       "\n",
       "                                       tfid_vec_text  \\\n",
       "0    (0, 127102)\\t0.22856558085345463\\n  (0, 1268...   \n",
       "1    (0, 128858)\\t0.05043681888099185\\n  (0, 1283...   \n",
       "2    (0, 128167)\\t0.04010913921090279\\n  (0, 1257...   \n",
       "\n",
       "                                        stemmed_text  \\\n",
       "0  [authorjp, buntinx, fintech, bitcoin, enthusia...   \n",
       "1  [new, data, show, chines, exchang, account, bi...   \n",
       "2  [major, european, bank, trade, group, call, go...   \n",
       "\n",
       "                                     lemmatized_text  \\\n",
       "0  [authorjp, buntinx, fintech, bitcoin, enthusia...   \n",
       "1  [new, data, show, chinese, exchange, accounted...   \n",
       "2  [major, european, banking, trade, group, calle...   \n",
       "\n",
       "                                            pos_text  \\\n",
       "0  [[(authorjp, NN)], [(buntinx, NN)], [(fintech,...   \n",
       "1  [[(new, JJ)], [(data, NNS)], [(shows, NNS)], [...   \n",
       "2  [[(major, JJ)], [(european, JJ)], [(banking, N...   \n",
       "\n",
       "                             tokenized_sent_with_num  \\\n",
       "0                                                 []   \n",
       "1  [[new, data, shows, chinese, exchanges, have, ...   \n",
       "2                                                 []   \n",
       "\n",
       "                                   pos_sent_with_num  \n",
       "0                                                 []  \n",
       "1  [[(new, JJ), (data, NN), (shows, NNS), (chines...  \n",
       "2                                                 []  "
      ]
     },
     "execution_count": 3,
     "metadata": {},
     "output_type": "execute_result"
    }
   ],
   "source": [
    "bitcoin_news_df.head(3)"
   ]
  },
  {
   "cell_type": "code",
   "execution_count": 5,
   "metadata": {},
   "outputs": [],
   "source": [
    "#Create Sentiment Dataframe and Add Dates and Sentences with Numbers Column from bitcoin dataframe\n",
    "sentiment_df_with_num = pd.DataFrame(columns=['date','article','article_polarity_neg_pos','article_subjectivity'])\n",
    "\n",
    "sentiment_df_without_num = pd.DataFrame(columns=['date','article','article_polarity_neg_pos','article_subjectivity'])\n",
    "\n",
    "#Assign Date and Sent With Number Values\n",
    "sentiment_df_with_num.date = bitcoin_news_df['date']\n",
    "sentiment_df_without_num .date = bitcoin_news_df['date']\n",
    "\n",
    "sentiment_df_with_num.article = bitcoin_news_df['sent_with_num']\n",
    "sentiment_df_without_num.article = bitcoin_news_df['text']\n",
    "\n",
    "#Join sentences with number into single paragraph\n",
    "sentiment_df_with_num.article = sentiment_df_with_num.article.apply(lambda x: ' '.join(x))"
   ]
  },
  {
   "cell_type": "code",
   "execution_count": 21,
   "metadata": {},
   "outputs": [],
   "source": [
    "#Remove All Rows That Don't Have Text and Reset Index\n",
    "sentiment_df_with_num = sentiment_df_with_num[sentiment_df_with_num['article'] != '']\n",
    "sentiment_df_with_num = sentiment_df_with_num.reset_index(drop=True)\n",
    "\n",
    "\n",
    "sentiment_df_without_num = sentiment_df_without_num[sentiment_df_without_num['article'] != '']\n",
    "sentiment_df_without_num = sentiment_df_without_num.reset_index(drop=True)"
   ]
  },
  {
   "cell_type": "code",
   "execution_count": 25,
   "metadata": {},
   "outputs": [],
   "source": [
    "def sentiment_parser(corpus):\n",
    "    total_sentiment = []\n",
    "    for line in corpus:\n",
    "        line_sent=TextBlob(line).sentiment.polarity\n",
    "        total_sentiment.append(line_sent)\n",
    "    return total_sentiment"
   ]
  },
  {
   "cell_type": "code",
   "execution_count": 34,
   "metadata": {},
   "outputs": [],
   "source": [
    "def subjectivity_parser(corpus):\n",
    "    total_sentiment = []\n",
    "    for line in corpus:\n",
    "        line_sent=TextBlob(line).sentiment.subjectivity\n",
    "        total_sentiment.append(line_sent)\n",
    "    return total_sentiment"
   ]
  },
  {
   "cell_type": "code",
   "execution_count": 35,
   "metadata": {},
   "outputs": [],
   "source": [
    "#Calculate Sentiment of Articles with Numbers\n",
    "sentiment_articles_with_num = sentiment_parser(sentiment_df_with_num.article)\n",
    "\n",
    "#Calculate Polarity of Articles with Numbers\n",
    "subjectivity_articles_with_num = subjectivity_parser(sentiment_df_with_num.article)"
   ]
  },
  {
   "cell_type": "code",
   "execution_count": null,
   "metadata": {},
   "outputs": [],
   "source": [
    "#Calculate Sentiment of Articles with Numbers\n",
    "sentiment_articles_without_num = sentiment_parser(sentiment_df_without_num.article)\n",
    "\n",
    "#Calculate Polarity of Articles with Numbers\n",
    "subjectivity_articles_without_num = subjectivity_parser(sentiment_df_without_num.article)"
   ]
  }
 ],
 "metadata": {
  "kernelspec": {
   "display_name": "Python 3",
   "language": "python",
   "name": "python3"
  },
  "language_info": {
   "codemirror_mode": {
    "name": "ipython",
    "version": 3
   },
   "file_extension": ".py",
   "mimetype": "text/x-python",
   "name": "python",
   "nbconvert_exporter": "python",
   "pygments_lexer": "ipython3",
   "version": "3.6.8"
  }
 },
 "nbformat": 4,
 "nbformat_minor": 2
}
