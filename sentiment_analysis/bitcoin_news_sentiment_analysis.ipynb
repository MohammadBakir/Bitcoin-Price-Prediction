{
 "cells": [
  {
   "cell_type": "code",
   "execution_count": 5,
   "metadata": {},
   "outputs": [],
   "source": [
    "#Import Required Pacakges\n",
    "from textblob import TextBlob\n",
    "from vaderSentiment.vaderSentiment import SentimentIntensityAnalyzer\n",
    "import matplotlib.pyplot as plt\n",
    "import numpy as np\n",
    "import pandas as pd\n",
    "import seaborn as sns\n",
    "import math\n",
    "import pickle"
   ]
  },
  {
   "cell_type": "code",
   "execution_count": 6,
   "metadata": {},
   "outputs": [],
   "source": [
    "# load Corpus Dataframe\n",
    "#Open Corpus of News Article Text\n",
    "with open('../news_articles_processing/data_frames/bitcoin_news_df_processed_for_modeling.pickle', 'rb') as file:\n",
    "     bitcoin_news_df = pickle.load(file)"
   ]
  },
  {
   "cell_type": "code",
   "execution_count": 7,
   "metadata": {},
   "outputs": [],
   "source": [
    "#Create Sentiment Dataframe and Add Dates and Sentences with Numbers Column from bitcoin dataframe\n",
    "sentiment_df = pd.DataFrame(columns=['date','sent_with_num','sentiment_individual_sentences'])\n",
    "\n",
    "#Assign Date and Sent With Number Values\n",
    "sentiment_df.date = bitcoin_news_df['date']\n",
    "sentiment_df.sent_with_num = bitcoin_news_df['sent_with_num']\n",
    "\n",
    "#Join sentences with number into single paragraph\n",
    "sentiment_df.sent_with_num = sentiment_df.sent_with_num.apply(lambda x: ' '.join(x))"
   ]
  },
  {
   "cell_type": "code",
   "execution_count": 12,
   "metadata": {},
   "outputs": [
    {
     "data": {
      "text/html": [
       "<div>\n",
       "<style scoped>\n",
       "    .dataframe tbody tr th:only-of-type {\n",
       "        vertical-align: middle;\n",
       "    }\n",
       "\n",
       "    .dataframe tbody tr th {\n",
       "        vertical-align: top;\n",
       "    }\n",
       "\n",
       "    .dataframe thead th {\n",
       "        text-align: right;\n",
       "    }\n",
       "</style>\n",
       "<table border=\"1\" class=\"dataframe\">\n",
       "  <thead>\n",
       "    <tr style=\"text-align: right;\">\n",
       "      <th></th>\n",
       "      <th>date</th>\n",
       "      <th>sent_with_num</th>\n",
       "      <th>sentiment_individual_sentences</th>\n",
       "    </tr>\n",
       "  </thead>\n",
       "  <tbody>\n",
       "    <tr>\n",
       "      <th>3551</th>\n",
       "      <td>2015-12-20 00:00:00</td>\n",
       "      <td>this more recent attempt started back in 2014 ...</td>\n",
       "      <td>NaN</td>\n",
       "    </tr>\n",
       "    <tr>\n",
       "      <th>8764</th>\n",
       "      <td>2016-07-21 06:10:10+00:00</td>\n",
       "      <td>new york reuters  bitcoin exchange coinbase sa...</td>\n",
       "      <td>NaN</td>\n",
       "    </tr>\n",
       "    <tr>\n",
       "      <th>11045</th>\n",
       "      <td>2017-04-05 13:30:07+00:00</td>\n",
       "      <td>26 october 2017 0000 utcunknown hackers attack...</td>\n",
       "      <td>NaN</td>\n",
       "    </tr>\n",
       "    <tr>\n",
       "      <th>7251</th>\n",
       "      <td>2016-05-13 13:20:00+00:00</td>\n",
       "      <td>the case honoured with the award concerned an ...</td>\n",
       "      <td>NaN</td>\n",
       "    </tr>\n",
       "    <tr>\n",
       "      <th>6238</th>\n",
       "      <td>2016-04-04 12:32:32+00:00</td>\n",
       "      <td>according to el mundo such transparency consti...</td>\n",
       "      <td>NaN</td>\n",
       "    </tr>\n",
       "  </tbody>\n",
       "</table>\n",
       "</div>"
      ],
      "text/plain": [
       "                            date  \\\n",
       "3551         2015-12-20 00:00:00   \n",
       "8764   2016-07-21 06:10:10+00:00   \n",
       "11045  2017-04-05 13:30:07+00:00   \n",
       "7251   2016-05-13 13:20:00+00:00   \n",
       "6238   2016-04-04 12:32:32+00:00   \n",
       "\n",
       "                                           sent_with_num  \\\n",
       "3551   this more recent attempt started back in 2014 ...   \n",
       "8764   new york reuters  bitcoin exchange coinbase sa...   \n",
       "11045  26 october 2017 0000 utcunknown hackers attack...   \n",
       "7251   the case honoured with the award concerned an ...   \n",
       "6238   according to el mundo such transparency consti...   \n",
       "\n",
       "      sentiment_individual_sentences  \n",
       "3551                             NaN  \n",
       "8764                             NaN  \n",
       "11045                            NaN  \n",
       "7251                             NaN  \n",
       "6238                             NaN  "
      ]
     },
     "execution_count": 12,
     "metadata": {},
     "output_type": "execute_result"
    }
   ],
   "source": [
    "sentiment_df.sample(5)"
   ]
  },
  {
   "cell_type": "code",
   "execution_count": null,
   "metadata": {},
   "outputs": [],
   "source": []
  }
 ],
 "metadata": {
  "kernelspec": {
   "display_name": "Python 3",
   "language": "python",
   "name": "python3"
  },
  "language_info": {
   "codemirror_mode": {
    "name": "ipython",
    "version": 3
   },
   "file_extension": ".py",
   "mimetype": "text/x-python",
   "name": "python",
   "nbconvert_exporter": "python",
   "pygments_lexer": "ipython3",
   "version": "3.6.8"
  }
 },
 "nbformat": 4,
 "nbformat_minor": 2
}
