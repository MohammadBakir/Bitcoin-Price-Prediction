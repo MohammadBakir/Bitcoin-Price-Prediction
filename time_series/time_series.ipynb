{
 "cells": [
  {
   "cell_type": "markdown",
   "metadata": {},
   "source": [
    "## Importing the libraries"
   ]
  },
  {
   "cell_type": "code",
   "execution_count": 78,
   "metadata": {},
   "outputs": [],
   "source": [
    "\n",
    "\n",
    "import pandas as pd\n",
    "import numpy as np\n",
    "import seaborn as sns\n",
    "import matplotlib.pyplot as plt\n",
    "import matplotlib.mlab as mlab\n",
    "\n",
    "import statsmodels.api as sm\n",
    "import statsmodels.tsa.api as smt\n",
    "from statsmodels.tsa.arima_model import ARIMA\n",
    "import statsmodels.tsa.stattools as ts\n",
    "from statsmodels.tsa.stattools import adfuller\n",
    "\n",
    "from fbprophet import Prophet\n",
    "\n",
    "import math\n",
    "\n",
    "# import pyflux as pf\n",
    "\n",
    "import warnings\n",
    "warnings.filterwarnings('ignore')\n",
    "\n",
    "import itertools\n",
    "\n",
    "from sklearn.linear_model import LinearRegression\n",
    "from sklearn.linear_model import RidgeCV\n",
    "\n",
    "from sklearn.model_selection import TimeSeriesSplit\n",
    "\n",
    "from pandas.plotting import autocorrelation_plot\n",
    "\n",
    "import re\n",
    "\n",
    "import sys\n",
    "import os\n",
    "\n",
    "from functools import reduce"
   ]
  },
  {
   "cell_type": "markdown",
   "metadata": {},
   "source": [
    "## Helper Functions"
   ]
  },
  {
   "cell_type": "code",
   "execution_count": 3,
   "metadata": {},
   "outputs": [],
   "source": [
    "def calc_RMSE(validation_data, prediction_data):\n",
    "   \"\"\"\n",
    "   Calculate RMSE\n",
    "   \"\"\"\n",
    "   a = np.array(validation_data)\n",
    "   b = np.array(prediction_data)\n",
    "\n",
    "   return np.sqrt(np.mean((b-a)**2))"
   ]
  },
  {
   "cell_type": "code",
   "execution_count": 4,
   "metadata": {},
   "outputs": [],
   "source": [
    "def get_fuller_test(series):\n",
    "    values = series.values\n",
    "    result = adfuller(values)\n",
    "    print('ADF Statistic: %f' % result[0])\n",
    "    print('p-value: %f' % result[1])\n",
    "    print('Critical Values:')\n",
    "    for key, value in result[4].items():\n",
    "        print('\\t%s: %.3f' % (key, value))"
   ]
  },
  {
   "cell_type": "code",
   "execution_count": 5,
   "metadata": {},
   "outputs": [],
   "source": [
    "def make_plots(data, lags=None):\n",
    "    '''\n",
    "    plotting the data with specified number of lags.\n",
    "    plotting raw data, then ACF and PACF\n",
    "    '''\n",
    "    layout = (1, 3)\n",
    "    raw  = plt.subplot2grid(layout, (0, 0))\n",
    "    acf  = plt.subplot2grid(layout, (0, 1))\n",
    "    pacf = plt.subplot2grid(layout, (0, 2))\n",
    "    \n",
    "    data.plot(ax = raw, figsize=(12, 6))\n",
    "    smt.graphics.plot_acf(data, lags = lags, ax = acf)\n",
    "    smt.graphics.plot_pacf(data, lags = lags, ax = pacf)\n",
    "    sns.despine()\n",
    "    plt.tight_layout()"
   ]
  },
  {
   "cell_type": "code",
   "execution_count": 6,
   "metadata": {},
   "outputs": [],
   "source": [
    "def make_plots_2(data, lags=None):\n",
    "    '''\n",
    "    plotting rolling mean, rolling std and original as per number of lags\n",
    "    '''\n",
    "    rolling_mean = data.rolling(window = lags).mean()\n",
    "    rolling_std = data.rolling(window = lags).std()\n",
    "    \n",
    "    original = plt.plot(data, color='black',label = 'Original Timeseries')\n",
    "    mean = plt.plot(rolling_mean, color='red', label = 'Rolling Mean')\n",
    "    std = plt.plot(rolling_std, color='orange', label = 'Rolling Std')\n",
    "    plt.legend(loc='best')\n",
    "    plt.title('Original, Rolling Mean, Standard Deviation')\n",
    "    sns.despine()\n",
    "    plt.show()"
   ]
  },
  {
   "cell_type": "code",
   "execution_count": 175,
   "metadata": {},
   "outputs": [],
   "source": [
    "def split_train_test_chronological(df, ratio = 0.9):\n",
    "    \n",
    "    '''\n",
    "    Input is a dataframe, and a ratio. Splits dataframe into 2 dataframes chronologically.\n",
    "    Returns first dataframe up to the index of the length of the input dataframe times the input ratio, \n",
    "    and returns second dataframe of remaining elements.\n",
    "    '''\n",
    "    \n",
    "    size = len(df) * ratio\n",
    "    size_round = round(size)\n",
    "    \n",
    "    df_train = df[0:(size_round)]\n",
    "    df_test = df[size_round:]\n",
    "    \n",
    "#     if df_test.iloc[-1]['ds'] != df.iloc[-1]['ds'] :\n",
    "#         df_test.iloc[len(df)] = df.iloc[-1]\n",
    "    \n",
    "    return df_train, df_test"
   ]
  },
  {
   "cell_type": "markdown",
   "metadata": {},
   "source": [
    "## Importing data"
   ]
  },
  {
   "cell_type": "code",
   "execution_count": 8,
   "metadata": {},
   "outputs": [],
   "source": [
    "df_bitcoin_price = pd.read_pickle('../crypto_currency_and_market_value_history/data/bitcoin_4_year_hourly_history_df.pickle')"
   ]
  },
  {
   "cell_type": "code",
   "execution_count": 10,
   "metadata": {},
   "outputs": [
    {
     "data": {
      "text/html": [
       "<div>\n",
       "<style scoped>\n",
       "    .dataframe tbody tr th:only-of-type {\n",
       "        vertical-align: middle;\n",
       "    }\n",
       "\n",
       "    .dataframe tbody tr th {\n",
       "        vertical-align: top;\n",
       "    }\n",
       "\n",
       "    .dataframe thead th {\n",
       "        text-align: right;\n",
       "    }\n",
       "</style>\n",
       "<table border=\"1\" class=\"dataframe\">\n",
       "  <thead>\n",
       "    <tr style=\"text-align: right;\">\n",
       "      <th></th>\n",
       "      <th>timestamp</th>\n",
       "      <th>open</th>\n",
       "      <th>high</th>\n",
       "      <th>low</th>\n",
       "      <th>close</th>\n",
       "      <th>volume (btc)</th>\n",
       "      <th>volume (currency)</th>\n",
       "      <th>weighted price</th>\n",
       "    </tr>\n",
       "  </thead>\n",
       "  <tbody>\n",
       "    <tr>\n",
       "      <th>0</th>\n",
       "      <td>2015-05-31 00:00:00</td>\n",
       "      <td>232.11</td>\n",
       "      <td>232.11</td>\n",
       "      <td>231.92</td>\n",
       "      <td>231.92</td>\n",
       "      <td>223.37</td>\n",
       "      <td>51822.18</td>\n",
       "      <td>232.00</td>\n",
       "    </tr>\n",
       "    <tr>\n",
       "      <th>1</th>\n",
       "      <td>2015-05-31 01:00:00</td>\n",
       "      <td>231.88</td>\n",
       "      <td>232.32</td>\n",
       "      <td>231.87</td>\n",
       "      <td>232.32</td>\n",
       "      <td>217.49</td>\n",
       "      <td>50452.68</td>\n",
       "      <td>231.98</td>\n",
       "    </tr>\n",
       "    <tr>\n",
       "      <th>2</th>\n",
       "      <td>2015-05-31 02:00:00</td>\n",
       "      <td>231.97</td>\n",
       "      <td>232.51</td>\n",
       "      <td>231.88</td>\n",
       "      <td>232.51</td>\n",
       "      <td>46.45</td>\n",
       "      <td>10782.23</td>\n",
       "      <td>232.14</td>\n",
       "    </tr>\n",
       "  </tbody>\n",
       "</table>\n",
       "</div>"
      ],
      "text/plain": [
       "            timestamp    open    high     low   close  volume (btc)  \\\n",
       "0 2015-05-31 00:00:00  232.11  232.11  231.92  231.92        223.37   \n",
       "1 2015-05-31 01:00:00  231.88  232.32  231.87  232.32        217.49   \n",
       "2 2015-05-31 02:00:00  231.97  232.51  231.88  232.51         46.45   \n",
       "\n",
       "   volume (currency)  weighted price  \n",
       "0           51822.18          232.00  \n",
       "1           50452.68          231.98  \n",
       "2           10782.23          232.14  "
      ]
     },
     "execution_count": 10,
     "metadata": {},
     "output_type": "execute_result"
    }
   ],
   "source": [
    "df_bitcoin_price.head(3)"
   ]
  },
  {
   "cell_type": "code",
   "execution_count": 11,
   "metadata": {},
   "outputs": [],
   "source": [
    "df_vix = pd.read_pickle('../crypto_currency_and_market_value_history/data/vix_volatility_daily_change_history_df.pickle')"
   ]
  },
  {
   "cell_type": "code",
   "execution_count": 12,
   "metadata": {},
   "outputs": [
    {
     "data": {
      "text/html": [
       "<div>\n",
       "<style scoped>\n",
       "    .dataframe tbody tr th:only-of-type {\n",
       "        vertical-align: middle;\n",
       "    }\n",
       "\n",
       "    .dataframe tbody tr th {\n",
       "        vertical-align: top;\n",
       "    }\n",
       "\n",
       "    .dataframe thead th {\n",
       "        text-align: right;\n",
       "    }\n",
       "</style>\n",
       "<table border=\"1\" class=\"dataframe\">\n",
       "  <thead>\n",
       "    <tr style=\"text-align: right;\">\n",
       "      <th></th>\n",
       "      <th>trade date</th>\n",
       "      <th>open</th>\n",
       "      <th>high</th>\n",
       "      <th>low</th>\n",
       "      <th>close</th>\n",
       "      <th>settle</th>\n",
       "      <th>change</th>\n",
       "      <th>total volume</th>\n",
       "    </tr>\n",
       "  </thead>\n",
       "  <tbody>\n",
       "    <tr>\n",
       "      <th>0</th>\n",
       "      <td>2019-06-07</td>\n",
       "      <td>-0.014837</td>\n",
       "      <td>-0.019264</td>\n",
       "      <td>-0.006116</td>\n",
       "      <td>0.006591</td>\n",
       "      <td>0.015175</td>\n",
       "      <td>-2.666667</td>\n",
       "      <td>-0.066600</td>\n",
       "    </tr>\n",
       "    <tr>\n",
       "      <th>1</th>\n",
       "      <td>2019-06-06</td>\n",
       "      <td>-0.023754</td>\n",
       "      <td>-0.021143</td>\n",
       "      <td>-0.015060</td>\n",
       "      <td>0.002402</td>\n",
       "      <td>-0.009023</td>\n",
       "      <td>-0.750000</td>\n",
       "      <td>-0.038795</td>\n",
       "    </tr>\n",
       "    <tr>\n",
       "      <th>2</th>\n",
       "      <td>2019-06-05</td>\n",
       "      <td>-0.054247</td>\n",
       "      <td>-0.047360</td>\n",
       "      <td>-0.034884</td>\n",
       "      <td>-0.032539</td>\n",
       "      <td>-0.034833</td>\n",
       "      <td>-0.428571</td>\n",
       "      <td>-0.149433</td>\n",
       "    </tr>\n",
       "  </tbody>\n",
       "</table>\n",
       "</div>"
      ],
      "text/plain": [
       "  trade date      open      high       low     close    settle    change  \\\n",
       "0 2019-06-07 -0.014837 -0.019264 -0.006116  0.006591  0.015175 -2.666667   \n",
       "1 2019-06-06 -0.023754 -0.021143 -0.015060  0.002402 -0.009023 -0.750000   \n",
       "2 2019-06-05 -0.054247 -0.047360 -0.034884 -0.032539 -0.034833 -0.428571   \n",
       "\n",
       "   total volume  \n",
       "0     -0.066600  \n",
       "1     -0.038795  \n",
       "2     -0.149433  "
      ]
     },
     "execution_count": 12,
     "metadata": {},
     "output_type": "execute_result"
    }
   ],
   "source": [
    "df_vix.head(3)"
   ]
  },
  {
   "cell_type": "code",
   "execution_count": 16,
   "metadata": {},
   "outputs": [],
   "source": [
    "df_gold = pd.read_csv('../crypto_currency_and_market_value_history/data/gold_hourly_data.csv', sep = ';')"
   ]
  },
  {
   "cell_type": "code",
   "execution_count": 18,
   "metadata": {},
   "outputs": [
    {
     "data": {
      "text/html": [
       "<div>\n",
       "<style scoped>\n",
       "    .dataframe tbody tr th:only-of-type {\n",
       "        vertical-align: middle;\n",
       "    }\n",
       "\n",
       "    .dataframe tbody tr th {\n",
       "        vertical-align: top;\n",
       "    }\n",
       "\n",
       "    .dataframe thead th {\n",
       "        text-align: right;\n",
       "    }\n",
       "</style>\n",
       "<table border=\"1\" class=\"dataframe\">\n",
       "  <thead>\n",
       "    <tr style=\"text-align: right;\">\n",
       "      <th></th>\n",
       "      <th>Date</th>\n",
       "      <th>Compound_Score</th>\n",
       "      <th>n</th>\n",
       "      <th>Count_Negatives</th>\n",
       "      <th>Count_Positives</th>\n",
       "      <th>Count_Neutrals</th>\n",
       "      <th>Sent_Negatives</th>\n",
       "      <th>Sent_Positives</th>\n",
       "      <th>Open</th>\n",
       "      <th>High</th>\n",
       "      <th>Low</th>\n",
       "      <th>Close</th>\n",
       "      <th>Volume (BTC)</th>\n",
       "      <th>Volume (Currency)</th>\n",
       "    </tr>\n",
       "  </thead>\n",
       "  <tbody>\n",
       "    <tr>\n",
       "      <th>0</th>\n",
       "      <td>01/08/2017 0:00</td>\n",
       "      <td>0.097156</td>\n",
       "      <td>1027.0</td>\n",
       "      <td>148.0</td>\n",
       "      <td>403.0</td>\n",
       "      <td>476.0</td>\n",
       "      <td>-0.504061</td>\n",
       "      <td>0.432704</td>\n",
       "      <td>2855.81</td>\n",
       "      <td>2863.06</td>\n",
       "      <td>2823.00</td>\n",
       "      <td>2825.92</td>\n",
       "      <td>184.02</td>\n",
       "      <td>522951,00</td>\n",
       "    </tr>\n",
       "    <tr>\n",
       "      <th>1</th>\n",
       "      <td>01/08/2017 1:00</td>\n",
       "      <td>0.064507</td>\n",
       "      <td>778.0</td>\n",
       "      <td>143.0</td>\n",
       "      <td>239.0</td>\n",
       "      <td>396.0</td>\n",
       "      <td>-0.381007</td>\n",
       "      <td>0.437953</td>\n",
       "      <td>2823.01</td>\n",
       "      <td>2860.02</td>\n",
       "      <td>2821.01</td>\n",
       "      <td>2853.38</td>\n",
       "      <td>77.3</td>\n",
       "      <td>219605.16</td>\n",
       "    </tr>\n",
       "    <tr>\n",
       "      <th>2</th>\n",
       "      <td>01/08/2017 2:00</td>\n",
       "      <td>0.119218</td>\n",
       "      <td>836.0</td>\n",
       "      <td>118.0</td>\n",
       "      <td>333.0</td>\n",
       "      <td>385.0</td>\n",
       "      <td>-0.394999</td>\n",
       "      <td>0.439269</td>\n",
       "      <td>2846.27</td>\n",
       "      <td>2858.04</td>\n",
       "      <td>2837.31</td>\n",
       "      <td>2841.60</td>\n",
       "      <td>135.83</td>\n",
       "      <td>386739.15</td>\n",
       "    </tr>\n",
       "  </tbody>\n",
       "</table>\n",
       "</div>"
      ],
      "text/plain": [
       "              Date  Compound_Score       n  Count_Negatives  Count_Positives  \\\n",
       "0  01/08/2017 0:00        0.097156  1027.0            148.0            403.0   \n",
       "1  01/08/2017 1:00        0.064507   778.0            143.0            239.0   \n",
       "2  01/08/2017 2:00        0.119218   836.0            118.0            333.0   \n",
       "\n",
       "   Count_Neutrals  Sent_Negatives  Sent_Positives     Open     High      Low  \\\n",
       "0           476.0       -0.504061        0.432704  2855.81  2863.06  2823.00   \n",
       "1           396.0       -0.381007        0.437953  2823.01  2860.02  2821.01   \n",
       "2           385.0       -0.394999        0.439269  2846.27  2858.04  2837.31   \n",
       "\n",
       "     Close Volume (BTC) Volume (Currency)  \n",
       "0  2825.92       184.02         522951,00  \n",
       "1  2853.38         77.3         219605.16  \n",
       "2  2841.60       135.83         386739.15  "
      ]
     },
     "execution_count": 18,
     "metadata": {},
     "output_type": "execute_result"
    }
   ],
   "source": [
    "df_gold.head(3)"
   ]
  },
  {
   "cell_type": "markdown",
   "metadata": {},
   "source": [
    "## Preprocessing"
   ]
  },
  {
   "cell_type": "code",
   "execution_count": 22,
   "metadata": {},
   "outputs": [],
   "source": [
    "df_vix = df_vix.sort_values(by=['trade date']).reset_index()"
   ]
  },
  {
   "cell_type": "code",
   "execution_count": 23,
   "metadata": {},
   "outputs": [
    {
     "data": {
      "text/html": [
       "<div>\n",
       "<style scoped>\n",
       "    .dataframe tbody tr th:only-of-type {\n",
       "        vertical-align: middle;\n",
       "    }\n",
       "\n",
       "    .dataframe tbody tr th {\n",
       "        vertical-align: top;\n",
       "    }\n",
       "\n",
       "    .dataframe thead th {\n",
       "        text-align: right;\n",
       "    }\n",
       "</style>\n",
       "<table border=\"1\" class=\"dataframe\">\n",
       "  <thead>\n",
       "    <tr style=\"text-align: right;\">\n",
       "      <th></th>\n",
       "      <th>index</th>\n",
       "      <th>trade date</th>\n",
       "      <th>open</th>\n",
       "      <th>high</th>\n",
       "      <th>low</th>\n",
       "      <th>close</th>\n",
       "      <th>settle</th>\n",
       "      <th>change</th>\n",
       "      <th>total volume</th>\n",
       "    </tr>\n",
       "  </thead>\n",
       "  <tbody>\n",
       "    <tr>\n",
       "      <th>0</th>\n",
       "      <td>3509</td>\n",
       "      <td>2005-06-21</td>\n",
       "      <td>0.004720</td>\n",
       "      <td>0.004720</td>\n",
       "      <td>0.004720</td>\n",
       "      <td>0.004720</td>\n",
       "      <td>0.005394</td>\n",
       "      <td>-0.994606</td>\n",
       "      <td>NaN</td>\n",
       "    </tr>\n",
       "    <tr>\n",
       "      <th>1</th>\n",
       "      <td>3508</td>\n",
       "      <td>2005-06-22</td>\n",
       "      <td>-0.004027</td>\n",
       "      <td>-0.004027</td>\n",
       "      <td>-0.004027</td>\n",
       "      <td>-0.004027</td>\n",
       "      <td>-0.003353</td>\n",
       "      <td>-1.625000</td>\n",
       "      <td>-0.8</td>\n",
       "    </tr>\n",
       "    <tr>\n",
       "      <th>2</th>\n",
       "      <td>3507</td>\n",
       "      <td>2005-06-23</td>\n",
       "      <td>0.009434</td>\n",
       "      <td>0.014151</td>\n",
       "      <td>0.004717</td>\n",
       "      <td>0.014151</td>\n",
       "      <td>0.017497</td>\n",
       "      <td>-6.200000</td>\n",
       "      <td>5.1</td>\n",
       "    </tr>\n",
       "  </tbody>\n",
       "</table>\n",
       "</div>"
      ],
      "text/plain": [
       "   index trade date      open      high       low     close    settle  \\\n",
       "0   3509 2005-06-21  0.004720  0.004720  0.004720  0.004720  0.005394   \n",
       "1   3508 2005-06-22 -0.004027 -0.004027 -0.004027 -0.004027 -0.003353   \n",
       "2   3507 2005-06-23  0.009434  0.014151  0.004717  0.014151  0.017497   \n",
       "\n",
       "     change  total volume  \n",
       "0 -0.994606           NaN  \n",
       "1 -1.625000          -0.8  \n",
       "2 -6.200000           5.1  "
      ]
     },
     "execution_count": 23,
     "metadata": {},
     "output_type": "execute_result"
    }
   ],
   "source": [
    "df_vix.head(3)"
   ]
  },
  {
   "cell_type": "code",
   "execution_count": 24,
   "metadata": {},
   "outputs": [],
   "source": [
    "df_vix.drop(['index'], axis = 1, inplace = True)"
   ]
  },
  {
   "cell_type": "code",
   "execution_count": 29,
   "metadata": {},
   "outputs": [
    {
     "data": {
      "text/html": [
       "<div>\n",
       "<style scoped>\n",
       "    .dataframe tbody tr th:only-of-type {\n",
       "        vertical-align: middle;\n",
       "    }\n",
       "\n",
       "    .dataframe tbody tr th {\n",
       "        vertical-align: top;\n",
       "    }\n",
       "\n",
       "    .dataframe thead th {\n",
       "        text-align: right;\n",
       "    }\n",
       "</style>\n",
       "<table border=\"1\" class=\"dataframe\">\n",
       "  <thead>\n",
       "    <tr style=\"text-align: right;\">\n",
       "      <th></th>\n",
       "      <th>trade date</th>\n",
       "      <th>open</th>\n",
       "      <th>high</th>\n",
       "      <th>low</th>\n",
       "      <th>close</th>\n",
       "      <th>settle</th>\n",
       "      <th>change</th>\n",
       "      <th>total volume</th>\n",
       "    </tr>\n",
       "  </thead>\n",
       "  <tbody>\n",
       "    <tr>\n",
       "      <th>3507</th>\n",
       "      <td>2019-06-05</td>\n",
       "      <td>-0.054247</td>\n",
       "      <td>-0.047360</td>\n",
       "      <td>-0.034884</td>\n",
       "      <td>-0.032539</td>\n",
       "      <td>-0.034833</td>\n",
       "      <td>-0.428571</td>\n",
       "      <td>-0.149433</td>\n",
       "    </tr>\n",
       "    <tr>\n",
       "      <th>3508</th>\n",
       "      <td>2019-06-06</td>\n",
       "      <td>-0.023754</td>\n",
       "      <td>-0.021143</td>\n",
       "      <td>-0.015060</td>\n",
       "      <td>0.002402</td>\n",
       "      <td>-0.009023</td>\n",
       "      <td>-0.750000</td>\n",
       "      <td>-0.038795</td>\n",
       "    </tr>\n",
       "    <tr>\n",
       "      <th>3509</th>\n",
       "      <td>2019-06-07</td>\n",
       "      <td>-0.014837</td>\n",
       "      <td>-0.019264</td>\n",
       "      <td>-0.006116</td>\n",
       "      <td>0.006591</td>\n",
       "      <td>0.015175</td>\n",
       "      <td>-2.666667</td>\n",
       "      <td>-0.066600</td>\n",
       "    </tr>\n",
       "  </tbody>\n",
       "</table>\n",
       "</div>"
      ],
      "text/plain": [
       "     trade date      open      high       low     close    settle    change  \\\n",
       "3507 2019-06-05 -0.054247 -0.047360 -0.034884 -0.032539 -0.034833 -0.428571   \n",
       "3508 2019-06-06 -0.023754 -0.021143 -0.015060  0.002402 -0.009023 -0.750000   \n",
       "3509 2019-06-07 -0.014837 -0.019264 -0.006116  0.006591  0.015175 -2.666667   \n",
       "\n",
       "      total volume  \n",
       "3507     -0.149433  \n",
       "3508     -0.038795  \n",
       "3509     -0.066600  "
      ]
     },
     "execution_count": 29,
     "metadata": {},
     "output_type": "execute_result"
    }
   ],
   "source": [
    "df_vix.tail(3)"
   ]
  },
  {
   "cell_type": "code",
   "execution_count": null,
   "metadata": {},
   "outputs": [],
   "source": []
  },
  {
   "cell_type": "markdown",
   "metadata": {},
   "source": [
    "## Processing for FB Prophet"
   ]
  },
  {
   "cell_type": "code",
   "execution_count": 31,
   "metadata": {},
   "outputs": [],
   "source": [
    "df_vix_FBP = df_vix.copy()"
   ]
  },
  {
   "cell_type": "code",
   "execution_count": 32,
   "metadata": {},
   "outputs": [],
   "source": [
    "df_bitcoin_price_FBP = df_bitcoin_price.copy()"
   ]
  },
  {
   "cell_type": "code",
   "execution_count": 33,
   "metadata": {},
   "outputs": [],
   "source": [
    "df_bitcoin_price_FBP.rename(columns={'timestamp': 'ds', 'weighted price': 'y'}, inplace=True)"
   ]
  },
  {
   "cell_type": "code",
   "execution_count": 64,
   "metadata": {},
   "outputs": [],
   "source": [
    "df_bitcoin_price_FBP = df_bitcoin_price_FBP[['ds', 'y']]"
   ]
  },
  {
   "cell_type": "code",
   "execution_count": 65,
   "metadata": {},
   "outputs": [
    {
     "data": {
      "text/html": [
       "<div>\n",
       "<style scoped>\n",
       "    .dataframe tbody tr th:only-of-type {\n",
       "        vertical-align: middle;\n",
       "    }\n",
       "\n",
       "    .dataframe tbody tr th {\n",
       "        vertical-align: top;\n",
       "    }\n",
       "\n",
       "    .dataframe thead th {\n",
       "        text-align: right;\n",
       "    }\n",
       "</style>\n",
       "<table border=\"1\" class=\"dataframe\">\n",
       "  <thead>\n",
       "    <tr style=\"text-align: right;\">\n",
       "      <th></th>\n",
       "      <th>ds</th>\n",
       "      <th>y</th>\n",
       "    </tr>\n",
       "  </thead>\n",
       "  <tbody>\n",
       "    <tr>\n",
       "      <th>35232</th>\n",
       "      <td>2019-06-09 16:00:00</td>\n",
       "      <td>7664.22</td>\n",
       "    </tr>\n",
       "    <tr>\n",
       "      <th>35233</th>\n",
       "      <td>2019-06-09 17:00:00</td>\n",
       "      <td>7645.34</td>\n",
       "    </tr>\n",
       "    <tr>\n",
       "      <th>35234</th>\n",
       "      <td>2019-06-09 18:00:00</td>\n",
       "      <td>7678.13</td>\n",
       "    </tr>\n",
       "    <tr>\n",
       "      <th>35235</th>\n",
       "      <td>2019-06-09 19:00:00</td>\n",
       "      <td>7711.10</td>\n",
       "    </tr>\n",
       "    <tr>\n",
       "      <th>35236</th>\n",
       "      <td>2019-06-09 20:00:00</td>\n",
       "      <td>7728.32</td>\n",
       "    </tr>\n",
       "  </tbody>\n",
       "</table>\n",
       "</div>"
      ],
      "text/plain": [
       "                       ds        y\n",
       "35232 2019-06-09 16:00:00  7664.22\n",
       "35233 2019-06-09 17:00:00  7645.34\n",
       "35234 2019-06-09 18:00:00  7678.13\n",
       "35235 2019-06-09 19:00:00  7711.10\n",
       "35236 2019-06-09 20:00:00  7728.32"
      ]
     },
     "execution_count": 65,
     "metadata": {},
     "output_type": "execute_result"
    }
   ],
   "source": [
    "df_bitcoin_price_FBP.tail()"
   ]
  },
  {
   "cell_type": "code",
   "execution_count": 176,
   "metadata": {},
   "outputs": [],
   "source": [
    "df_train, df_test = split_train_test_chronological(df_bitcoin_price_FBP, 0.95)"
   ]
  },
  {
   "cell_type": "code",
   "execution_count": 179,
   "metadata": {},
   "outputs": [],
   "source": [
    "df_train, df_val = split_train_test_chronological(df_train, 0.95)"
   ]
  },
  {
   "cell_type": "code",
   "execution_count": null,
   "metadata": {},
   "outputs": [],
   "source": []
  },
  {
   "cell_type": "code",
   "execution_count": 180,
   "metadata": {},
   "outputs": [
    {
     "data": {
      "text/html": [
       "<div>\n",
       "<style scoped>\n",
       "    .dataframe tbody tr th:only-of-type {\n",
       "        vertical-align: middle;\n",
       "    }\n",
       "\n",
       "    .dataframe tbody tr th {\n",
       "        vertical-align: top;\n",
       "    }\n",
       "\n",
       "    .dataframe thead th {\n",
       "        text-align: right;\n",
       "    }\n",
       "</style>\n",
       "<table border=\"1\" class=\"dataframe\">\n",
       "  <thead>\n",
       "    <tr style=\"text-align: right;\">\n",
       "      <th></th>\n",
       "      <th>ds</th>\n",
       "      <th>y</th>\n",
       "    </tr>\n",
       "  </thead>\n",
       "  <tbody>\n",
       "    <tr>\n",
       "      <th>31798</th>\n",
       "      <td>2019-01-17 14:00:00</td>\n",
       "      <td>3587.82</td>\n",
       "    </tr>\n",
       "    <tr>\n",
       "      <th>31799</th>\n",
       "      <td>2019-01-17 15:00:00</td>\n",
       "      <td>3602.70</td>\n",
       "    </tr>\n",
       "    <tr>\n",
       "      <th>31800</th>\n",
       "      <td>2019-01-17 16:00:00</td>\n",
       "      <td>3618.30</td>\n",
       "    </tr>\n",
       "  </tbody>\n",
       "</table>\n",
       "</div>"
      ],
      "text/plain": [
       "                       ds        y\n",
       "31798 2019-01-17 14:00:00  3587.82\n",
       "31799 2019-01-17 15:00:00  3602.70\n",
       "31800 2019-01-17 16:00:00  3618.30"
      ]
     },
     "execution_count": 180,
     "metadata": {},
     "output_type": "execute_result"
    }
   ],
   "source": [
    "df_train.tail(3)"
   ]
  },
  {
   "cell_type": "code",
   "execution_count": 181,
   "metadata": {},
   "outputs": [
    {
     "data": {
      "text/html": [
       "<div>\n",
       "<style scoped>\n",
       "    .dataframe tbody tr th:only-of-type {\n",
       "        vertical-align: middle;\n",
       "    }\n",
       "\n",
       "    .dataframe tbody tr th {\n",
       "        vertical-align: top;\n",
       "    }\n",
       "\n",
       "    .dataframe thead th {\n",
       "        text-align: right;\n",
       "    }\n",
       "</style>\n",
       "<table border=\"1\" class=\"dataframe\">\n",
       "  <thead>\n",
       "    <tr style=\"text-align: right;\">\n",
       "      <th></th>\n",
       "      <th>ds</th>\n",
       "      <th>y</th>\n",
       "    </tr>\n",
       "  </thead>\n",
       "  <tbody>\n",
       "    <tr>\n",
       "      <th>31801</th>\n",
       "      <td>2019-01-17 17:00:00</td>\n",
       "      <td>3610.16</td>\n",
       "    </tr>\n",
       "    <tr>\n",
       "      <th>31802</th>\n",
       "      <td>2019-01-17 18:00:00</td>\n",
       "      <td>3630.46</td>\n",
       "    </tr>\n",
       "    <tr>\n",
       "      <th>31803</th>\n",
       "      <td>2019-01-17 19:00:00</td>\n",
       "      <td>3628.71</td>\n",
       "    </tr>\n",
       "  </tbody>\n",
       "</table>\n",
       "</div>"
      ],
      "text/plain": [
       "                       ds        y\n",
       "31801 2019-01-17 17:00:00  3610.16\n",
       "31802 2019-01-17 18:00:00  3630.46\n",
       "31803 2019-01-17 19:00:00  3628.71"
      ]
     },
     "execution_count": 181,
     "metadata": {},
     "output_type": "execute_result"
    }
   ],
   "source": [
    "df_val.head(3)"
   ]
  },
  {
   "cell_type": "code",
   "execution_count": 182,
   "metadata": {},
   "outputs": [
    {
     "data": {
      "text/html": [
       "<div>\n",
       "<style scoped>\n",
       "    .dataframe tbody tr th:only-of-type {\n",
       "        vertical-align: middle;\n",
       "    }\n",
       "\n",
       "    .dataframe tbody tr th {\n",
       "        vertical-align: top;\n",
       "    }\n",
       "\n",
       "    .dataframe thead th {\n",
       "        text-align: right;\n",
       "    }\n",
       "</style>\n",
       "<table border=\"1\" class=\"dataframe\">\n",
       "  <thead>\n",
       "    <tr style=\"text-align: right;\">\n",
       "      <th></th>\n",
       "      <th>ds</th>\n",
       "      <th>y</th>\n",
       "    </tr>\n",
       "  </thead>\n",
       "  <tbody>\n",
       "    <tr>\n",
       "      <th>33472</th>\n",
       "      <td>2019-03-28 08:00:00</td>\n",
       "      <td>4005.74</td>\n",
       "    </tr>\n",
       "    <tr>\n",
       "      <th>33473</th>\n",
       "      <td>2019-03-28 09:00:00</td>\n",
       "      <td>4006.11</td>\n",
       "    </tr>\n",
       "    <tr>\n",
       "      <th>33474</th>\n",
       "      <td>2019-03-28 10:00:00</td>\n",
       "      <td>4004.59</td>\n",
       "    </tr>\n",
       "  </tbody>\n",
       "</table>\n",
       "</div>"
      ],
      "text/plain": [
       "                       ds        y\n",
       "33472 2019-03-28 08:00:00  4005.74\n",
       "33473 2019-03-28 09:00:00  4006.11\n",
       "33474 2019-03-28 10:00:00  4004.59"
      ]
     },
     "execution_count": 182,
     "metadata": {},
     "output_type": "execute_result"
    }
   ],
   "source": [
    "df_val.tail(3)"
   ]
  },
  {
   "cell_type": "code",
   "execution_count": 183,
   "metadata": {},
   "outputs": [
    {
     "data": {
      "text/html": [
       "<div>\n",
       "<style scoped>\n",
       "    .dataframe tbody tr th:only-of-type {\n",
       "        vertical-align: middle;\n",
       "    }\n",
       "\n",
       "    .dataframe tbody tr th {\n",
       "        vertical-align: top;\n",
       "    }\n",
       "\n",
       "    .dataframe thead th {\n",
       "        text-align: right;\n",
       "    }\n",
       "</style>\n",
       "<table border=\"1\" class=\"dataframe\">\n",
       "  <thead>\n",
       "    <tr style=\"text-align: right;\">\n",
       "      <th></th>\n",
       "      <th>ds</th>\n",
       "      <th>y</th>\n",
       "    </tr>\n",
       "  </thead>\n",
       "  <tbody>\n",
       "    <tr>\n",
       "      <th>33475</th>\n",
       "      <td>2019-03-28 11:00:00</td>\n",
       "      <td>4002.83</td>\n",
       "    </tr>\n",
       "    <tr>\n",
       "      <th>33476</th>\n",
       "      <td>2019-03-28 12:00:00</td>\n",
       "      <td>4002.23</td>\n",
       "    </tr>\n",
       "    <tr>\n",
       "      <th>33477</th>\n",
       "      <td>2019-03-28 13:00:00</td>\n",
       "      <td>4007.81</td>\n",
       "    </tr>\n",
       "  </tbody>\n",
       "</table>\n",
       "</div>"
      ],
      "text/plain": [
       "                       ds        y\n",
       "33475 2019-03-28 11:00:00  4002.83\n",
       "33476 2019-03-28 12:00:00  4002.23\n",
       "33477 2019-03-28 13:00:00  4007.81"
      ]
     },
     "execution_count": 183,
     "metadata": {},
     "output_type": "execute_result"
    }
   ],
   "source": [
    "df_test.head(3)"
   ]
  },
  {
   "cell_type": "code",
   "execution_count": 184,
   "metadata": {},
   "outputs": [
    {
     "data": {
      "text/html": [
       "<div>\n",
       "<style scoped>\n",
       "    .dataframe tbody tr th:only-of-type {\n",
       "        vertical-align: middle;\n",
       "    }\n",
       "\n",
       "    .dataframe tbody tr th {\n",
       "        vertical-align: top;\n",
       "    }\n",
       "\n",
       "    .dataframe thead th {\n",
       "        text-align: right;\n",
       "    }\n",
       "</style>\n",
       "<table border=\"1\" class=\"dataframe\">\n",
       "  <thead>\n",
       "    <tr style=\"text-align: right;\">\n",
       "      <th></th>\n",
       "      <th>ds</th>\n",
       "      <th>y</th>\n",
       "    </tr>\n",
       "  </thead>\n",
       "  <tbody>\n",
       "    <tr>\n",
       "      <th>35232</th>\n",
       "      <td>2019-06-09 16:00:00</td>\n",
       "      <td>7664.22</td>\n",
       "    </tr>\n",
       "    <tr>\n",
       "      <th>35233</th>\n",
       "      <td>2019-06-09 17:00:00</td>\n",
       "      <td>7645.34</td>\n",
       "    </tr>\n",
       "    <tr>\n",
       "      <th>35234</th>\n",
       "      <td>2019-06-09 18:00:00</td>\n",
       "      <td>7678.13</td>\n",
       "    </tr>\n",
       "    <tr>\n",
       "      <th>35235</th>\n",
       "      <td>2019-06-09 19:00:00</td>\n",
       "      <td>7711.10</td>\n",
       "    </tr>\n",
       "    <tr>\n",
       "      <th>35236</th>\n",
       "      <td>2019-06-09 20:00:00</td>\n",
       "      <td>7728.32</td>\n",
       "    </tr>\n",
       "  </tbody>\n",
       "</table>\n",
       "</div>"
      ],
      "text/plain": [
       "                       ds        y\n",
       "35232 2019-06-09 16:00:00  7664.22\n",
       "35233 2019-06-09 17:00:00  7645.34\n",
       "35234 2019-06-09 18:00:00  7678.13\n",
       "35235 2019-06-09 19:00:00  7711.10\n",
       "35236 2019-06-09 20:00:00  7728.32"
      ]
     },
     "execution_count": 184,
     "metadata": {},
     "output_type": "execute_result"
    }
   ],
   "source": [
    "df_test.tail()"
   ]
  },
  {
   "cell_type": "code",
   "execution_count": 174,
   "metadata": {},
   "outputs": [
    {
     "data": {
      "text/html": [
       "<div>\n",
       "<style scoped>\n",
       "    .dataframe tbody tr th:only-of-type {\n",
       "        vertical-align: middle;\n",
       "    }\n",
       "\n",
       "    .dataframe tbody tr th {\n",
       "        vertical-align: top;\n",
       "    }\n",
       "\n",
       "    .dataframe thead th {\n",
       "        text-align: right;\n",
       "    }\n",
       "</style>\n",
       "<table border=\"1\" class=\"dataframe\">\n",
       "  <thead>\n",
       "    <tr style=\"text-align: right;\">\n",
       "      <th></th>\n",
       "      <th>ds</th>\n",
       "      <th>y</th>\n",
       "    </tr>\n",
       "  </thead>\n",
       "  <tbody>\n",
       "    <tr>\n",
       "      <th>35234</th>\n",
       "      <td>2019-06-09 18:00:00</td>\n",
       "      <td>7678.13</td>\n",
       "    </tr>\n",
       "    <tr>\n",
       "      <th>35235</th>\n",
       "      <td>2019-06-09 19:00:00</td>\n",
       "      <td>7711.10</td>\n",
       "    </tr>\n",
       "    <tr>\n",
       "      <th>35236</th>\n",
       "      <td>2019-06-09 20:00:00</td>\n",
       "      <td>7728.32</td>\n",
       "    </tr>\n",
       "  </tbody>\n",
       "</table>\n",
       "</div>"
      ],
      "text/plain": [
       "                       ds        y\n",
       "35234 2019-06-09 18:00:00  7678.13\n",
       "35235 2019-06-09 19:00:00  7711.10\n",
       "35236 2019-06-09 20:00:00  7728.32"
      ]
     },
     "execution_count": 174,
     "metadata": {},
     "output_type": "execute_result"
    }
   ],
   "source": [
    "df_bitcoin_price_FBP.tail(3)"
   ]
  },
  {
   "cell_type": "markdown",
   "metadata": {},
   "source": [
    "## FB Prophet Baseline"
   ]
  },
  {
   "cell_type": "code",
   "execution_count": 72,
   "metadata": {},
   "outputs": [],
   "source": [
    "proph = Prophet()"
   ]
  },
  {
   "cell_type": "code",
   "execution_count": 73,
   "metadata": {},
   "outputs": [
    {
     "data": {
      "text/plain": [
       "<fbprophet.forecaster.Prophet at 0x1c2657cd68>"
      ]
     },
     "execution_count": 73,
     "metadata": {},
     "output_type": "execute_result"
    }
   ],
   "source": [
    "proph.fit(df_bitcoin_train)"
   ]
  },
  {
   "cell_type": "code",
   "execution_count": null,
   "metadata": {},
   "outputs": [],
   "source": []
  }
 ],
 "metadata": {
  "kernelspec": {
   "display_name": "Python 3",
   "language": "python",
   "name": "python3"
  },
  "language_info": {
   "codemirror_mode": {
    "name": "ipython",
    "version": 3
   },
   "file_extension": ".py",
   "mimetype": "text/x-python",
   "name": "python",
   "nbconvert_exporter": "python",
   "pygments_lexer": "ipython3",
   "version": "3.7.3"
  }
 },
 "nbformat": 4,
 "nbformat_minor": 2
}
