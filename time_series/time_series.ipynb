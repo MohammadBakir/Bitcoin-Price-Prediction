{
 "cells": [
  {
   "cell_type": "markdown",
   "metadata": {},
   "source": [
    "## Importing the libraries"
   ]
  },
  {
   "cell_type": "code",
   "execution_count": 1,
   "metadata": {},
   "outputs": [
    {
     "name": "stderr",
     "output_type": "stream",
     "text": [
      "Using TensorFlow backend.\n"
     ]
    }
   ],
   "source": [
    "import pandas as pd\n",
    "import numpy as np\n",
    "import seaborn as sns\n",
    "import matplotlib.pyplot as plt\n",
    "import matplotlib.mlab as mlab\n",
    "\n",
    "import statsmodels.api as sm\n",
    "import statsmodels.tsa.api as smt\n",
    "from statsmodels.tsa.arima_model import ARIMA\n",
    "import statsmodels.tsa.stattools as ts\n",
    "from statsmodels.tsa.stattools import adfuller\n",
    "\n",
    "from fbprophet import Prophet\n",
    "\n",
    "import math\n",
    "\n",
    "# import pyflux as pf\n",
    "\n",
    "import warnings\n",
    "warnings.filterwarnings('ignore')\n",
    "\n",
    "import itertools\n",
    "\n",
    "from sklearn.linear_model import LinearRegression\n",
    "from sklearn.linear_model import RidgeCV\n",
    "\n",
    "from sklearn.model_selection import TimeSeriesSplit\n",
    "\n",
    "from pandas.plotting import autocorrelation_plot\n",
    "\n",
    "import re\n",
    "\n",
    "import sys\n",
    "import os\n",
    "\n",
    "from functools import reduce\n",
    "\n",
    "import keras\n",
    "from keras.models import Sequential, Model\n",
    "from keras.layers import Dense, Activation, Dropout, Input, LSTM\n",
    "#from keras.layers import Concatenate\n",
    "from keras.utils import np_utils\n",
    "from keras.utils.np_utils import to_categorical\n",
    "from keras.utils.data_utils import get_file\n",
    "from keras.preprocessing.text import Tokenizer\n",
    "from keras.utils.vis_utils import model_to_dot, plot_model\n",
    "from keras.datasets import imdb, reuters\n",
    "from keras.preprocessing import sequence\n",
    "from keras.optimizers import SGD, RMSprop\n",
    "\n",
    "from sklearn.preprocessing import StandardScaler\n",
    "\n",
    "import pickle\n",
    "\n",
    "from numpy.random import seed\n",
    "\n",
    "from tensorflow import set_random_seed"
   ]
  },
  {
   "cell_type": "code",
   "execution_count": 2,
   "metadata": {},
   "outputs": [],
   "source": [
    "seed(2019)\n",
    "set_random_seed(2019)"
   ]
  },
  {
   "cell_type": "markdown",
   "metadata": {},
   "source": [
    "## Helper Functions"
   ]
  },
  {
   "cell_type": "code",
   "execution_count": 3,
   "metadata": {},
   "outputs": [],
   "source": [
    "def calc_RMSE(validation_data, prediction_data):\n",
    "   \"\"\"\n",
    "   Calculate RMSE\n",
    "   \"\"\"\n",
    "   a = np.array(validation_data)\n",
    "   b = np.array(prediction_data)\n",
    "\n",
    "   return np.sqrt(np.mean((b-a)**2))"
   ]
  },
  {
   "cell_type": "code",
   "execution_count": 4,
   "metadata": {},
   "outputs": [],
   "source": [
    "def get_fuller_test(series):\n",
    "    values = series.values\n",
    "    result = adfuller(values)\n",
    "    print('ADF Statistic: %f' % result[0])\n",
    "    print('p-value: %f' % result[1])\n",
    "    print('Critical Values:')\n",
    "    for key, value in result[4].items():\n",
    "        print('\\t%s: %.3f' % (key, value))"
   ]
  },
  {
   "cell_type": "code",
   "execution_count": 5,
   "metadata": {},
   "outputs": [],
   "source": [
    "def make_plots(data, lags=None):\n",
    "    '''\n",
    "    plotting the data with specified number of lags.\n",
    "    plotting raw data, then ACF and PACF\n",
    "    '''\n",
    "    layout = (1, 3)\n",
    "    raw  = plt.subplot2grid(layout, (0, 0))\n",
    "    acf  = plt.subplot2grid(layout, (0, 1))\n",
    "    pacf = plt.subplot2grid(layout, (0, 2))\n",
    "    \n",
    "    data.plot(ax = raw, figsize=(12, 6))\n",
    "    smt.graphics.plot_acf(data, lags = lags, ax = acf)\n",
    "    smt.graphics.plot_pacf(data, lags = lags, ax = pacf)\n",
    "    sns.despine()\n",
    "    plt.tight_layout()"
   ]
  },
  {
   "cell_type": "code",
   "execution_count": 6,
   "metadata": {},
   "outputs": [],
   "source": [
    "def make_plots_2(data, lags=None):\n",
    "    '''\n",
    "    plotting rolling mean, rolling std and original as per number of lags\n",
    "    '''\n",
    "    rolling_mean = data.rolling(window = lags).mean()\n",
    "    rolling_std = data.rolling(window = lags).std()\n",
    "    \n",
    "    original = plt.plot(data, color='black',label = 'Original Timeseries')\n",
    "    mean = plt.plot(rolling_mean, color='red', label = 'Rolling Mean')\n",
    "    std = plt.plot(rolling_std, color='orange', label = 'Rolling Std')\n",
    "    plt.legend(loc='best')\n",
    "    plt.title('Original, Rolling Mean, Standard Deviation')\n",
    "    sns.despine()\n",
    "    plt.show()"
   ]
  },
  {
   "cell_type": "code",
   "execution_count": 7,
   "metadata": {},
   "outputs": [],
   "source": [
    "def split_train_test_chronological(df, ratio = 0.9):\n",
    "    \n",
    "    '''\n",
    "    Input is a dataframe, and a ratio. Splits dataframe into 2 dataframes chronologically.\n",
    "    Returns first dataframe up to the index of the length of the input dataframe times the input ratio, \n",
    "    and returns second dataframe of remaining elements.\n",
    "    '''\n",
    "    \n",
    "    size = len(df) * ratio\n",
    "    size_round = round(size)\n",
    "    \n",
    "    df_train = df[0:(size_round)]\n",
    "    df_test = df[size_round:]\n",
    "    \n",
    "    return df_train, df_test"
   ]
  },
  {
   "cell_type": "markdown",
   "metadata": {},
   "source": [
    "## Importing data"
   ]
  },
  {
   "cell_type": "code",
   "execution_count": 8,
   "metadata": {},
   "outputs": [],
   "source": [
    "df_bitcoin_price = pd.read_pickle('../crypto_currency_and_market_value_history/data/bitcoin_4_year_hourly_history_df.pickle')"
   ]
  },
  {
   "cell_type": "code",
   "execution_count": 9,
   "metadata": {},
   "outputs": [
    {
     "data": {
      "text/html": [
       "<div>\n",
       "<style scoped>\n",
       "    .dataframe tbody tr th:only-of-type {\n",
       "        vertical-align: middle;\n",
       "    }\n",
       "\n",
       "    .dataframe tbody tr th {\n",
       "        vertical-align: top;\n",
       "    }\n",
       "\n",
       "    .dataframe thead th {\n",
       "        text-align: right;\n",
       "    }\n",
       "</style>\n",
       "<table border=\"1\" class=\"dataframe\">\n",
       "  <thead>\n",
       "    <tr style=\"text-align: right;\">\n",
       "      <th></th>\n",
       "      <th>timestamp</th>\n",
       "      <th>open</th>\n",
       "      <th>high</th>\n",
       "      <th>low</th>\n",
       "      <th>close</th>\n",
       "      <th>volume (btc)</th>\n",
       "      <th>volume (currency)</th>\n",
       "      <th>weighted price</th>\n",
       "    </tr>\n",
       "  </thead>\n",
       "  <tbody>\n",
       "    <tr>\n",
       "      <th>0</th>\n",
       "      <td>2015-05-31 00:00:00</td>\n",
       "      <td>232.11</td>\n",
       "      <td>232.11</td>\n",
       "      <td>231.92</td>\n",
       "      <td>231.92</td>\n",
       "      <td>223.37</td>\n",
       "      <td>51822.18</td>\n",
       "      <td>232.00</td>\n",
       "    </tr>\n",
       "    <tr>\n",
       "      <th>1</th>\n",
       "      <td>2015-05-31 01:00:00</td>\n",
       "      <td>231.88</td>\n",
       "      <td>232.32</td>\n",
       "      <td>231.87</td>\n",
       "      <td>232.32</td>\n",
       "      <td>217.49</td>\n",
       "      <td>50452.68</td>\n",
       "      <td>231.98</td>\n",
       "    </tr>\n",
       "    <tr>\n",
       "      <th>2</th>\n",
       "      <td>2015-05-31 02:00:00</td>\n",
       "      <td>231.97</td>\n",
       "      <td>232.51</td>\n",
       "      <td>231.88</td>\n",
       "      <td>232.51</td>\n",
       "      <td>46.45</td>\n",
       "      <td>10782.23</td>\n",
       "      <td>232.14</td>\n",
       "    </tr>\n",
       "  </tbody>\n",
       "</table>\n",
       "</div>"
      ],
      "text/plain": [
       "            timestamp    open    high     low   close  volume (btc)  \\\n",
       "0 2015-05-31 00:00:00  232.11  232.11  231.92  231.92        223.37   \n",
       "1 2015-05-31 01:00:00  231.88  232.32  231.87  232.32        217.49   \n",
       "2 2015-05-31 02:00:00  231.97  232.51  231.88  232.51         46.45   \n",
       "\n",
       "   volume (currency)  weighted price  \n",
       "0           51822.18          232.00  \n",
       "1           50452.68          231.98  \n",
       "2           10782.23          232.14  "
      ]
     },
     "execution_count": 9,
     "metadata": {},
     "output_type": "execute_result"
    }
   ],
   "source": [
    "df_bitcoin_price.head(3)"
   ]
  },
  {
   "cell_type": "code",
   "execution_count": 10,
   "metadata": {},
   "outputs": [],
   "source": [
    "df_vix_daily = pd.read_pickle('../crypto_currency_and_market_value_history/data/vix_volatility_daily_change_history_df.pickle')\n"
   ]
  },
  {
   "cell_type": "code",
   "execution_count": 11,
   "metadata": {
    "scrolled": true
   },
   "outputs": [
    {
     "data": {
      "text/html": [
       "<div>\n",
       "<style scoped>\n",
       "    .dataframe tbody tr th:only-of-type {\n",
       "        vertical-align: middle;\n",
       "    }\n",
       "\n",
       "    .dataframe tbody tr th {\n",
       "        vertical-align: top;\n",
       "    }\n",
       "\n",
       "    .dataframe thead th {\n",
       "        text-align: right;\n",
       "    }\n",
       "</style>\n",
       "<table border=\"1\" class=\"dataframe\">\n",
       "  <thead>\n",
       "    <tr style=\"text-align: right;\">\n",
       "      <th></th>\n",
       "      <th>trade date</th>\n",
       "      <th>open</th>\n",
       "      <th>high</th>\n",
       "      <th>low</th>\n",
       "      <th>close</th>\n",
       "      <th>settle</th>\n",
       "      <th>change</th>\n",
       "      <th>total volume</th>\n",
       "    </tr>\n",
       "  </thead>\n",
       "  <tbody>\n",
       "    <tr>\n",
       "      <th>0</th>\n",
       "      <td>2019-06-07</td>\n",
       "      <td>-0.014837</td>\n",
       "      <td>-0.019264</td>\n",
       "      <td>-0.006116</td>\n",
       "      <td>0.006591</td>\n",
       "      <td>0.015175</td>\n",
       "      <td>-2.666667</td>\n",
       "      <td>-0.066600</td>\n",
       "    </tr>\n",
       "    <tr>\n",
       "      <th>1</th>\n",
       "      <td>2019-06-06</td>\n",
       "      <td>-0.023754</td>\n",
       "      <td>-0.021143</td>\n",
       "      <td>-0.015060</td>\n",
       "      <td>0.002402</td>\n",
       "      <td>-0.009023</td>\n",
       "      <td>-0.750000</td>\n",
       "      <td>-0.038795</td>\n",
       "    </tr>\n",
       "    <tr>\n",
       "      <th>2</th>\n",
       "      <td>2019-06-05</td>\n",
       "      <td>-0.054247</td>\n",
       "      <td>-0.047360</td>\n",
       "      <td>-0.034884</td>\n",
       "      <td>-0.032539</td>\n",
       "      <td>-0.034833</td>\n",
       "      <td>-0.428571</td>\n",
       "      <td>-0.149433</td>\n",
       "    </tr>\n",
       "  </tbody>\n",
       "</table>\n",
       "</div>"
      ],
      "text/plain": [
       "  trade date      open      high       low     close    settle    change  \\\n",
       "0 2019-06-07 -0.014837 -0.019264 -0.006116  0.006591  0.015175 -2.666667   \n",
       "1 2019-06-06 -0.023754 -0.021143 -0.015060  0.002402 -0.009023 -0.750000   \n",
       "2 2019-06-05 -0.054247 -0.047360 -0.034884 -0.032539 -0.034833 -0.428571   \n",
       "\n",
       "   total volume  \n",
       "0     -0.066600  \n",
       "1     -0.038795  \n",
       "2     -0.149433  "
      ]
     },
     "execution_count": 11,
     "metadata": {},
     "output_type": "execute_result"
    }
   ],
   "source": [
    "df_vix_daily.head(3)"
   ]
  },
  {
   "cell_type": "code",
   "execution_count": 12,
   "metadata": {},
   "outputs": [],
   "source": [
    "df_vix_hourly = pd.read_pickle('../crypto_currency_and_market_value_history/data/vix_volatility_hourly_history_df.pickle')\n"
   ]
  },
  {
   "cell_type": "code",
   "execution_count": 13,
   "metadata": {},
   "outputs": [
    {
     "data": {
      "text/html": [
       "<div>\n",
       "<style scoped>\n",
       "    .dataframe tbody tr th:only-of-type {\n",
       "        vertical-align: middle;\n",
       "    }\n",
       "\n",
       "    .dataframe tbody tr th {\n",
       "        vertical-align: top;\n",
       "    }\n",
       "\n",
       "    .dataframe thead th {\n",
       "        text-align: right;\n",
       "    }\n",
       "</style>\n",
       "<table border=\"1\" class=\"dataframe\">\n",
       "  <thead>\n",
       "    <tr style=\"text-align: right;\">\n",
       "      <th></th>\n",
       "      <th>Local time</th>\n",
       "      <th>Open</th>\n",
       "      <th>High</th>\n",
       "      <th>Low</th>\n",
       "      <th>Close</th>\n",
       "      <th>Volume</th>\n",
       "      <th>local_time</th>\n",
       "    </tr>\n",
       "  </thead>\n",
       "  <tbody>\n",
       "    <tr>\n",
       "      <th>0</th>\n",
       "      <td>26.01.2017 00:00:00.000 GMT-0800</td>\n",
       "      <td>19.14</td>\n",
       "      <td>19.14</td>\n",
       "      <td>19.14</td>\n",
       "      <td>19.14</td>\n",
       "      <td>0.0</td>\n",
       "      <td>2017-01-25 16:00:00+00:00</td>\n",
       "    </tr>\n",
       "    <tr>\n",
       "      <th>1</th>\n",
       "      <td>26.01.2017 01:00:00.000 GMT-0800</td>\n",
       "      <td>19.14</td>\n",
       "      <td>19.14</td>\n",
       "      <td>19.14</td>\n",
       "      <td>19.14</td>\n",
       "      <td>0.0</td>\n",
       "      <td>2017-01-25 17:00:00+00:00</td>\n",
       "    </tr>\n",
       "    <tr>\n",
       "      <th>2</th>\n",
       "      <td>26.01.2017 02:00:00.000 GMT-0800</td>\n",
       "      <td>19.14</td>\n",
       "      <td>19.14</td>\n",
       "      <td>19.14</td>\n",
       "      <td>19.14</td>\n",
       "      <td>0.0</td>\n",
       "      <td>2017-01-25 18:00:00+00:00</td>\n",
       "    </tr>\n",
       "  </tbody>\n",
       "</table>\n",
       "</div>"
      ],
      "text/plain": [
       "                         Local time   Open   High    Low  Close  Volume  \\\n",
       "0  26.01.2017 00:00:00.000 GMT-0800  19.14  19.14  19.14  19.14     0.0   \n",
       "1  26.01.2017 01:00:00.000 GMT-0800  19.14  19.14  19.14  19.14     0.0   \n",
       "2  26.01.2017 02:00:00.000 GMT-0800  19.14  19.14  19.14  19.14     0.0   \n",
       "\n",
       "                 local_time  \n",
       "0 2017-01-25 16:00:00+00:00  \n",
       "1 2017-01-25 17:00:00+00:00  \n",
       "2 2017-01-25 18:00:00+00:00  "
      ]
     },
     "execution_count": 13,
     "metadata": {},
     "output_type": "execute_result"
    }
   ],
   "source": [
    "df_vix_hourly.head(3)"
   ]
  },
  {
   "cell_type": "code",
   "execution_count": 14,
   "metadata": {},
   "outputs": [],
   "source": [
    "# df_vix_hourly.local_time.value_counts()"
   ]
  },
  {
   "cell_type": "code",
   "execution_count": 15,
   "metadata": {},
   "outputs": [],
   "source": [
    "df_gold = pd.read_csv('../crypto_currency_and_market_value_history/data/gold_hourly_data.csv', sep = ';')"
   ]
  },
  {
   "cell_type": "code",
   "execution_count": 16,
   "metadata": {
    "scrolled": true
   },
   "outputs": [
    {
     "data": {
      "text/html": [
       "<div>\n",
       "<style scoped>\n",
       "    .dataframe tbody tr th:only-of-type {\n",
       "        vertical-align: middle;\n",
       "    }\n",
       "\n",
       "    .dataframe tbody tr th {\n",
       "        vertical-align: top;\n",
       "    }\n",
       "\n",
       "    .dataframe thead th {\n",
       "        text-align: right;\n",
       "    }\n",
       "</style>\n",
       "<table border=\"1\" class=\"dataframe\">\n",
       "  <thead>\n",
       "    <tr style=\"text-align: right;\">\n",
       "      <th></th>\n",
       "      <th>Date</th>\n",
       "      <th>Compound_Score</th>\n",
       "      <th>n</th>\n",
       "      <th>Count_Negatives</th>\n",
       "      <th>Count_Positives</th>\n",
       "      <th>Count_Neutrals</th>\n",
       "      <th>Sent_Negatives</th>\n",
       "      <th>Sent_Positives</th>\n",
       "      <th>Open</th>\n",
       "      <th>High</th>\n",
       "      <th>Low</th>\n",
       "      <th>Close</th>\n",
       "      <th>Volume (BTC)</th>\n",
       "      <th>Volume (Currency)</th>\n",
       "    </tr>\n",
       "  </thead>\n",
       "  <tbody>\n",
       "    <tr>\n",
       "      <th>12933</th>\n",
       "      <td>21/01/2019 21:00</td>\n",
       "      <td>0.131914</td>\n",
       "      <td>917.0</td>\n",
       "      <td>186.0</td>\n",
       "      <td>421.0</td>\n",
       "      <td>310.0</td>\n",
       "      <td>-0.470776</td>\n",
       "      <td>0.495320</td>\n",
       "      <td>3580.26</td>\n",
       "      <td>3582.38</td>\n",
       "      <td>3559.74</td>\n",
       "      <td>3560.70</td>\n",
       "      <td>117607867</td>\n",
       "      <td>2670000000000000,00</td>\n",
       "    </tr>\n",
       "    <tr>\n",
       "      <th>12934</th>\n",
       "      <td>21/01/2019 22:00</td>\n",
       "      <td>0.082912</td>\n",
       "      <td>929.0</td>\n",
       "      <td>247.0</td>\n",
       "      <td>377.0</td>\n",
       "      <td>305.0</td>\n",
       "      <td>-0.409633</td>\n",
       "      <td>0.472690</td>\n",
       "      <td>3561.58</td>\n",
       "      <td>3569.04</td>\n",
       "      <td>3535.19</td>\n",
       "      <td>3567.92</td>\n",
       "      <td>18324.54</td>\n",
       "      <td>2750000000000000,00</td>\n",
       "    </tr>\n",
       "    <tr>\n",
       "      <th>12935</th>\n",
       "      <td>21/01/2019 23:00</td>\n",
       "      <td>0.122160</td>\n",
       "      <td>899.0</td>\n",
       "      <td>168.0</td>\n",
       "      <td>355.0</td>\n",
       "      <td>376.0</td>\n",
       "      <td>-0.372583</td>\n",
       "      <td>0.485678</td>\n",
       "      <td>3569.34</td>\n",
       "      <td>3579.33</td>\n",
       "      <td>3569.34</td>\n",
       "      <td>3573.67</td>\n",
       "      <td>10105.2</td>\n",
       "      <td>2760000000000000,00</td>\n",
       "    </tr>\n",
       "  </tbody>\n",
       "</table>\n",
       "</div>"
      ],
      "text/plain": [
       "                   Date  Compound_Score      n  Count_Negatives  \\\n",
       "12933  21/01/2019 21:00        0.131914  917.0            186.0   \n",
       "12934  21/01/2019 22:00        0.082912  929.0            247.0   \n",
       "12935  21/01/2019 23:00        0.122160  899.0            168.0   \n",
       "\n",
       "       Count_Positives  Count_Neutrals  Sent_Negatives  Sent_Positives  \\\n",
       "12933            421.0           310.0       -0.470776        0.495320   \n",
       "12934            377.0           305.0       -0.409633        0.472690   \n",
       "12935            355.0           376.0       -0.372583        0.485678   \n",
       "\n",
       "          Open     High      Low    Close Volume (BTC)    Volume (Currency)  \n",
       "12933  3580.26  3582.38  3559.74  3560.70    117607867  2670000000000000,00  \n",
       "12934  3561.58  3569.04  3535.19  3567.92     18324.54  2750000000000000,00  \n",
       "12935  3569.34  3579.33  3569.34  3573.67      10105.2  2760000000000000,00  "
      ]
     },
     "execution_count": 16,
     "metadata": {},
     "output_type": "execute_result"
    }
   ],
   "source": [
    "df_gold.tail(3)"
   ]
  },
  {
   "cell_type": "code",
   "execution_count": null,
   "metadata": {},
   "outputs": [],
   "source": []
  },
  {
   "cell_type": "markdown",
   "metadata": {},
   "source": [
    "## Preprocessing"
   ]
  },
  {
   "cell_type": "code",
   "execution_count": 78,
   "metadata": {},
   "outputs": [],
   "source": [
    "# df_vix = df_vix.sort_values(by=['trade date']).reset_index()"
   ]
  },
  {
   "cell_type": "code",
   "execution_count": 79,
   "metadata": {},
   "outputs": [],
   "source": [
    "# df_vix.head(3)"
   ]
  },
  {
   "cell_type": "code",
   "execution_count": 80,
   "metadata": {},
   "outputs": [],
   "source": [
    "# df_vix.drop(['index'], axis = 1, inplace = True)"
   ]
  },
  {
   "cell_type": "code",
   "execution_count": 81,
   "metadata": {},
   "outputs": [],
   "source": [
    "# df_vix.tail(3)"
   ]
  },
  {
   "cell_type": "code",
   "execution_count": null,
   "metadata": {},
   "outputs": [],
   "source": []
  },
  {
   "cell_type": "markdown",
   "metadata": {},
   "source": [
    "## Processing for FB Prophet"
   ]
  },
  {
   "cell_type": "code",
   "execution_count": 20,
   "metadata": {},
   "outputs": [],
   "source": [
    "df_bitcoin_price_FBP = df_bitcoin_price.copy()"
   ]
  },
  {
   "cell_type": "code",
   "execution_count": 21,
   "metadata": {},
   "outputs": [],
   "source": [
    "df_bitcoin_price_FBP.rename(columns={'timestamp': 'ds', 'weighted price': 'y'}, inplace=True)"
   ]
  },
  {
   "cell_type": "code",
   "execution_count": 22,
   "metadata": {},
   "outputs": [],
   "source": [
    "df_bitcoin_price_FBP = df_bitcoin_price_FBP[['ds', 'y']]"
   ]
  },
  {
   "cell_type": "code",
   "execution_count": 23,
   "metadata": {},
   "outputs": [],
   "source": [
    "df_bitcoin_price_FBP.ds = pd.to_datetime(df_bitcoin_price_FBP.ds, utc=True)"
   ]
  },
  {
   "cell_type": "code",
   "execution_count": 24,
   "metadata": {
    "scrolled": false
   },
   "outputs": [
    {
     "data": {
      "text/html": [
       "<div>\n",
       "<style scoped>\n",
       "    .dataframe tbody tr th:only-of-type {\n",
       "        vertical-align: middle;\n",
       "    }\n",
       "\n",
       "    .dataframe tbody tr th {\n",
       "        vertical-align: top;\n",
       "    }\n",
       "\n",
       "    .dataframe thead th {\n",
       "        text-align: right;\n",
       "    }\n",
       "</style>\n",
       "<table border=\"1\" class=\"dataframe\">\n",
       "  <thead>\n",
       "    <tr style=\"text-align: right;\">\n",
       "      <th></th>\n",
       "      <th>ds</th>\n",
       "      <th>y</th>\n",
       "    </tr>\n",
       "  </thead>\n",
       "  <tbody>\n",
       "    <tr>\n",
       "      <th>35232</th>\n",
       "      <td>2019-06-09 16:00:00+00:00</td>\n",
       "      <td>7664.22</td>\n",
       "    </tr>\n",
       "    <tr>\n",
       "      <th>35233</th>\n",
       "      <td>2019-06-09 17:00:00+00:00</td>\n",
       "      <td>7645.34</td>\n",
       "    </tr>\n",
       "    <tr>\n",
       "      <th>35234</th>\n",
       "      <td>2019-06-09 18:00:00+00:00</td>\n",
       "      <td>7678.13</td>\n",
       "    </tr>\n",
       "    <tr>\n",
       "      <th>35235</th>\n",
       "      <td>2019-06-09 19:00:00+00:00</td>\n",
       "      <td>7711.10</td>\n",
       "    </tr>\n",
       "    <tr>\n",
       "      <th>35236</th>\n",
       "      <td>2019-06-09 20:00:00+00:00</td>\n",
       "      <td>7728.32</td>\n",
       "    </tr>\n",
       "  </tbody>\n",
       "</table>\n",
       "</div>"
      ],
      "text/plain": [
       "                             ds        y\n",
       "35232 2019-06-09 16:00:00+00:00  7664.22\n",
       "35233 2019-06-09 17:00:00+00:00  7645.34\n",
       "35234 2019-06-09 18:00:00+00:00  7678.13\n",
       "35235 2019-06-09 19:00:00+00:00  7711.10\n",
       "35236 2019-06-09 20:00:00+00:00  7728.32"
      ]
     },
     "execution_count": 24,
     "metadata": {},
     "output_type": "execute_result"
    }
   ],
   "source": [
    "df_bitcoin_price_FBP.tail()"
   ]
  },
  {
   "cell_type": "code",
   "execution_count": 89,
   "metadata": {
    "scrolled": true
   },
   "outputs": [
    {
     "data": {
      "text/html": [
       "<div>\n",
       "<style scoped>\n",
       "    .dataframe tbody tr th:only-of-type {\n",
       "        vertical-align: middle;\n",
       "    }\n",
       "\n",
       "    .dataframe tbody tr th {\n",
       "        vertical-align: top;\n",
       "    }\n",
       "\n",
       "    .dataframe thead th {\n",
       "        text-align: right;\n",
       "    }\n",
       "</style>\n",
       "<table border=\"1\" class=\"dataframe\">\n",
       "  <thead>\n",
       "    <tr style=\"text-align: right;\">\n",
       "      <th></th>\n",
       "      <th>ds</th>\n",
       "      <th>y</th>\n",
       "    </tr>\n",
       "  </thead>\n",
       "  <tbody>\n",
       "    <tr>\n",
       "      <th>3670</th>\n",
       "      <td>2015-10-30 22:00:00+00:00</td>\n",
       "      <td>325.19</td>\n",
       "    </tr>\n",
       "    <tr>\n",
       "      <th>3671</th>\n",
       "      <td>2015-10-30 23:00:00+00:00</td>\n",
       "      <td>328.29</td>\n",
       "    </tr>\n",
       "    <tr>\n",
       "      <th>3672</th>\n",
       "      <td>2015-10-31 00:00:00+00:00</td>\n",
       "      <td>331.83</td>\n",
       "    </tr>\n",
       "    <tr>\n",
       "      <th>3673</th>\n",
       "      <td>2015-10-31 00:00:00+00:00</td>\n",
       "      <td>331.83</td>\n",
       "    </tr>\n",
       "    <tr>\n",
       "      <th>3674</th>\n",
       "      <td>2015-10-31 01:00:00+00:00</td>\n",
       "      <td>331.63</td>\n",
       "    </tr>\n",
       "    <tr>\n",
       "      <th>3675</th>\n",
       "      <td>2015-10-31 02:00:00+00:00</td>\n",
       "      <td>332.12</td>\n",
       "    </tr>\n",
       "    <tr>\n",
       "      <th>3676</th>\n",
       "      <td>2015-10-31 03:00:00+00:00</td>\n",
       "      <td>330.99</td>\n",
       "    </tr>\n",
       "    <tr>\n",
       "      <th>3677</th>\n",
       "      <td>2015-10-31 04:00:00+00:00</td>\n",
       "      <td>326.49</td>\n",
       "    </tr>\n",
       "  </tbody>\n",
       "</table>\n",
       "</div>"
      ],
      "text/plain": [
       "                            ds       y\n",
       "3670 2015-10-30 22:00:00+00:00  325.19\n",
       "3671 2015-10-30 23:00:00+00:00  328.29\n",
       "3672 2015-10-31 00:00:00+00:00  331.83\n",
       "3673 2015-10-31 00:00:00+00:00  331.83\n",
       "3674 2015-10-31 01:00:00+00:00  331.63\n",
       "3675 2015-10-31 02:00:00+00:00  332.12\n",
       "3676 2015-10-31 03:00:00+00:00  330.99\n",
       "3677 2015-10-31 04:00:00+00:00  326.49"
      ]
     },
     "execution_count": 89,
     "metadata": {},
     "output_type": "execute_result"
    }
   ],
   "source": []
  },
  {
   "cell_type": "code",
   "execution_count": 96,
   "metadata": {},
   "outputs": [
    {
     "data": {
      "text/html": [
       "<div>\n",
       "<style scoped>\n",
       "    .dataframe tbody tr th:only-of-type {\n",
       "        vertical-align: middle;\n",
       "    }\n",
       "\n",
       "    .dataframe tbody tr th {\n",
       "        vertical-align: top;\n",
       "    }\n",
       "\n",
       "    .dataframe thead th {\n",
       "        text-align: right;\n",
       "    }\n",
       "</style>\n",
       "<table border=\"1\" class=\"dataframe\">\n",
       "  <thead>\n",
       "    <tr style=\"text-align: right;\">\n",
       "      <th></th>\n",
       "      <th>ds</th>\n",
       "      <th>y</th>\n",
       "    </tr>\n",
       "  </thead>\n",
       "  <tbody>\n",
       "  </tbody>\n",
       "</table>\n",
       "</div>"
      ],
      "text/plain": [
       "Empty DataFrame\n",
       "Columns: [ds, y]\n",
       "Index: []"
      ]
     },
     "execution_count": 96,
     "metadata": {},
     "output_type": "execute_result"
    }
   ],
   "source": [
    "df_bitcoin_price_FBP[df_bitcoin_price_FBP.duplicated()]"
   ]
  },
  {
   "cell_type": "code",
   "execution_count": 94,
   "metadata": {},
   "outputs": [],
   "source": [
    "df_bitcoin_price_FBP.drop_duplicates(inplace=True)"
   ]
  },
  {
   "cell_type": "code",
   "execution_count": null,
   "metadata": {},
   "outputs": [],
   "source": []
  },
  {
   "cell_type": "markdown",
   "metadata": {},
   "source": [
    "Preprocessing df_vix_hourly"
   ]
  },
  {
   "cell_type": "code",
   "execution_count": 97,
   "metadata": {},
   "outputs": [],
   "source": [
    "df_vix_FBP = df_vix_hourly.copy()"
   ]
  },
  {
   "cell_type": "code",
   "execution_count": 98,
   "metadata": {},
   "outputs": [],
   "source": [
    "df_vix_FBP.rename(columns={'local_time': 'ds', 'Open': 'y'}, inplace=True)"
   ]
  },
  {
   "cell_type": "code",
   "execution_count": 99,
   "metadata": {},
   "outputs": [],
   "source": [
    "df_vix_FBP = df_vix_FBP[['ds', 'y']]"
   ]
  },
  {
   "cell_type": "code",
   "execution_count": 100,
   "metadata": {},
   "outputs": [],
   "source": [
    "df_vix_FBP.ds = pd.to_datetime(df_vix_FBP.ds, utc = True)"
   ]
  },
  {
   "cell_type": "code",
   "execution_count": 101,
   "metadata": {},
   "outputs": [],
   "source": [
    "df_vix_FBP.sort_values(by=['ds'], inplace = True)"
   ]
  },
  {
   "cell_type": "code",
   "execution_count": 102,
   "metadata": {},
   "outputs": [
    {
     "data": {
      "text/html": [
       "<div>\n",
       "<style scoped>\n",
       "    .dataframe tbody tr th:only-of-type {\n",
       "        vertical-align: middle;\n",
       "    }\n",
       "\n",
       "    .dataframe tbody tr th {\n",
       "        vertical-align: top;\n",
       "    }\n",
       "\n",
       "    .dataframe thead th {\n",
       "        text-align: right;\n",
       "    }\n",
       "</style>\n",
       "<table border=\"1\" class=\"dataframe\">\n",
       "  <thead>\n",
       "    <tr style=\"text-align: right;\">\n",
       "      <th></th>\n",
       "      <th>ds</th>\n",
       "      <th>y</th>\n",
       "    </tr>\n",
       "  </thead>\n",
       "  <tbody>\n",
       "    <tr>\n",
       "      <th>0</th>\n",
       "      <td>2017-01-25 16:00:00+00:00</td>\n",
       "      <td>19.14</td>\n",
       "    </tr>\n",
       "    <tr>\n",
       "      <th>1</th>\n",
       "      <td>2017-01-25 17:00:00+00:00</td>\n",
       "      <td>19.14</td>\n",
       "    </tr>\n",
       "    <tr>\n",
       "      <th>2</th>\n",
       "      <td>2017-01-25 18:00:00+00:00</td>\n",
       "      <td>19.14</td>\n",
       "    </tr>\n",
       "    <tr>\n",
       "      <th>3</th>\n",
       "      <td>2017-01-25 19:00:00+00:00</td>\n",
       "      <td>19.14</td>\n",
       "    </tr>\n",
       "    <tr>\n",
       "      <th>4</th>\n",
       "      <td>2017-01-25 20:00:00+00:00</td>\n",
       "      <td>19.14</td>\n",
       "    </tr>\n",
       "  </tbody>\n",
       "</table>\n",
       "</div>"
      ],
      "text/plain": [
       "                         ds      y\n",
       "0 2017-01-25 16:00:00+00:00  19.14\n",
       "1 2017-01-25 17:00:00+00:00  19.14\n",
       "2 2017-01-25 18:00:00+00:00  19.14\n",
       "3 2017-01-25 19:00:00+00:00  19.14\n",
       "4 2017-01-25 20:00:00+00:00  19.14"
      ]
     },
     "execution_count": 102,
     "metadata": {},
     "output_type": "execute_result"
    }
   ],
   "source": [
    "df_vix_FBP.head()"
   ]
  },
  {
   "cell_type": "code",
   "execution_count": 103,
   "metadata": {},
   "outputs": [],
   "source": [
    "df_gold_FBP = df_gold.copy()"
   ]
  },
  {
   "cell_type": "code",
   "execution_count": 104,
   "metadata": {},
   "outputs": [],
   "source": [
    "df_gold_FBP.rename(columns={'Date': 'ds', 'Open': 'y'}, inplace=True)"
   ]
  },
  {
   "cell_type": "code",
   "execution_count": 105,
   "metadata": {},
   "outputs": [],
   "source": [
    "df_gold_FBP = df_gold_FBP[['ds', 'y']]"
   ]
  },
  {
   "cell_type": "code",
   "execution_count": 106,
   "metadata": {},
   "outputs": [],
   "source": [
    "df_gold_FBP.ds = pd.to_datetime(df_gold_FBP.ds, utc = True)"
   ]
  },
  {
   "cell_type": "code",
   "execution_count": 107,
   "metadata": {
    "scrolled": true
   },
   "outputs": [
    {
     "data": {
      "text/html": [
       "<div>\n",
       "<style scoped>\n",
       "    .dataframe tbody tr th:only-of-type {\n",
       "        vertical-align: middle;\n",
       "    }\n",
       "\n",
       "    .dataframe tbody tr th {\n",
       "        vertical-align: top;\n",
       "    }\n",
       "\n",
       "    .dataframe thead th {\n",
       "        text-align: right;\n",
       "    }\n",
       "</style>\n",
       "<table border=\"1\" class=\"dataframe\">\n",
       "  <thead>\n",
       "    <tr style=\"text-align: right;\">\n",
       "      <th></th>\n",
       "      <th>ds</th>\n",
       "      <th>y</th>\n",
       "    </tr>\n",
       "  </thead>\n",
       "  <tbody>\n",
       "    <tr>\n",
       "      <th>0</th>\n",
       "      <td>2017-01-08 00:00:00+00:00</td>\n",
       "      <td>2855.81</td>\n",
       "    </tr>\n",
       "    <tr>\n",
       "      <th>1</th>\n",
       "      <td>2017-01-08 01:00:00+00:00</td>\n",
       "      <td>2823.01</td>\n",
       "    </tr>\n",
       "    <tr>\n",
       "      <th>2</th>\n",
       "      <td>2017-01-08 02:00:00+00:00</td>\n",
       "      <td>2846.27</td>\n",
       "    </tr>\n",
       "    <tr>\n",
       "      <th>3</th>\n",
       "      <td>2017-01-08 03:00:00+00:00</td>\n",
       "      <td>2841.84</td>\n",
       "    </tr>\n",
       "    <tr>\n",
       "      <th>4</th>\n",
       "      <td>2017-01-08 04:00:00+00:00</td>\n",
       "      <td>2862.92</td>\n",
       "    </tr>\n",
       "  </tbody>\n",
       "</table>\n",
       "</div>"
      ],
      "text/plain": [
       "                         ds        y\n",
       "0 2017-01-08 00:00:00+00:00  2855.81\n",
       "1 2017-01-08 01:00:00+00:00  2823.01\n",
       "2 2017-01-08 02:00:00+00:00  2846.27\n",
       "3 2017-01-08 03:00:00+00:00  2841.84\n",
       "4 2017-01-08 04:00:00+00:00  2862.92"
      ]
     },
     "execution_count": 107,
     "metadata": {},
     "output_type": "execute_result"
    }
   ],
   "source": [
    "df_gold_FBP.head()"
   ]
  },
  {
   "cell_type": "markdown",
   "metadata": {},
   "source": [
    "## Getting the intersecting dates of the dataframes"
   ]
  },
  {
   "cell_type": "code",
   "execution_count": 108,
   "metadata": {},
   "outputs": [
    {
     "data": {
      "text/html": [
       "<div>\n",
       "<style scoped>\n",
       "    .dataframe tbody tr th:only-of-type {\n",
       "        vertical-align: middle;\n",
       "    }\n",
       "\n",
       "    .dataframe tbody tr th {\n",
       "        vertical-align: top;\n",
       "    }\n",
       "\n",
       "    .dataframe thead th {\n",
       "        text-align: right;\n",
       "    }\n",
       "</style>\n",
       "<table border=\"1\" class=\"dataframe\">\n",
       "  <thead>\n",
       "    <tr style=\"text-align: right;\">\n",
       "      <th></th>\n",
       "      <th>ds</th>\n",
       "      <th>y</th>\n",
       "    </tr>\n",
       "  </thead>\n",
       "  <tbody>\n",
       "    <tr>\n",
       "      <th>0</th>\n",
       "      <td>2015-05-31 00:00:00+00:00</td>\n",
       "      <td>232.00</td>\n",
       "    </tr>\n",
       "    <tr>\n",
       "      <th>1</th>\n",
       "      <td>2015-05-31 01:00:00+00:00</td>\n",
       "      <td>231.98</td>\n",
       "    </tr>\n",
       "    <tr>\n",
       "      <th>2</th>\n",
       "      <td>2015-05-31 02:00:00+00:00</td>\n",
       "      <td>232.14</td>\n",
       "    </tr>\n",
       "    <tr>\n",
       "      <th>3</th>\n",
       "      <td>2015-05-31 03:00:00+00:00</td>\n",
       "      <td>232.38</td>\n",
       "    </tr>\n",
       "    <tr>\n",
       "      <th>4</th>\n",
       "      <td>2015-05-31 04:00:00+00:00</td>\n",
       "      <td>232.05</td>\n",
       "    </tr>\n",
       "  </tbody>\n",
       "</table>\n",
       "</div>"
      ],
      "text/plain": [
       "                         ds       y\n",
       "0 2015-05-31 00:00:00+00:00  232.00\n",
       "1 2015-05-31 01:00:00+00:00  231.98\n",
       "2 2015-05-31 02:00:00+00:00  232.14\n",
       "3 2015-05-31 03:00:00+00:00  232.38\n",
       "4 2015-05-31 04:00:00+00:00  232.05"
      ]
     },
     "execution_count": 108,
     "metadata": {},
     "output_type": "execute_result"
    }
   ],
   "source": [
    "df_bitcoin_price_FBP.head()"
   ]
  },
  {
   "cell_type": "code",
   "execution_count": 109,
   "metadata": {},
   "outputs": [
    {
     "data": {
      "text/plain": [
       "True"
      ]
     },
     "execution_count": 109,
     "metadata": {},
     "output_type": "execute_result"
    }
   ],
   "source": [
    "dates_gold = set(df_gold_FBP.ds)\n",
    "dates_vix = set(df_vix_FBP.ds)\n",
    "dates_bitcoin = set(df_bitcoin_price_FBP.ds)\n",
    "\n",
    "dates_intersection = dates_gold & dates_vix & dates_bitcoin\n",
    "\n",
    "df_bitcoin_inter = df_bitcoin_price_FBP[df_bitcoin_price_FBP.ds.isin(dates_intersection)]\n",
    "df_vix_inter = df_vix_FBP[df_vix_FBP.ds.isin(dates_intersection)]\n",
    "df_gold_inter = df_gold_FBP[df_gold_FBP.ds.isin(dates_intersection)]\n",
    "\n",
    "first_timestamp = min(dates_intersection)\n",
    "last_timestamp = max(dates_intersection)\n",
    "all(first_timestamp == min(df.ds) for df in [df_bitcoin_inter, df_vix_inter, df_gold_inter])\n",
    "all(last_timestamp == max(df.ds) for df in [df_bitcoin_inter, df_vix_inter, df_gold_inter])"
   ]
  },
  {
   "cell_type": "code",
   "execution_count": 110,
   "metadata": {},
   "outputs": [],
   "source": [
    "df_bitcoin_inter['ds'] = df_bitcoin_inter.ds.dt.tz_localize(None)\n",
    "df_vix_inter['ds'] = df_vix_inter.ds.dt.tz_localize(None)\n",
    "df_gold_inter['ds'] = df_gold_inter.ds.dt.tz_localize(None)"
   ]
  },
  {
   "cell_type": "code",
   "execution_count": 160,
   "metadata": {},
   "outputs": [],
   "source": [
    "df_bitcoin_inter.reset_index(inplace = True)\n",
    "df_vix_inter.reset_index(inplace = True)\n",
    "df_gold_inter.reset_index(inplace = True)"
   ]
  },
  {
   "cell_type": "code",
   "execution_count": 161,
   "metadata": {},
   "outputs": [],
   "source": [
    "df_bitcoin_inter.drop('index', axis = 1, inplace = True)\n",
    "df_vix_inter.drop('index', axis = 1, inplace = True)\n",
    "df_gold_inter.drop('index', axis = 1, inplace = True)"
   ]
  },
  {
   "cell_type": "markdown",
   "metadata": {},
   "source": [
    "### Train Test Validation split using helper function"
   ]
  },
  {
   "cell_type": "code",
   "execution_count": 111,
   "metadata": {},
   "outputs": [],
   "source": [
    "df_train, df_test = split_train_test_chronological(df_bitcoin_inter, 0.98)"
   ]
  },
  {
   "cell_type": "code",
   "execution_count": 112,
   "metadata": {},
   "outputs": [],
   "source": [
    "df_train, df_val = split_train_test_chronological(df_train.reset_index(), 0.98)"
   ]
  },
  {
   "cell_type": "code",
   "execution_count": 113,
   "metadata": {},
   "outputs": [],
   "source": [
    "df_train.drop(['index'], axis = 1, inplace = True)"
   ]
  },
  {
   "cell_type": "code",
   "execution_count": 114,
   "metadata": {},
   "outputs": [],
   "source": [
    "df_val.drop(['index'], axis = 1, inplace = True)"
   ]
  },
  {
   "cell_type": "code",
   "execution_count": 115,
   "metadata": {},
   "outputs": [
    {
     "data": {
      "text/html": [
       "<div>\n",
       "<style scoped>\n",
       "    .dataframe tbody tr th:only-of-type {\n",
       "        vertical-align: middle;\n",
       "    }\n",
       "\n",
       "    .dataframe tbody tr th {\n",
       "        vertical-align: top;\n",
       "    }\n",
       "\n",
       "    .dataframe thead th {\n",
       "        text-align: right;\n",
       "    }\n",
       "</style>\n",
       "<table border=\"1\" class=\"dataframe\">\n",
       "  <thead>\n",
       "    <tr style=\"text-align: right;\">\n",
       "      <th></th>\n",
       "      <th>ds</th>\n",
       "      <th>y</th>\n",
       "    </tr>\n",
       "  </thead>\n",
       "  <tbody>\n",
       "    <tr>\n",
       "      <th>0</th>\n",
       "      <td>2017-02-08</td>\n",
       "      <td>1054.03</td>\n",
       "    </tr>\n",
       "  </tbody>\n",
       "</table>\n",
       "</div>"
      ],
      "text/plain": [
       "          ds        y\n",
       "0 2017-02-08  1054.03"
      ]
     },
     "execution_count": 115,
     "metadata": {},
     "output_type": "execute_result"
    }
   ],
   "source": [
    "df_train.head(1)"
   ]
  },
  {
   "cell_type": "code",
   "execution_count": 116,
   "metadata": {},
   "outputs": [
    {
     "data": {
      "text/html": [
       "<div>\n",
       "<style scoped>\n",
       "    .dataframe tbody tr th:only-of-type {\n",
       "        vertical-align: middle;\n",
       "    }\n",
       "\n",
       "    .dataframe tbody tr th {\n",
       "        vertical-align: top;\n",
       "    }\n",
       "\n",
       "    .dataframe thead th {\n",
       "        text-align: right;\n",
       "    }\n",
       "</style>\n",
       "<table border=\"1\" class=\"dataframe\">\n",
       "  <thead>\n",
       "    <tr style=\"text-align: right;\">\n",
       "      <th></th>\n",
       "      <th>ds</th>\n",
       "      <th>y</th>\n",
       "    </tr>\n",
       "  </thead>\n",
       "  <tbody>\n",
       "    <tr>\n",
       "      <th>12166</th>\n",
       "      <td>2018-12-26 02:00:00</td>\n",
       "      <td>3840.14</td>\n",
       "    </tr>\n",
       "  </tbody>\n",
       "</table>\n",
       "</div>"
      ],
      "text/plain": [
       "                       ds        y\n",
       "12166 2018-12-26 02:00:00  3840.14"
      ]
     },
     "execution_count": 116,
     "metadata": {},
     "output_type": "execute_result"
    }
   ],
   "source": [
    "df_train.tail(1)"
   ]
  },
  {
   "cell_type": "code",
   "execution_count": 117,
   "metadata": {},
   "outputs": [
    {
     "data": {
      "text/html": [
       "<div>\n",
       "<style scoped>\n",
       "    .dataframe tbody tr th:only-of-type {\n",
       "        vertical-align: middle;\n",
       "    }\n",
       "\n",
       "    .dataframe tbody tr th {\n",
       "        vertical-align: top;\n",
       "    }\n",
       "\n",
       "    .dataframe thead th {\n",
       "        text-align: right;\n",
       "    }\n",
       "</style>\n",
       "<table border=\"1\" class=\"dataframe\">\n",
       "  <thead>\n",
       "    <tr style=\"text-align: right;\">\n",
       "      <th></th>\n",
       "      <th>ds</th>\n",
       "      <th>y</th>\n",
       "    </tr>\n",
       "  </thead>\n",
       "  <tbody>\n",
       "    <tr>\n",
       "      <th>12167</th>\n",
       "      <td>2018-12-26 03:00:00</td>\n",
       "      <td>3838.65</td>\n",
       "    </tr>\n",
       "  </tbody>\n",
       "</table>\n",
       "</div>"
      ],
      "text/plain": [
       "                       ds        y\n",
       "12167 2018-12-26 03:00:00  3838.65"
      ]
     },
     "execution_count": 117,
     "metadata": {},
     "output_type": "execute_result"
    }
   ],
   "source": [
    "df_val.head(1)"
   ]
  },
  {
   "cell_type": "code",
   "execution_count": 118,
   "metadata": {},
   "outputs": [
    {
     "data": {
      "text/html": [
       "<div>\n",
       "<style scoped>\n",
       "    .dataframe tbody tr th:only-of-type {\n",
       "        vertical-align: middle;\n",
       "    }\n",
       "\n",
       "    .dataframe tbody tr th {\n",
       "        vertical-align: top;\n",
       "    }\n",
       "\n",
       "    .dataframe thead th {\n",
       "        text-align: right;\n",
       "    }\n",
       "</style>\n",
       "<table border=\"1\" class=\"dataframe\">\n",
       "  <thead>\n",
       "    <tr style=\"text-align: right;\">\n",
       "      <th></th>\n",
       "      <th>ds</th>\n",
       "      <th>y</th>\n",
       "    </tr>\n",
       "  </thead>\n",
       "  <tbody>\n",
       "    <tr>\n",
       "      <th>12414</th>\n",
       "      <td>2019-01-16 10:00:00</td>\n",
       "      <td>3616.31</td>\n",
       "    </tr>\n",
       "  </tbody>\n",
       "</table>\n",
       "</div>"
      ],
      "text/plain": [
       "                       ds        y\n",
       "12414 2019-01-16 10:00:00  3616.31"
      ]
     },
     "execution_count": 118,
     "metadata": {},
     "output_type": "execute_result"
    }
   ],
   "source": [
    "df_val.tail(1)"
   ]
  },
  {
   "cell_type": "code",
   "execution_count": 119,
   "metadata": {},
   "outputs": [
    {
     "data": {
      "text/html": [
       "<div>\n",
       "<style scoped>\n",
       "    .dataframe tbody tr th:only-of-type {\n",
       "        vertical-align: middle;\n",
       "    }\n",
       "\n",
       "    .dataframe tbody tr th {\n",
       "        vertical-align: top;\n",
       "    }\n",
       "\n",
       "    .dataframe thead th {\n",
       "        text-align: right;\n",
       "    }\n",
       "</style>\n",
       "<table border=\"1\" class=\"dataframe\">\n",
       "  <thead>\n",
       "    <tr style=\"text-align: right;\">\n",
       "      <th></th>\n",
       "      <th>ds</th>\n",
       "      <th>y</th>\n",
       "    </tr>\n",
       "  </thead>\n",
       "  <tbody>\n",
       "    <tr>\n",
       "      <th>31771</th>\n",
       "      <td>2019-01-16 11:00:00</td>\n",
       "      <td>3618.45</td>\n",
       "    </tr>\n",
       "  </tbody>\n",
       "</table>\n",
       "</div>"
      ],
      "text/plain": [
       "                       ds        y\n",
       "31771 2019-01-16 11:00:00  3618.45"
      ]
     },
     "execution_count": 119,
     "metadata": {},
     "output_type": "execute_result"
    }
   ],
   "source": [
    "df_test.head(1)"
   ]
  },
  {
   "cell_type": "code",
   "execution_count": 120,
   "metadata": {},
   "outputs": [
    {
     "data": {
      "text/html": [
       "<div>\n",
       "<style scoped>\n",
       "    .dataframe tbody tr th:only-of-type {\n",
       "        vertical-align: middle;\n",
       "    }\n",
       "\n",
       "    .dataframe tbody tr th {\n",
       "        vertical-align: top;\n",
       "    }\n",
       "\n",
       "    .dataframe thead th {\n",
       "        text-align: right;\n",
       "    }\n",
       "</style>\n",
       "<table border=\"1\" class=\"dataframe\">\n",
       "  <thead>\n",
       "    <tr style=\"text-align: right;\">\n",
       "      <th></th>\n",
       "      <th>ds</th>\n",
       "      <th>y</th>\n",
       "    </tr>\n",
       "  </thead>\n",
       "  <tbody>\n",
       "    <tr>\n",
       "      <th>35047</th>\n",
       "      <td>2019-06-01 23:00:00</td>\n",
       "      <td>8560.63</td>\n",
       "    </tr>\n",
       "  </tbody>\n",
       "</table>\n",
       "</div>"
      ],
      "text/plain": [
       "                       ds        y\n",
       "35047 2019-06-01 23:00:00  8560.63"
      ]
     },
     "execution_count": 120,
     "metadata": {},
     "output_type": "execute_result"
    }
   ],
   "source": [
    "df_test.tail(1)"
   ]
  },
  {
   "cell_type": "code",
   "execution_count": 121,
   "metadata": {},
   "outputs": [],
   "source": [
    "df_train_vix, df_test_vix = split_train_test_chronological(df_vix_inter, 0.98)"
   ]
  },
  {
   "cell_type": "code",
   "execution_count": null,
   "metadata": {},
   "outputs": [],
   "source": []
  },
  {
   "cell_type": "markdown",
   "metadata": {},
   "source": [
    "## FB Prophet Baseline"
   ]
  },
  {
   "cell_type": "code",
   "execution_count": 122,
   "metadata": {},
   "outputs": [],
   "source": [
    "proph = Prophet()"
   ]
  },
  {
   "cell_type": "code",
   "execution_count": 123,
   "metadata": {},
   "outputs": [
    {
     "name": "stderr",
     "output_type": "stream",
     "text": [
      "INFO:fbprophet:Disabling yearly seasonality. Run prophet with yearly_seasonality=True to override this.\n"
     ]
    },
    {
     "data": {
      "text/plain": [
       "<fbprophet.forecaster.Prophet at 0x1c2b319f98>"
      ]
     },
     "execution_count": 123,
     "metadata": {},
     "output_type": "execute_result"
    }
   ],
   "source": [
    "proph.fit(df_train)"
   ]
  },
  {
   "cell_type": "code",
   "execution_count": 124,
   "metadata": {},
   "outputs": [],
   "source": [
    "forecast = proph.predict(df_val)"
   ]
  },
  {
   "cell_type": "code",
   "execution_count": 125,
   "metadata": {
    "scrolled": false
   },
   "outputs": [
    {
     "data": {
      "image/png": "[encoded data removed]",
      "text/plain": [
       "<Figure size 720x432 with 1 Axes>"
      ]
     },
     "execution_count": 125,
     "metadata": {},
     "output_type": "execute_result"
    },
    {
     "data": {
      "image/png": "[encoded data removed]",
      "text/plain": [
       "<Figure size 720x432 with 1 Axes>"
      ]
     },
     "metadata": {},
     "output_type": "display_data"
    }
   ],
   "source": [
    "proph.plot(forecast)"
   ]
  },
  {
   "cell_type": "code",
   "execution_count": 126,
   "metadata": {
    "scrolled": true
   },
   "outputs": [
    {
     "data": {
      "image/png": "[encoded data removed]",
      "text/plain": [
       "<Figure size 648x648 with 3 Axes>"
      ]
     },
     "execution_count": 126,
     "metadata": {},
     "output_type": "execute_result"
    },
    {
     "data": {
      "image/png": "[encoded data removed]",
      "text/plain": [
       "<Figure size 648x648 with 3 Axes>"
      ]
     },
     "metadata": {},
     "output_type": "display_data"
    }
   ],
   "source": [
    "proph.plot_components(forecast)"
   ]
  },
  {
   "cell_type": "code",
   "execution_count": 145,
   "metadata": {},
   "outputs": [],
   "source": [
    "df_fb = df_bitcoin_inter.copy()\n",
    "df_fb.reset_index(inplace = True)"
   ]
  },
  {
   "cell_type": "code",
   "execution_count": 147,
   "metadata": {},
   "outputs": [],
   "source": [
    "df_fb.drop(['index'],axis = 1,inplace = True)"
   ]
  },
  {
   "cell_type": "code",
   "execution_count": 137,
   "metadata": {},
   "outputs": [],
   "source": [
    "# df_fb.ds.value_counts()"
   ]
  },
  {
   "cell_type": "code",
   "execution_count": 148,
   "metadata": {},
   "outputs": [],
   "source": [
    "df_vix_inter.reset_index(inplace = True)"
   ]
  },
  {
   "cell_type": "code",
   "execution_count": 150,
   "metadata": {},
   "outputs": [],
   "source": [
    "df_vix_inter.drop(['index'],axis = 1,inplace = True)"
   ]
  },
  {
   "cell_type": "code",
   "execution_count": 151,
   "metadata": {},
   "outputs": [],
   "source": [
    "df_fb['vix'] = df_vix_inter['y']"
   ]
  },
  {
   "cell_type": "code",
   "execution_count": 152,
   "metadata": {},
   "outputs": [
    {
     "data": {
      "text/plain": [
       "ds    0\n",
       "y     0\n",
       "dtype: int64"
      ]
     },
     "execution_count": 152,
     "metadata": {},
     "output_type": "execute_result"
    }
   ],
   "source": [
    "df_vix_inter.isna().sum()"
   ]
  },
  {
   "cell_type": "code",
   "execution_count": 153,
   "metadata": {},
   "outputs": [
    {
     "data": {
      "text/plain": [
       "False"
      ]
     },
     "execution_count": 153,
     "metadata": {},
     "output_type": "execute_result"
    }
   ],
   "source": [
    "df_fb['y'].isnull().any()"
   ]
  },
  {
   "cell_type": "code",
   "execution_count": null,
   "metadata": {},
   "outputs": [],
   "source": []
  },
  {
   "cell_type": "code",
   "execution_count": 132,
   "metadata": {},
   "outputs": [
    {
     "data": {
      "text/plain": [
       "12668"
      ]
     },
     "execution_count": 132,
     "metadata": {},
     "output_type": "execute_result"
    }
   ],
   "source": [
    "len(df_fb)"
   ]
  },
  {
   "cell_type": "code",
   "execution_count": 133,
   "metadata": {},
   "outputs": [
    {
     "data": {
      "text/plain": [
       "12668"
      ]
     },
     "execution_count": 133,
     "metadata": {},
     "output_type": "execute_result"
    }
   ],
   "source": [
    "len(df_vix_inter)"
   ]
  },
  {
   "cell_type": "code",
   "execution_count": 157,
   "metadata": {},
   "outputs": [],
   "source": [
    "proph_with_vix = Prophet()"
   ]
  },
  {
   "cell_type": "code",
   "execution_count": 158,
   "metadata": {},
   "outputs": [
    {
     "data": {
      "text/plain": [
       "<fbprophet.forecaster.Prophet at 0x1c271c3978>"
      ]
     },
     "execution_count": 158,
     "metadata": {},
     "output_type": "execute_result"
    }
   ],
   "source": [
    "proph_with_vix.add_regressor('vix')"
   ]
  },
  {
   "cell_type": "code",
   "execution_count": 159,
   "metadata": {
    "scrolled": false
   },
   "outputs": [
    {
     "data": {
      "text/plain": [
       "<fbprophet.forecaster.Prophet at 0x1c271c3978>"
      ]
     },
     "execution_count": 159,
     "metadata": {},
     "output_type": "execute_result"
    }
   ],
   "source": [
    "proph_with_vix.fit(df_fb)"
   ]
  },
  {
   "cell_type": "code",
   "execution_count": 154,
   "metadata": {},
   "outputs": [],
   "source": [
    "df = pd.DataFrame()"
   ]
  },
  {
   "cell_type": "code",
   "execution_count": 155,
   "metadata": {},
   "outputs": [],
   "source": [
    "df['vix'] = pd.to_numeric(df_fb['vix'])"
   ]
  },
  {
   "cell_type": "code",
   "execution_count": 156,
   "metadata": {},
   "outputs": [
    {
     "data": {
      "text/plain": [
       "0        18.879\n",
       "1        18.915\n",
       "2        18.860\n",
       "3        18.770\n",
       "4        18.770\n",
       "5        18.878\n",
       "6        18.887\n",
       "7        18.887\n",
       "8        18.887\n",
       "9        18.887\n",
       "10       18.887\n",
       "11       18.887\n",
       "12       18.887\n",
       "13       18.887\n",
       "14       18.887\n",
       "15       18.887\n",
       "16       18.887\n",
       "17       18.887\n",
       "18       18.887\n",
       "19       18.887\n",
       "20       18.887\n",
       "21       18.887\n",
       "22       18.805\n",
       "23       18.769\n",
       "24       18.619\n",
       "25       18.600\n",
       "26       18.579\n",
       "27       18.419\n",
       "28       18.360\n",
       "29       18.499\n",
       "          ...  \n",
       "12638    26.631\n",
       "12639    26.631\n",
       "12640    26.631\n",
       "12641    26.631\n",
       "12642    26.631\n",
       "12643    26.631\n",
       "12644    30.447\n",
       "12645    30.447\n",
       "12646    30.447\n",
       "12647    30.447\n",
       "12648    30.447\n",
       "12649    30.447\n",
       "12650    30.447\n",
       "12651    30.447\n",
       "12652    30.447\n",
       "12653    30.447\n",
       "12654    30.447\n",
       "12655    30.447\n",
       "12656    30.447\n",
       "12657    30.447\n",
       "12658    30.447\n",
       "12659    30.447\n",
       "12660    30.447\n",
       "12661    30.447\n",
       "12662    30.447\n",
       "12663    30.447\n",
       "12664    30.447\n",
       "12665    30.447\n",
       "12666    30.447\n",
       "12667    30.447\n",
       "Name: vix, Length: 12668, dtype: float64"
      ]
     },
     "execution_count": 156,
     "metadata": {},
     "output_type": "execute_result"
    }
   ],
   "source": [
    "df['vix']"
   ]
  },
  {
   "cell_type": "markdown",
   "metadata": {},
   "source": [
    "## Baseline ARIMA model"
   ]
  },
  {
   "cell_type": "code",
   "execution_count": 220,
   "metadata": {},
   "outputs": [],
   "source": [
    "model = ARIMA(df_train.y, order=(1,0,1)).fit()"
   ]
  },
  {
   "cell_type": "markdown",
   "metadata": {},
   "source": [
    "### Window refitting model"
   ]
  },
  {
   "cell_type": "markdown",
   "metadata": {},
   "source": [
    "The make_window_refitting_ARIMA_model is taking a really long time to train, as it is retraining for every new observation."
   ]
  },
  {
   "cell_type": "code",
   "execution_count": 216,
   "metadata": {},
   "outputs": [],
   "source": [
    "def make_window_refitting_ARIMA_model(df_t = df_train['y'] , df_v = df_val['y'],p = 1, d = 1, q = 0):\n",
    "    preds = []\n",
    "    df_t = list(df_t)\n",
    "\n",
    "    for i in df_v:\n",
    "        model = ARIMA(df_t, order=(p,d,q)).fit()\n",
    "        pred = model.forecast()[0][0]\n",
    "        preds.append(pred)\n",
    "        df_t.append(i)\n",
    "\n",
    "    plt.plot(df_v)\n",
    "    plt.plot(preds)\n",
    "    rmse = calc_RMSE(validation,np.array(preds))\n",
    "    print(rmse)\n",
    "    \n",
    "    return rmse,df_v,preds,model"
   ]
  },
  {
   "cell_type": "code",
   "execution_count": 34,
   "metadata": {},
   "outputs": [],
   "source": [
    "# res = make_window_refitting_model(df_t = df_train['y'], p = 1, d = 0 , q = 1)"
   ]
  },
  {
   "cell_type": "code",
   "execution_count": null,
   "metadata": {},
   "outputs": [],
   "source": [
    "df_val;"
   ]
  },
  {
   "cell_type": "code",
   "execution_count": null,
   "metadata": {},
   "outputs": [],
   "source": []
  },
  {
   "cell_type": "markdown",
   "metadata": {},
   "source": [
    "## Baseline LSTM Model"
   ]
  },
  {
   "cell_type": "code",
   "execution_count": 135,
   "metadata": {},
   "outputs": [],
   "source": [
    "# date_to_index = pd.Series(index=pd.Index([pd.to_datetime(c) for c in df_train.columns[1:]]),\n",
    "#                           data=[i for i in range(len(df_train.columns[1:]))])\n",
    "\n",
    "# series_array = df_train[df_train.columns[1:]].values"
   ]
  },
  {
   "cell_type": "code",
   "execution_count": 136,
   "metadata": {},
   "outputs": [],
   "source": [
    "def get_time_block_series(series_array, date_to_index, start_date, end_date):\n",
    "    \n",
    "    inds = date_to_index[start_date:end_date]\n",
    "    return series_array[:,inds]"
   ]
  },
  {
   "cell_type": "code",
   "execution_count": 137,
   "metadata": {},
   "outputs": [],
   "source": [
    "def transform_series_encode(series_array):\n",
    "    \n",
    "    series_array = np.log1p(np.nan_to_num(series_array)) # filling NaN with 0\n",
    "    series_mean = series_array.mean(axis=1).reshape(-1,1) \n",
    "    series_array = series_array - series_mean\n",
    "    series_array = series_array.reshape((series_array.shape[0],series_array.shape[1], 1))\n",
    "    \n",
    "    return series_array, series_mean"
   ]
  },
  {
   "cell_type": "code",
   "execution_count": 138,
   "metadata": {},
   "outputs": [],
   "source": [
    "def transform_series_decode(series_array, encode_series_mean):\n",
    "    \n",
    "    series_array = np.log1p(np.nan_to_num(series_array)) # filling NaN with 0\n",
    "    series_array = series_array - encode_series_mean\n",
    "    series_array = series_array.reshape((series_array.shape[0],series_array.shape[1], 1))\n",
    "    \n",
    "    return series_array"
   ]
  },
  {
   "cell_type": "code",
   "execution_count": 156,
   "metadata": {},
   "outputs": [],
   "source": [
    "def split_sequence(sequence, n_steps = num_steps):\n",
    "    X, y = list(), list()\n",
    "    for i in range(len(sequence)):\n",
    "        # find the end of this pattern\n",
    "        end_ix = i + n_steps\n",
    "        # check if we are beyond the sequence\n",
    "        if end_ix > len(sequence)-1:\n",
    "            break\n",
    "        # gather input and output parts of the pattern\n",
    "        seq_x, seq_y = sequence[i:end_ix], sequence[end_ix]\n",
    "        X.append(seq_x)\n",
    "        y.append(seq_y)\n",
    "    return np.array(X), np.array(y)"
   ]
  },
  {
   "cell_type": "markdown",
   "metadata": {},
   "source": [
    "### Standradizing for LSTM"
   ]
  },
  {
   "cell_type": "code",
   "execution_count": 189,
   "metadata": {},
   "outputs": [],
   "source": [
    "std = StandardScaler()"
   ]
  },
  {
   "cell_type": "code",
   "execution_count": 232,
   "metadata": {},
   "outputs": [
    {
     "data": {
      "text/html": [
       "<div>\n",
       "<style scoped>\n",
       "    .dataframe tbody tr th:only-of-type {\n",
       "        vertical-align: middle;\n",
       "    }\n",
       "\n",
       "    .dataframe tbody tr th {\n",
       "        vertical-align: top;\n",
       "    }\n",
       "\n",
       "    .dataframe thead th {\n",
       "        text-align: right;\n",
       "    }\n",
       "</style>\n",
       "<table border=\"1\" class=\"dataframe\">\n",
       "  <thead>\n",
       "    <tr style=\"text-align: right;\">\n",
       "      <th></th>\n",
       "      <th>ds</th>\n",
       "      <th>y</th>\n",
       "    </tr>\n",
       "  </thead>\n",
       "  <tbody>\n",
       "    <tr>\n",
       "      <th>0</th>\n",
       "      <td>2015-05-31 00:00:00</td>\n",
       "      <td>232.00</td>\n",
       "    </tr>\n",
       "    <tr>\n",
       "      <th>1</th>\n",
       "      <td>2015-05-31 01:00:00</td>\n",
       "      <td>231.98</td>\n",
       "    </tr>\n",
       "    <tr>\n",
       "      <th>2</th>\n",
       "      <td>2015-05-31 02:00:00</td>\n",
       "      <td>232.14</td>\n",
       "    </tr>\n",
       "    <tr>\n",
       "      <th>3</th>\n",
       "      <td>2015-05-31 03:00:00</td>\n",
       "      <td>232.38</td>\n",
       "    </tr>\n",
       "    <tr>\n",
       "      <th>4</th>\n",
       "      <td>2015-05-31 04:00:00</td>\n",
       "      <td>232.05</td>\n",
       "    </tr>\n",
       "  </tbody>\n",
       "</table>\n",
       "</div>"
      ],
      "text/plain": [
       "                   ds       y\n",
       "0 2015-05-31 00:00:00  232.00\n",
       "1 2015-05-31 01:00:00  231.98\n",
       "2 2015-05-31 02:00:00  232.14\n",
       "3 2015-05-31 03:00:00  232.38\n",
       "4 2015-05-31 04:00:00  232.05"
      ]
     },
     "execution_count": 232,
     "metadata": {},
     "output_type": "execute_result"
    }
   ],
   "source": [
    "train = df_train.copy()\n",
    "train.head()"
   ]
  },
  {
   "cell_type": "code",
   "execution_count": 677,
   "metadata": {},
   "outputs": [],
   "source": [
    "train = df_train.copy()\n",
    "train = np.array(train.y)[:, np.newaxis]\n",
    "val = df_val.copy()\n",
    "val = np.array(val.y)[:, np.newaxis]\n",
    "std.fit(train)\n",
    "\n",
    "val = std.transform(val)\n",
    "train = std.transform(train)"
   ]
  },
  {
   "cell_type": "code",
   "execution_count": null,
   "metadata": {},
   "outputs": [],
   "source": []
  },
  {
   "cell_type": "code",
   "execution_count": 678,
   "metadata": {},
   "outputs": [],
   "source": [
    "num_steps = 72\n",
    "n_features = 1"
   ]
  },
  {
   "cell_type": "code",
   "execution_count": 261,
   "metadata": {},
   "outputs": [],
   "source": [
    "# train = train.y.values"
   ]
  },
  {
   "cell_type": "code",
   "execution_count": 262,
   "metadata": {},
   "outputs": [],
   "source": [
    "# val = val.y.values"
   ]
  },
  {
   "cell_type": "code",
   "execution_count": 679,
   "metadata": {},
   "outputs": [
    {
     "data": {
      "text/plain": [
       "array([[-1.88718585],\n",
       "       [-1.88520962],\n",
       "       [-1.88445589],\n",
       "       ...,\n",
       "       [-1.05454613],\n",
       "       [-1.03918663],\n",
       "       [-1.03353979]])"
      ]
     },
     "execution_count": 679,
     "metadata": {},
     "output_type": "execute_result"
    }
   ],
   "source": [
    "train"
   ]
  },
  {
   "cell_type": "code",
   "execution_count": 680,
   "metadata": {},
   "outputs": [],
   "source": [
    "X, y = split_sequence(train, n_steps)"
   ]
  },
  {
   "cell_type": "code",
   "execution_count": 681,
   "metadata": {},
   "outputs": [],
   "source": [
    "X = X.reshape((X.shape[0], X.shape[1], n_features))"
   ]
  },
  {
   "cell_type": "code",
   "execution_count": 682,
   "metadata": {
    "scrolled": true
   },
   "outputs": [
    {
     "data": {
      "text/plain": [
       "array([[[-1.88718585],\n",
       "        [-1.88520962],\n",
       "        [-1.88445589],\n",
       "        ...,\n",
       "        [-1.90297738],\n",
       "        [-1.90442662],\n",
       "        [-1.9041478 ]],\n",
       "\n",
       "       [[-1.88520962],\n",
       "        [-1.88445589],\n",
       "        [-1.88357347],\n",
       "        ...,\n",
       "        [-1.90442662],\n",
       "        [-1.9041478 ],\n",
       "        [-1.90520179]],\n",
       "\n",
       "       [[-1.88445589],\n",
       "        [-1.88357347],\n",
       "        [-1.88285958],\n",
       "        ...,\n",
       "        [-1.9041478 ],\n",
       "        [-1.90520179],\n",
       "        [-1.90563074]],\n",
       "\n",
       "       ...,\n",
       "\n",
       "       [[-0.99003498],\n",
       "        [-0.98620506],\n",
       "        [-0.9910185 ],\n",
       "        ...,\n",
       "        [-1.05209805],\n",
       "        [-1.04589971],\n",
       "        [-1.05943617]],\n",
       "\n",
       "       [[-0.98620506],\n",
       "        [-0.9910185 ],\n",
       "        [-0.98511123],\n",
       "        ...,\n",
       "        [-1.04589971],\n",
       "        [-1.05943617],\n",
       "        [-1.05454613]],\n",
       "\n",
       "       [[-0.9910185 ],\n",
       "        [-0.98511123],\n",
       "        [-0.98262944],\n",
       "        ...,\n",
       "        [-1.05943617],\n",
       "        [-1.05454613],\n",
       "        [-1.03918663]]])"
      ]
     },
     "execution_count": 682,
     "metadata": {},
     "output_type": "execute_result"
    }
   ],
   "source": [
    "X"
   ]
  },
  {
   "cell_type": "code",
   "execution_count": 683,
   "metadata": {},
   "outputs": [],
   "source": [
    "X_val, y_val = split_sequence(val, n_steps)"
   ]
  },
  {
   "cell_type": "code",
   "execution_count": 684,
   "metadata": {},
   "outputs": [],
   "source": [
    "X_val = X_val.reshape((X_val.shape[0], X_val.shape[1], n_features))"
   ]
  },
  {
   "cell_type": "code",
   "execution_count": 685,
   "metadata": {},
   "outputs": [],
   "source": [
    "\n",
    "\n",
    "LSTM_model_1 = Sequential()\n",
    "LSTM_model_1.add(LSTM(16, activation='relu', input_shape=(num_steps, n_features)))\n",
    "# LSTM_model_1.add(Dense(8))\n",
    "# LSTM_model_1.add(LSTM(16, activation='relu'))\n",
    "LSTM_model_1.add(Dense(1))\n",
    "LSTM_model_1.compile(optimizer='adam', loss='mse')"
   ]
  },
  {
   "cell_type": "code",
   "execution_count": 686,
   "metadata": {
    "scrolled": true
   },
   "outputs": [
    {
     "name": "stdout",
     "output_type": "stream",
     "text": [
      "_________________________________________________________________\n",
      "Layer (type)                 Output Shape              Param #   \n",
      "=================================================================\n",
      "lstm_28 (LSTM)               (None, 16)                1152      \n",
      "_________________________________________________________________\n",
      "dense_26 (Dense)             (None, 1)                 17        \n",
      "=================================================================\n",
      "Total params: 1,169\n",
      "Trainable params: 1,169\n",
      "Non-trainable params: 0\n",
      "_________________________________________________________________\n"
     ]
    }
   ],
   "source": [
    "LSTM_model_1.summary()"
   ]
  },
  {
   "cell_type": "code",
   "execution_count": 687,
   "metadata": {},
   "outputs": [
    {
     "name": "stdout",
     "output_type": "stream",
     "text": [
      "Train on 9073 samples, validate on 3025 samples\n",
      "Epoch 1/100\n",
      "9073/9073 [==============================] - 6s 667us/step - loss: 0.3970 - val_loss: 0.0382\n",
      "Epoch 2/100\n",
      "9073/9073 [==============================] - 4s 472us/step - loss: 0.0168 - val_loss: 0.0053\n",
      "Epoch 3/100\n",
      "9073/9073 [==============================] - 5s 527us/step - loss: 0.0063 - val_loss: 0.0024\n",
      "Epoch 4/100\n",
      "9073/9073 [==============================] - 5s 533us/step - loss: 0.0053 - val_loss: 0.0023\n",
      "Epoch 5/100\n",
      "9073/9073 [==============================] - 5s 556us/step - loss: 0.0049 - val_loss: 0.0020\n",
      "Epoch 6/100\n",
      "9073/9073 [==============================] - 5s 497us/step - loss: 0.0046 - val_loss: 0.0017\n",
      "Epoch 7/100\n",
      "9073/9073 [==============================] - 4s 484us/step - loss: 0.0043 - val_loss: 0.0017\n",
      "Epoch 8/100\n",
      "9073/9073 [==============================] - 5s 530us/step - loss: 0.0172 - val_loss: 0.0124\n",
      "Epoch 9/100\n",
      "9073/9073 [==============================] - 5s 573us/step - loss: 0.0399 - val_loss: 0.0063\n",
      "Epoch 10/100\n",
      "9073/9073 [==============================] - 5s 497us/step - loss: 0.0113 - val_loss: 0.0019\n",
      "Epoch 11/100\n",
      "9073/9073 [==============================] - 4s 493us/step - loss: 0.0090 - val_loss: 0.0014\n",
      "Epoch 12/100\n",
      "9073/9073 [==============================] - 4s 484us/step - loss: 0.0084 - val_loss: 0.0013\n",
      "Epoch 13/100\n",
      "9073/9073 [==============================] - 5s 521us/step - loss: 0.0079 - val_loss: 0.0010\n",
      "Epoch 14/100\n",
      "9073/9073 [==============================] - 4s 486us/step - loss: 0.0076 - val_loss: 0.0010\n",
      "Epoch 15/100\n",
      "9073/9073 [==============================] - 4s 489us/step - loss: 0.0072 - val_loss: 9.7643e-04\n",
      "Epoch 16/100\n",
      "9073/9073 [==============================] - 4s 485us/step - loss: 0.0070 - val_loss: 8.4103e-04\n",
      "Epoch 17/100\n",
      "9073/9073 [==============================] - 5s 500us/step - loss: 0.0067 - val_loss: 9.3706e-04\n",
      "Epoch 18/100\n",
      "9073/9073 [==============================] - 5s 582us/step - loss: 0.0064 - val_loss: 7.5365e-04\n",
      "Epoch 19/100\n",
      "9073/9073 [==============================] - 5s 529us/step - loss: 0.0061 - val_loss: 7.3413e-04\n",
      "Epoch 20/100\n",
      "9073/9073 [==============================] - 5s 507us/step - loss: 0.0058 - val_loss: 7.1783e-04\n",
      "Epoch 21/100\n",
      "9073/9073 [==============================] - 5s 500us/step - loss: 0.0055 - val_loss: 7.4452e-04\n",
      "Epoch 22/100\n",
      "9073/9073 [==============================] - 5s 500us/step - loss: 0.0053 - val_loss: 6.2409e-04\n",
      "Epoch 23/100\n",
      "9073/9073 [==============================] - 4s 496us/step - loss: 0.0052 - val_loss: 6.1251e-04\n",
      "Epoch 24/100\n",
      "9073/9073 [==============================] - 5s 498us/step - loss: 0.0049 - val_loss: 6.1072e-04\n",
      "Epoch 25/100\n",
      "9073/9073 [==============================] - 4s 494us/step - loss: 0.0047 - val_loss: 5.8384e-04\n",
      "Epoch 26/100\n",
      "9073/9073 [==============================] - 4s 495us/step - loss: 0.0046 - val_loss: 5.9794e-04\n",
      "Epoch 27/100\n",
      "9073/9073 [==============================] - 5s 502us/step - loss: 0.0045 - val_loss: 5.5259e-04\n",
      "Epoch 28/100\n",
      "9073/9073 [==============================] - 5s 504us/step - loss: 0.0043 - val_loss: 6.0707e-04\n",
      "Epoch 29/100\n",
      "9073/9073 [==============================] - 5s 508us/step - loss: 0.0040 - val_loss: 5.3957e-04\n",
      "Epoch 30/100\n",
      "9073/9073 [==============================] - 5s 511us/step - loss: 0.0038 - val_loss: 5.0655e-04\n",
      "Epoch 31/100\n",
      "9073/9073 [==============================] - 5s 520us/step - loss: 0.0038 - val_loss: 5.3542e-04\n",
      "Epoch 32/100\n",
      "9073/9073 [==============================] - 5s 505us/step - loss: 0.0037 - val_loss: 4.9387e-04\n",
      "Epoch 33/100\n",
      "9073/9073 [==============================] - 5s 506us/step - loss: 0.0035 - val_loss: 4.9241e-04\n",
      "Epoch 34/100\n",
      "9073/9073 [==============================] - 5s 509us/step - loss: 0.0035 - val_loss: 6.0397e-04\n",
      "Epoch 35/100\n",
      "9073/9073 [==============================] - 5s 511us/step - loss: 0.0034 - val_loss: 5.9259e-04\n",
      "Epoch 36/100\n",
      "9073/9073 [==============================] - 5s 506us/step - loss: 0.0033 - val_loss: 5.1806e-04\n",
      "Epoch 37/100\n",
      "9073/9073 [==============================] - 5s 509us/step - loss: 0.0033 - val_loss: 4.1367e-04\n",
      "Epoch 38/100\n",
      "9073/9073 [==============================] - 5s 510us/step - loss: 0.0033 - val_loss: 3.4177e-04\n",
      "Epoch 39/100\n",
      "9073/9073 [==============================] - 5s 505us/step - loss: 0.0032 - val_loss: 3.4241e-04\n",
      "Epoch 40/100\n",
      "9073/9073 [==============================] - 5s 504us/step - loss: 0.0032 - val_loss: 4.0415e-04\n",
      "Epoch 41/100\n",
      "9073/9073 [==============================] - 5s 502us/step - loss: 0.0031 - val_loss: 3.5500e-04\n",
      "Epoch 42/100\n",
      "9073/9073 [==============================] - 5s 510us/step - loss: 0.0031 - val_loss: 3.4470e-04\n",
      "Epoch 43/100\n",
      "9073/9073 [==============================] - 5s 509us/step - loss: 0.0031 - val_loss: 3.2695e-04\n",
      "Epoch 44/100\n",
      "9073/9073 [==============================] - 5s 514us/step - loss: 0.0030 - val_loss: 3.0256e-04\n",
      "Epoch 45/100\n",
      "9073/9073 [==============================] - 5s 507us/step - loss: 0.0030 - val_loss: 2.8393e-04\n",
      "Epoch 46/100\n",
      "9073/9073 [==============================] - 5s 501us/step - loss: 0.0030 - val_loss: 4.5483e-04\n",
      "Epoch 47/100\n",
      "9073/9073 [==============================] - 5s 510us/step - loss: 0.0030 - val_loss: 2.8463e-04\n",
      "Epoch 48/100\n",
      "9073/9073 [==============================] - 5s 518us/step - loss: 0.0029 - val_loss: 2.7952e-04\n",
      "Epoch 49/100\n",
      "9073/9073 [==============================] - 5s 507us/step - loss: 0.0029 - val_loss: 4.6110e-04\n",
      "Epoch 50/100\n",
      "9073/9073 [==============================] - 4s 490us/step - loss: 0.0029 - val_loss: 2.8138e-04\n",
      "Epoch 51/100\n",
      "9073/9073 [==============================] - 4s 485us/step - loss: 0.0028 - val_loss: 3.1344e-04\n",
      "Epoch 52/100\n",
      "9073/9073 [==============================] - 4s 483us/step - loss: 0.0028 - val_loss: 2.3117e-04\n",
      "Epoch 53/100\n",
      "9073/9073 [==============================] - 5s 502us/step - loss: 0.0028 - val_loss: 3.5538e-04\n",
      "Epoch 54/100\n",
      "9073/9073 [==============================] - 5s 501us/step - loss: 0.0028 - val_loss: 2.5691e-04\n",
      "Epoch 55/100\n",
      "9073/9073 [==============================] - 4s 493us/step - loss: 0.0027 - val_loss: 2.8445e-04\n",
      "Epoch 56/100\n",
      "9073/9073 [==============================] - 4s 487us/step - loss: 0.0027 - val_loss: 2.6770e-04\n",
      "Epoch 57/100\n",
      "9073/9073 [==============================] - 4s 487us/step - loss: 0.0027 - val_loss: 3.1884e-04\n",
      "Epoch 58/100\n",
      "9073/9073 [==============================] - 5s 506us/step - loss: 0.0026 - val_loss: 2.6930e-04\n",
      "Epoch 59/100\n",
      "9073/9073 [==============================] - 5s 509us/step - loss: 0.0026 - val_loss: 2.1278e-04\n",
      "Epoch 60/100\n",
      "9073/9073 [==============================] - 5s 576us/step - loss: 0.0026 - val_loss: 3.7369e-04\n",
      "Epoch 61/100\n",
      "9073/9073 [==============================] - 5s 557us/step - loss: 0.0026 - val_loss: 2.5643e-04\n",
      "Epoch 62/100\n",
      "9073/9073 [==============================] - 6s 620us/step - loss: 0.0026 - val_loss: 3.2406e-04\n",
      "Epoch 63/100\n",
      "9073/9073 [==============================] - 5s 521us/step - loss: 0.0025 - val_loss: 2.1514e-04\n",
      "Epoch 64/100\n",
      "9073/9073 [==============================] - 5s 510us/step - loss: 0.0025 - val_loss: 1.9088e-04\n",
      "Epoch 65/100\n",
      "9073/9073 [==============================] - 5s 546us/step - loss: 0.0024 - val_loss: 2.5368e-04\n",
      "Epoch 66/100\n",
      "9073/9073 [==============================] - 5s 515us/step - loss: 0.0024 - val_loss: 3.7299e-04\n",
      "Epoch 67/100\n",
      "9073/9073 [==============================] - 5s 515us/step - loss: 0.0025 - val_loss: 2.0906e-04\n",
      "Epoch 68/100\n",
      "9073/9073 [==============================] - 5s 522us/step - loss: 0.0024 - val_loss: 2.8099e-04\n",
      "Epoch 69/100\n",
      "9073/9073 [==============================] - 5s 579us/step - loss: 0.0024 - val_loss: 5.9191e-04\n",
      "Epoch 70/100\n",
      "9073/9073 [==============================] - 5s 560us/step - loss: 0.0024 - val_loss: 2.3881e-04\n",
      "Epoch 71/100\n",
      "9073/9073 [==============================] - 4s 467us/step - loss: 0.0023 - val_loss: 2.6091e-04\n",
      "Epoch 72/100\n",
      "9073/9073 [==============================] - 4s 467us/step - loss: 0.0023 - val_loss: 2.1266e-04\n",
      "Epoch 73/100\n",
      "9073/9073 [==============================] - 4s 461us/step - loss: 0.0023 - val_loss: 2.1962e-04\n",
      "Epoch 74/100\n",
      "9073/9073 [==============================] - 4s 462us/step - loss: 0.0023 - val_loss: 4.3667e-04\n",
      "Epoch 75/100\n"
     ]
    },
    {
     "name": "stdout",
     "output_type": "stream",
     "text": [
      "9073/9073 [==============================] - 4s 456us/step - loss: 0.0023 - val_loss: 2.7688e-04\n",
      "Epoch 76/100\n",
      "9073/9073 [==============================] - 4s 476us/step - loss: 0.0023 - val_loss: 2.8608e-04\n",
      "Epoch 77/100\n",
      "9073/9073 [==============================] - 4s 468us/step - loss: 0.0023 - val_loss: 2.3627e-04\n",
      "Epoch 78/100\n",
      "9073/9073 [==============================] - 4s 468us/step - loss: 0.0022 - val_loss: 2.1674e-04\n",
      "Epoch 79/100\n",
      "9073/9073 [==============================] - 4s 483us/step - loss: 0.0022 - val_loss: 2.5347e-04\n",
      "Epoch 80/100\n",
      "9073/9073 [==============================] - 5s 602us/step - loss: 0.0022 - val_loss: 1.7760e-04\n",
      "Epoch 81/100\n",
      "9073/9073 [==============================] - 5s 546us/step - loss: 0.0023 - val_loss: 2.2821e-04\n",
      "Epoch 82/100\n",
      "9073/9073 [==============================] - 5s 509us/step - loss: 0.0022 - val_loss: 2.2165e-04\n",
      "Epoch 83/100\n",
      "9073/9073 [==============================] - 5s 512us/step - loss: 0.0022 - val_loss: 2.3512e-04\n",
      "Epoch 84/100\n",
      "9073/9073 [==============================] - 5s 514us/step - loss: 0.0022 - val_loss: 1.4725e-04\n",
      "Epoch 85/100\n",
      "9073/9073 [==============================] - 5s 517us/step - loss: 0.0021 - val_loss: 3.3271e-04\n",
      "Epoch 86/100\n",
      "9073/9073 [==============================] - 5s 506us/step - loss: 0.0022 - val_loss: 1.9578e-04\n",
      "Epoch 87/100\n",
      "9073/9073 [==============================] - 5s 501us/step - loss: 0.0022 - val_loss: 1.9859e-04\n",
      "Epoch 88/100\n",
      "9073/9073 [==============================] - 5s 502us/step - loss: 0.0021 - val_loss: 1.5541e-04\n",
      "Epoch 89/100\n",
      "9073/9073 [==============================] - 5s 504us/step - loss: 0.0021 - val_loss: 2.0716e-04\n",
      "Epoch 90/100\n",
      "9073/9073 [==============================] - 5s 518us/step - loss: 0.0021 - val_loss: 3.3535e-04\n",
      "Epoch 91/100\n",
      "9073/9073 [==============================] - 5s 505us/step - loss: 0.0021 - val_loss: 2.2612e-04\n",
      "Epoch 92/100\n",
      "9073/9073 [==============================] - 5s 508us/step - loss: 0.0021 - val_loss: 1.7454e-04\n",
      "Epoch 93/100\n",
      "9073/9073 [==============================] - 5s 505us/step - loss: 0.0020 - val_loss: 2.4875e-04\n",
      "Epoch 94/100\n",
      "9073/9073 [==============================] - 5s 502us/step - loss: 0.0021 - val_loss: 2.0850e-04\n",
      "Epoch 95/100\n",
      "9073/9073 [==============================] - 5s 502us/step - loss: 0.0021 - val_loss: 1.5944e-04\n",
      "Epoch 96/100\n",
      "9073/9073 [==============================] - 5s 504us/step - loss: 0.0021 - val_loss: 1.5766e-04\n",
      "Epoch 97/100\n",
      "9073/9073 [==============================] - 5s 516us/step - loss: 0.0020 - val_loss: 1.7177e-04\n",
      "Epoch 98/100\n",
      "9073/9073 [==============================] - 5s 508us/step - loss: 0.0020 - val_loss: 1.4423e-04\n",
      "Epoch 99/100\n",
      "9073/9073 [==============================] - 5s 507us/step - loss: 0.0020 - val_loss: 2.1441e-04\n",
      "Epoch 100/100\n",
      "9073/9073 [==============================] - 5s 513us/step - loss: 0.0019 - val_loss: 1.7115e-04\n"
     ]
    }
   ],
   "source": [
    "history = LSTM_model_1.fit(X, y, epochs=100, batch_size=128, validation_split=0.25)"
   ]
  },
  {
   "cell_type": "code",
   "execution_count": 688,
   "metadata": {},
   "outputs": [
    {
     "data": {
      "text/plain": [
       "[<matplotlib.lines.Line2D at 0x1c5191cf28>]"
      ]
     },
     "execution_count": 688,
     "metadata": {},
     "output_type": "execute_result"
    },
    {
     "data": {
      "image/png": "[encoded data removed]",
      "text/plain": [
       "<Figure size 1296x576 with 1 Axes>"
      ]
     },
     "metadata": {
      "needs_background": "light"
     },
     "output_type": "display_data"
    }
   ],
   "source": [
    "plt.figure(figsize=(18,8))\n",
    "plt.plot(history.history['loss'])\n",
    "plt.plot(history.history['val_loss'])"
   ]
  },
  {
   "cell_type": "code",
   "execution_count": 286,
   "metadata": {},
   "outputs": [],
   "source": [
    "\n",
    "\n",
    "LSTM_model_2 = Sequential()\n",
    "LSTM_model_2.add(LSTM(16, activation='relu', input_shape=(num_steps, n_features)))\n",
    "# LSTM_model_2.add(Dense(8))\n",
    "# LSTM_model_2.add(LSTM(16, activation='relu'))\n",
    "LSTM_model_2.add(Dense(1))\n",
    "LSTM_model_2.compile(optimizer='adam', loss='mse')"
   ]
  },
  {
   "cell_type": "code",
   "execution_count": 287,
   "metadata": {},
   "outputs": [
    {
     "name": "stdout",
     "output_type": "stream",
     "text": [
      "Train on 33769 samples, validate on 619 samples\n",
      "Epoch 1/100\n",
      "33769/33769 [==============================] - 17s 507us/step - loss: 0.5075 - val_loss: 0.0034\n",
      "Epoch 2/100\n",
      "33769/33769 [==============================] - 15s 452us/step - loss: 0.0148 - val_loss: 5.4571e-04\n",
      "Epoch 3/100\n",
      "33769/33769 [==============================] - 15s 452us/step - loss: 0.0019 - val_loss: 3.4029e-04\n",
      "Epoch 4/100\n",
      "33769/33769 [==============================] - 16s 465us/step - loss: 0.0012 - val_loss: 2.4501e-04\n",
      "Epoch 5/100\n",
      "33769/33769 [==============================] - 16s 460us/step - loss: 9.5149e-04 - val_loss: 2.2599e-04\n",
      "Epoch 6/100\n",
      "33769/33769 [==============================] - 16s 461us/step - loss: 9.0372e-04 - val_loss: 2.5732e-04\n",
      "Epoch 7/100\n",
      "33769/33769 [==============================] - 16s 464us/step - loss: 8.6225e-04 - val_loss: 2.2103e-04\n",
      "Epoch 8/100\n",
      "33769/33769 [==============================] - 16s 465us/step - loss: 8.4849e-04 - val_loss: 2.2583e-04\n",
      "Epoch 9/100\n",
      "33769/33769 [==============================] - 16s 475us/step - loss: 8.1493e-04 - val_loss: 2.0468e-04\n",
      "Epoch 10/100\n",
      "33769/33769 [==============================] - 16s 464us/step - loss: 7.9516e-04 - val_loss: 1.9164e-04\n",
      "Epoch 11/100\n",
      "33769/33769 [==============================] - 16s 463us/step - loss: 7.8790e-04 - val_loss: 2.5075e-04\n",
      "Epoch 12/100\n",
      "33769/33769 [==============================] - 16s 466us/step - loss: 7.5674e-04 - val_loss: 2.7092e-04\n",
      "Epoch 13/100\n",
      "33769/33769 [==============================] - 16s 472us/step - loss: 7.4365e-04 - val_loss: 1.8025e-04\n",
      "Epoch 14/100\n",
      "33769/33769 [==============================] - 16s 479us/step - loss: 7.3796e-04 - val_loss: 2.0316e-04\n",
      "Epoch 15/100\n",
      "33769/33769 [==============================] - 16s 468us/step - loss: 7.3125e-04 - val_loss: 1.8660e-04\n",
      "Epoch 16/100\n",
      "33769/33769 [==============================] - 16s 470us/step - loss: 6.9862e-04 - val_loss: 1.7308e-04\n",
      "Epoch 17/100\n",
      "33769/33769 [==============================] - 16s 470us/step - loss: 6.9232e-04 - val_loss: 1.6919e-04\n",
      "Epoch 18/100\n",
      "33769/33769 [==============================] - 16s 468us/step - loss: 6.6950e-04 - val_loss: 1.9692e-04\n",
      "Epoch 19/100\n",
      "33769/33769 [==============================] - 16s 474us/step - loss: 6.4838e-04 - val_loss: 1.6241e-04\n",
      "Epoch 20/100\n",
      "33769/33769 [==============================] - 16s 474us/step - loss: 6.2710e-04 - val_loss: 1.7985e-04\n",
      "Epoch 21/100\n",
      "33769/33769 [==============================] - 16s 471us/step - loss: 6.1095e-04 - val_loss: 1.5671e-04\n",
      "Epoch 22/100\n",
      "33769/33769 [==============================] - 16s 471us/step - loss: 5.9574e-04 - val_loss: 1.7274e-04\n",
      "Epoch 23/100\n",
      "33769/33769 [==============================] - 16s 470us/step - loss: 5.8528e-04 - val_loss: 2.0868e-04\n",
      "Epoch 24/100\n",
      "33769/33769 [==============================] - 16s 482us/step - loss: 5.6882e-04 - val_loss: 1.6505e-04\n",
      "Epoch 25/100\n",
      "33769/33769 [==============================] - 16s 470us/step - loss: 5.3586e-04 - val_loss: 1.9760e-04\n",
      "Epoch 26/100\n",
      "33769/33769 [==============================] - 16s 471us/step - loss: 5.1491e-04 - val_loss: 1.3503e-04\n",
      "Epoch 27/100\n",
      "33769/33769 [==============================] - 16s 471us/step - loss: 4.9654e-04 - val_loss: 1.3664e-04\n",
      "Epoch 28/100\n",
      "33769/33769 [==============================] - 16s 471us/step - loss: 4.7933e-04 - val_loss: 1.9269e-04\n",
      "Epoch 29/100\n",
      "33769/33769 [==============================] - 16s 478us/step - loss: 4.5295e-04 - val_loss: 2.1515e-04\n",
      "Epoch 30/100\n",
      "33769/33769 [==============================] - 16s 474us/step - loss: 4.2576e-04 - val_loss: 1.4572e-04\n",
      "Epoch 31/100\n",
      "33769/33769 [==============================] - 16s 487us/step - loss: 3.9749e-04 - val_loss: 1.1603e-04\n",
      "Epoch 32/100\n",
      "33769/33769 [==============================] - 16s 478us/step - loss: 3.5610e-04 - val_loss: 1.0784e-04\n",
      "Epoch 33/100\n",
      "33769/33769 [==============================] - 16s 472us/step - loss: 3.3359e-04 - val_loss: 1.3091e-04\n",
      "Epoch 34/100\n",
      "33769/33769 [==============================] - 16s 480us/step - loss: 3.3343e-04 - val_loss: 1.1617e-04\n",
      "Epoch 35/100\n",
      "33769/33769 [==============================] - 16s 478us/step - loss: 3.2679e-04 - val_loss: 1.2084e-04\n",
      "Epoch 36/100\n",
      "33769/33769 [==============================] - 16s 476us/step - loss: 3.1538e-04 - val_loss: 1.0514e-04\n",
      "Epoch 37/100\n",
      "33769/33769 [==============================] - 16s 475us/step - loss: 3.1385e-04 - val_loss: 9.6137e-05\n",
      "Epoch 38/100\n",
      "33769/33769 [==============================] - 16s 483us/step - loss: 3.0796e-04 - val_loss: 9.2936e-05\n",
      "Epoch 39/100\n",
      "33769/33769 [==============================] - 16s 484us/step - loss: 3.0309e-04 - val_loss: 1.0013e-04\n",
      "Epoch 40/100\n",
      "33769/33769 [==============================] - 16s 472us/step - loss: 2.9869e-04 - val_loss: 8.9305e-05\n",
      "Epoch 41/100\n",
      "33769/33769 [==============================] - 16s 471us/step - loss: 2.9288e-04 - val_loss: 1.0556e-04\n",
      "Epoch 42/100\n",
      "33769/33769 [==============================] - 15s 437us/step - loss: 2.7854e-04 - val_loss: 1.0060e-04\n",
      "Epoch 43/100\n",
      "33769/33769 [==============================] - 14s 423us/step - loss: 2.8529e-04 - val_loss: 1.2985e-04\n",
      "Epoch 44/100\n",
      "33769/33769 [==============================] - 14s 422us/step - loss: 2.8171e-04 - val_loss: 1.0158e-04\n",
      "Epoch 45/100\n",
      "33769/33769 [==============================] - 14s 423us/step - loss: 2.7405e-04 - val_loss: 8.6336e-05\n",
      "Epoch 46/100\n",
      "33769/33769 [==============================] - 14s 429us/step - loss: 2.7687e-04 - val_loss: 7.8715e-05\n",
      "Epoch 47/100\n",
      "33769/33769 [==============================] - 15s 435us/step - loss: 2.7897e-04 - val_loss: 8.0726e-05\n",
      "Epoch 48/100\n",
      "33769/33769 [==============================] - 15s 434us/step - loss: 2.6714e-04 - val_loss: 1.1197e-04\n",
      "Epoch 49/100\n",
      "33769/33769 [==============================] - 14s 426us/step - loss: 2.6347e-04 - val_loss: 7.0757e-05\n",
      "Epoch 50/100\n",
      "33769/33769 [==============================] - 14s 428us/step - loss: 2.7150e-04 - val_loss: 7.0993e-05\n",
      "Epoch 51/100\n",
      "33769/33769 [==============================] - 14s 429us/step - loss: 2.6197e-04 - val_loss: 7.6290e-05\n",
      "Epoch 52/100\n",
      "33769/33769 [==============================] - 14s 423us/step - loss: 2.6804e-04 - val_loss: 7.3215e-05\n",
      "Epoch 53/100\n",
      "33769/33769 [==============================] - 14s 424us/step - loss: 2.5813e-04 - val_loss: 8.1792e-05\n",
      "Epoch 54/100\n",
      "33769/33769 [==============================] - 14s 426us/step - loss: 2.6392e-04 - val_loss: 7.7547e-05\n",
      "Epoch 55/100\n",
      "33769/33769 [==============================] - 14s 423us/step - loss: 2.5276e-04 - val_loss: 1.1443e-04\n",
      "Epoch 56/100\n",
      "33769/33769 [==============================] - 15s 431us/step - loss: 2.5824e-04 - val_loss: 1.1721e-04\n",
      "Epoch 57/100\n",
      "33769/33769 [==============================] - 14s 428us/step - loss: 2.7657e-04 - val_loss: 1.9474e-04\n",
      "Epoch 58/100\n",
      "33769/33769 [==============================] - 14s 425us/step - loss: 2.6358e-04 - val_loss: 7.5823e-05\n",
      "Epoch 59/100\n",
      "33769/33769 [==============================] - 14s 426us/step - loss: 2.6387e-04 - val_loss: 8.4360e-05\n",
      "Epoch 60/100\n",
      "33769/33769 [==============================] - 14s 423us/step - loss: 2.5497e-04 - val_loss: 8.5966e-05\n",
      "Epoch 61/100\n",
      "33769/33769 [==============================] - 14s 422us/step - loss: 2.5912e-04 - val_loss: 6.6158e-05\n",
      "Epoch 62/100\n",
      "33769/33769 [==============================] - 14s 423us/step - loss: 2.5793e-04 - val_loss: 7.1860e-05\n",
      "Epoch 63/100\n",
      "33769/33769 [==============================] - 15s 433us/step - loss: 2.5794e-04 - val_loss: 7.6060e-05\n",
      "Epoch 64/100\n",
      "33769/33769 [==============================] - 14s 424us/step - loss: 2.6032e-04 - val_loss: 8.1244e-05\n",
      "Epoch 65/100\n",
      "33769/33769 [==============================] - 14s 422us/step - loss: 2.5670e-04 - val_loss: 1.0445e-04\n",
      "Epoch 66/100\n",
      "33769/33769 [==============================] - 14s 423us/step - loss: 2.5035e-04 - val_loss: 6.7536e-05\n",
      "Epoch 67/100\n",
      "33769/33769 [==============================] - 14s 421us/step - loss: 2.5457e-04 - val_loss: 8.8990e-05\n",
      "Epoch 68/100\n",
      "33769/33769 [==============================] - 14s 424us/step - loss: 2.5145e-04 - val_loss: 8.2653e-05\n",
      "Epoch 69/100\n",
      "33769/33769 [==============================] - 14s 422us/step - loss: 2.5386e-04 - val_loss: 7.9830e-05\n",
      "Epoch 70/100\n",
      "33769/33769 [==============================] - 14s 423us/step - loss: 2.6289e-04 - val_loss: 1.2329e-04\n"
     ]
    },
    {
     "name": "stdout",
     "output_type": "stream",
     "text": [
      "Epoch 71/100\n",
      "33769/33769 [==============================] - 14s 421us/step - loss: 2.5236e-04 - val_loss: 1.0484e-04\n",
      "Epoch 72/100\n",
      "33769/33769 [==============================] - 14s 425us/step - loss: 2.5559e-04 - val_loss: 1.0331e-04\n",
      "Epoch 73/100\n",
      "33769/33769 [==============================] - ETA: 0s - loss: 2.4983e-0 - 15s 449us/step - loss: 2.5143e-04 - val_loss: 1.1410e-04\n",
      "Epoch 74/100\n",
      "33769/33769 [==============================] - 14s 429us/step - loss: 2.5619e-04 - val_loss: 6.7878e-05\n",
      "Epoch 75/100\n",
      "33769/33769 [==============================] - 14s 423us/step - loss: 2.4696e-04 - val_loss: 6.3019e-05\n",
      "Epoch 76/100\n",
      "33769/33769 [==============================] - 14s 422us/step - loss: 2.4641e-04 - val_loss: 8.2700e-05\n",
      "Epoch 77/100\n",
      "33769/33769 [==============================] - 14s 420us/step - loss: 2.4503e-04 - val_loss: 6.9561e-05\n",
      "Epoch 78/100\n",
      "33769/33769 [==============================] - 14s 421us/step - loss: 2.5311e-04 - val_loss: 6.4097e-05\n",
      "Epoch 79/100\n",
      "33769/33769 [==============================] - 14s 422us/step - loss: 2.5333e-04 - val_loss: 7.2306e-05\n",
      "Epoch 80/100\n",
      "33769/33769 [==============================] - 14s 421us/step - loss: 2.4969e-04 - val_loss: 8.2632e-05\n",
      "Epoch 81/100\n",
      "33769/33769 [==============================] - 14s 422us/step - loss: 2.6866e-04 - val_loss: 1.3234e-04\n",
      "Epoch 82/100\n",
      "33769/33769 [==============================] - 14s 421us/step - loss: 2.4255e-04 - val_loss: 6.2964e-05\n",
      "Epoch 83/100\n",
      "33769/33769 [==============================] - 14s 422us/step - loss: 2.4661e-04 - val_loss: 1.2674e-04\n",
      "Epoch 84/100\n",
      "33769/33769 [==============================] - 14s 426us/step - loss: 2.4406e-04 - val_loss: 6.6697e-05\n",
      "Epoch 85/100\n",
      "33769/33769 [==============================] - 14s 425us/step - loss: 2.4856e-04 - val_loss: 5.9253e-05\n",
      "Epoch 86/100\n",
      "33769/33769 [==============================] - 14s 425us/step - loss: 2.4435e-04 - val_loss: 1.0105e-04\n",
      "Epoch 87/100\n",
      "33769/33769 [==============================] - 14s 422us/step - loss: 2.4657e-04 - val_loss: 7.2128e-05\n",
      "Epoch 88/100\n",
      "33769/33769 [==============================] - 14s 428us/step - loss: 2.4045e-04 - val_loss: 6.0090e-05\n",
      "Epoch 89/100\n",
      "33769/33769 [==============================] - 14s 422us/step - loss: 2.4825e-04 - val_loss: 8.6772e-05\n",
      "Epoch 90/100\n",
      "33769/33769 [==============================] - 14s 423us/step - loss: 2.4969e-04 - val_loss: 9.3399e-05\n",
      "Epoch 91/100\n",
      "33769/33769 [==============================] - 14s 422us/step - loss: 2.4289e-04 - val_loss: 8.5913e-05\n",
      "Epoch 92/100\n",
      "33769/33769 [==============================] - 14s 422us/step - loss: 2.4445e-04 - val_loss: 9.5496e-05\n",
      "Epoch 93/100\n",
      "33769/33769 [==============================] - 14s 426us/step - loss: 2.4625e-04 - val_loss: 6.5811e-05\n",
      "Epoch 94/100\n",
      "33769/33769 [==============================] - 14s 423us/step - loss: 2.4470e-04 - val_loss: 9.4277e-05\n",
      "Epoch 95/100\n",
      "33769/33769 [==============================] - 14s 423us/step - loss: 2.4528e-04 - val_loss: 7.9966e-05\n",
      "Epoch 96/100\n",
      "33769/33769 [==============================] - 14s 423us/step - loss: 2.4631e-04 - val_loss: 6.5449e-05\n",
      "Epoch 97/100\n",
      "33769/33769 [==============================] - 14s 427us/step - loss: 2.3913e-04 - val_loss: 5.6640e-05\n",
      "Epoch 98/100\n",
      "33769/33769 [==============================] - 14s 421us/step - loss: 2.3878e-04 - val_loss: 6.6146e-05\n",
      "Epoch 99/100\n",
      "33769/33769 [==============================] - 14s 423us/step - loss: 2.3959e-04 - val_loss: 5.5836e-05\n",
      "Epoch 100/100\n",
      "33769/33769 [==============================] - 14s 422us/step - loss: 2.4301e-04 - val_loss: 5.6323e-05\n"
     ]
    }
   ],
   "source": [
    "history_2 = LSTM_model_2.fit(X, y, epochs=100, batch_size=128, validation_data=(X_val, y_val))"
   ]
  },
  {
   "cell_type": "code",
   "execution_count": 288,
   "metadata": {},
   "outputs": [],
   "source": [
    "LSTM_model_2.save('LSTM_model_2_fit_100epochs.h5')"
   ]
  },
  {
   "cell_type": "code",
   "execution_count": 289,
   "metadata": {},
   "outputs": [],
   "source": [
    "keras.models.save_model(\n",
    "    LSTM_model_2,\n",
    "    'LSTM_model_2_fit_100epochs_2.hdf5',\n",
    "    overwrite=True,\n",
    "    include_optimizer=True\n",
    ")"
   ]
  },
  {
   "cell_type": "code",
   "execution_count": 290,
   "metadata": {},
   "outputs": [],
   "source": [
    "LSTM_model_3 = Sequential()\n",
    "LSTM_model_3.add(LSTM(32, activation='relu', input_shape=(num_steps, n_features), dropout=0.05,recurrent_dropout=0.05))\n",
    "LSTM_model_3.add(Dense(32))\n",
    "# LSTM_model_3.add(LSTM(16, activation='relu'))\n",
    "LSTM_model_3.add(Dense(1))\n",
    "LSTM_model_3.compile(optimizer='adam', loss='mse')\n",
    "\n"
   ]
  },
  {
   "cell_type": "code",
   "execution_count": 291,
   "metadata": {},
   "outputs": [
    {
     "name": "stdout",
     "output_type": "stream",
     "text": [
      "Train on 33769 samples, validate on 619 samples\n",
      "Epoch 1/100\n",
      "33769/33769 [==============================] - 15s 444us/step - loss: 2.4161e-04 - val_loss: 1.4402e-04\n",
      "Epoch 2/100\n",
      "33769/33769 [==============================] - 14s 423us/step - loss: 2.4129e-04 - val_loss: 8.4394e-05\n",
      "Epoch 3/100\n",
      "33769/33769 [==============================] - 14s 423us/step - loss: 2.4080e-04 - val_loss: 5.6402e-05\n",
      "Epoch 4/100\n",
      "33769/33769 [==============================] - 14s 423us/step - loss: 2.4823e-04 - val_loss: 9.6544e-05\n",
      "Epoch 5/100\n",
      "33769/33769 [==============================] - 14s 423us/step - loss: 2.4032e-04 - val_loss: 5.5833e-05\n",
      "Epoch 6/100\n",
      "33769/33769 [==============================] - 14s 423us/step - loss: 2.4110e-04 - val_loss: 5.7477e-05\n",
      "Epoch 7/100\n",
      "33769/33769 [==============================] - 14s 423us/step - loss: 2.3988e-04 - val_loss: 6.0386e-05\n",
      "Epoch 8/100\n",
      "33769/33769 [==============================] - 14s 424us/step - loss: 2.3779e-04 - val_loss: 5.8348e-05\n",
      "Epoch 9/100\n",
      "33769/33769 [==============================] - 15s 429us/step - loss: 2.4406e-04 - val_loss: 1.8431e-04\n",
      "Epoch 10/100\n",
      "33769/33769 [==============================] - 14s 425us/step - loss: 2.4366e-04 - val_loss: 5.5977e-05\n",
      "Epoch 11/100\n",
      "33769/33769 [==============================] - 14s 424us/step - loss: 2.4622e-04 - val_loss: 5.6731e-05\n",
      "Epoch 12/100\n",
      "33769/33769 [==============================] - 14s 423us/step - loss: 2.3568e-04 - val_loss: 6.0984e-05\n",
      "Epoch 13/100\n",
      "33769/33769 [==============================] - 14s 429us/step - loss: 2.4615e-04 - val_loss: 6.4339e-05\n",
      "Epoch 14/100\n",
      "33769/33769 [==============================] - 14s 425us/step - loss: 2.4402e-04 - val_loss: 6.0287e-05\n",
      "Epoch 15/100\n",
      "33769/33769 [==============================] - 14s 424us/step - loss: 2.4289e-04 - val_loss: 9.0680e-05\n",
      "Epoch 16/100\n",
      "33769/33769 [==============================] - 14s 426us/step - loss: 2.4025e-04 - val_loss: 6.7048e-05\n",
      "Epoch 17/100\n",
      "33769/33769 [==============================] - 14s 425us/step - loss: 2.3283e-04 - val_loss: 6.5622e-05\n",
      "Epoch 18/100\n",
      "33769/33769 [==============================] - 14s 427us/step - loss: 2.3918e-04 - val_loss: 6.2698e-05\n",
      "Epoch 19/100\n",
      "33769/33769 [==============================] - 14s 423us/step - loss: 2.3546e-04 - val_loss: 5.6375e-05\n",
      "Epoch 20/100\n",
      "33769/33769 [==============================] - 14s 425us/step - loss: 2.3446e-04 - val_loss: 5.5639e-05\n",
      "Epoch 21/100\n",
      "33769/33769 [==============================] - 14s 423us/step - loss: 2.4906e-04 - val_loss: 8.7302e-05\n",
      "Epoch 22/100\n",
      "33769/33769 [==============================] - 14s 423us/step - loss: 2.4414e-04 - val_loss: 5.7179e-05\n",
      "Epoch 23/100\n",
      "33769/33769 [==============================] - 14s 426us/step - loss: 2.4036e-04 - val_loss: 9.3196e-05\n",
      "Epoch 24/100\n",
      "33769/33769 [==============================] - 15s 435us/step - loss: 2.3653e-04 - val_loss: 6.0936e-05\n",
      "Epoch 25/100\n",
      "33769/33769 [==============================] - 15s 435us/step - loss: 2.3685e-04 - val_loss: 6.0516e-05\n",
      "Epoch 26/100\n",
      "33769/33769 [==============================] - 14s 426us/step - loss: 2.3444e-04 - val_loss: 8.8497e-05\n",
      "Epoch 27/100\n",
      "33769/33769 [==============================] - 15s 432us/step - loss: 2.4862e-04 - val_loss: 5.8468e-05\n",
      "Epoch 28/100\n",
      "33769/33769 [==============================] - 14s 424us/step - loss: 2.3935e-04 - val_loss: 6.3296e-05\n",
      "Epoch 29/100\n",
      "33769/33769 [==============================] - 14s 424us/step - loss: 2.3298e-04 - val_loss: 8.0798e-05\n",
      "Epoch 30/100\n",
      "33769/33769 [==============================] - 14s 423us/step - loss: 2.3397e-04 - val_loss: 5.7749e-05\n",
      "Epoch 31/100\n",
      "33769/33769 [==============================] - 14s 425us/step - loss: 2.3522e-04 - val_loss: 1.1565e-04\n",
      "Epoch 32/100\n",
      "33769/33769 [==============================] - 15s 431us/step - loss: 2.3545e-04 - val_loss: 6.7044e-05\n",
      "Epoch 33/100\n",
      "33769/33769 [==============================] - 14s 428us/step - loss: 2.3874e-04 - val_loss: 5.7399e-05\n",
      "Epoch 34/100\n",
      "33769/33769 [==============================] - 15s 430us/step - loss: 2.3654e-04 - val_loss: 5.4997e-05\n",
      "Epoch 35/100\n",
      "33769/33769 [==============================] - 15s 435us/step - loss: 2.3448e-04 - val_loss: 1.0414e-04\n",
      "Epoch 36/100\n",
      "33769/33769 [==============================] - 14s 424us/step - loss: 2.3591e-04 - val_loss: 5.6987e-05\n",
      "Epoch 37/100\n",
      "33769/33769 [==============================] - 14s 427us/step - loss: 2.3748e-04 - val_loss: 6.4118e-05\n",
      "Epoch 38/100\n",
      "33769/33769 [==============================] - 15s 430us/step - loss: 2.3863e-04 - val_loss: 8.9993e-05\n",
      "Epoch 39/100\n",
      "33769/33769 [==============================] - 14s 424us/step - loss: 2.3619e-04 - val_loss: 1.3007e-04\n",
      "Epoch 40/100\n",
      "33769/33769 [==============================] - 14s 423us/step - loss: 2.3559e-04 - val_loss: 5.6773e-05\n",
      "Epoch 41/100\n",
      "33769/33769 [==============================] - 14s 428us/step - loss: 2.3608e-04 - val_loss: 5.7078e-05\n",
      "Epoch 42/100\n",
      "33769/33769 [==============================] - 14s 424us/step - loss: 2.3586e-04 - val_loss: 5.8130e-05\n",
      "Epoch 43/100\n",
      "33769/33769 [==============================] - 14s 423us/step - loss: 2.4224e-04 - val_loss: 5.9638e-05\n",
      "Epoch 44/100\n",
      "33769/33769 [==============================] - 14s 423us/step - loss: 2.4016e-04 - val_loss: 5.7507e-05\n",
      "Epoch 45/100\n",
      "33769/33769 [==============================] - 14s 423us/step - loss: 2.3732e-04 - val_loss: 9.2332e-05\n",
      "Epoch 46/100\n",
      "33769/33769 [==============================] - 14s 424us/step - loss: 2.3578e-04 - val_loss: 5.6348e-05\n",
      "Epoch 47/100\n",
      "33769/33769 [==============================] - 14s 425us/step - loss: 2.4697e-04 - val_loss: 9.6355e-05\n",
      "Epoch 48/100\n",
      "33769/33769 [==============================] - 14s 424us/step - loss: 2.3488e-04 - val_loss: 5.5492e-05\n",
      "Epoch 49/100\n",
      "33769/33769 [==============================] - 14s 426us/step - loss: 2.3521e-04 - val_loss: 5.7116e-05\n",
      "Epoch 50/100\n",
      "33769/33769 [==============================] - 14s 428us/step - loss: 2.4242e-04 - val_loss: 6.4406e-05\n",
      "Epoch 51/100\n",
      "33769/33769 [==============================] - 14s 424us/step - loss: 2.3844e-04 - val_loss: 5.7313e-05\n",
      "Epoch 52/100\n",
      "33769/33769 [==============================] - 14s 423us/step - loss: 2.3274e-04 - val_loss: 7.1168e-05\n",
      "Epoch 53/100\n",
      "33769/33769 [==============================] - 14s 423us/step - loss: 2.3545e-04 - val_loss: 9.1084e-05\n",
      "Epoch 54/100\n",
      "33769/33769 [==============================] - 14s 427us/step - loss: 2.4281e-04 - val_loss: 7.4753e-05\n",
      "Epoch 55/100\n",
      "33769/33769 [==============================] - 14s 423us/step - loss: 2.3334e-04 - val_loss: 6.6925e-05\n",
      "Epoch 56/100\n",
      "33769/33769 [==============================] - 14s 427us/step - loss: 2.3287e-04 - val_loss: 6.5563e-05\n",
      "Epoch 57/100\n",
      "33769/33769 [==============================] - 14s 424us/step - loss: 2.3467e-04 - val_loss: 7.3230e-05\n",
      "Epoch 58/100\n",
      "33769/33769 [==============================] - 14s 423us/step - loss: 2.3354e-04 - val_loss: 8.2800e-05\n",
      "Epoch 59/100\n",
      "33769/33769 [==============================] - 14s 425us/step - loss: 2.3241e-04 - val_loss: 6.6968e-05\n",
      "Epoch 60/100\n",
      "33769/33769 [==============================] - 14s 425us/step - loss: 2.3560e-04 - val_loss: 6.1984e-05\n",
      "Epoch 61/100\n",
      "33769/33769 [==============================] - 14s 423us/step - loss: 2.3397e-04 - val_loss: 5.5013e-05\n",
      "Epoch 62/100\n",
      "33769/33769 [==============================] - 14s 422us/step - loss: 2.3121e-04 - val_loss: 6.3094e-05\n",
      "Epoch 63/100\n",
      "33769/33769 [==============================] - 14s 428us/step - loss: 2.4133e-04 - val_loss: 5.6743e-05\n",
      "Epoch 64/100\n",
      "33769/33769 [==============================] - 14s 428us/step - loss: 2.3703e-04 - val_loss: 5.5360e-05\n",
      "Epoch 65/100\n",
      "33769/33769 [==============================] - 14s 423us/step - loss: 2.3330e-04 - val_loss: 6.1747e-05\n",
      "Epoch 66/100\n",
      "33769/33769 [==============================] - 14s 424us/step - loss: 2.4068e-04 - val_loss: 5.7203e-05\n",
      "Epoch 67/100\n",
      "33769/33769 [==============================] - 14s 423us/step - loss: 2.3580e-04 - val_loss: 6.7297e-05\n",
      "Epoch 68/100\n",
      "33769/33769 [==============================] - 14s 423us/step - loss: 2.4384e-04 - val_loss: 5.5411e-05\n",
      "Epoch 69/100\n",
      "33769/33769 [==============================] - 14s 423us/step - loss: 2.3681e-04 - val_loss: 8.6333e-05\n",
      "Epoch 70/100\n"
     ]
    },
    {
     "name": "stdout",
     "output_type": "stream",
     "text": [
      "33769/33769 [==============================] - 14s 422us/step - loss: 2.3628e-04 - val_loss: 5.9544e-05\n",
      "Epoch 71/100\n",
      "33769/33769 [==============================] - 14s 422us/step - loss: 2.3330e-04 - val_loss: 6.1796e-05\n",
      "Epoch 72/100\n",
      "33769/33769 [==============================] - 14s 423us/step - loss: 2.3489e-04 - val_loss: 5.6073e-05\n",
      "Epoch 73/100\n",
      "33769/33769 [==============================] - 14s 426us/step - loss: 2.3409e-04 - val_loss: 7.5116e-05\n",
      "Epoch 74/100\n",
      "33769/33769 [==============================] - 14s 424us/step - loss: 2.3502e-04 - val_loss: 9.0027e-05\n",
      "Epoch 75/100\n",
      "33769/33769 [==============================] - 14s 423us/step - loss: 2.3320e-04 - val_loss: 8.0231e-05\n",
      "Epoch 76/100\n",
      "33769/33769 [==============================] - 14s 422us/step - loss: 2.3904e-04 - val_loss: 9.2309e-05\n",
      "Epoch 77/100\n",
      "33769/33769 [==============================] - 14s 426us/step - loss: 2.3498e-04 - val_loss: 5.3780e-05\n",
      "Epoch 78/100\n",
      "33769/33769 [==============================] - 14s 424us/step - loss: 2.3842e-04 - val_loss: 6.5093e-05\n",
      "Epoch 79/100\n",
      "33769/33769 [==============================] - 14s 424us/step - loss: 2.3754e-04 - val_loss: 5.8108e-05\n",
      "Epoch 80/100\n",
      "33769/33769 [==============================] - 14s 422us/step - loss: 2.3415e-04 - val_loss: 7.1403e-05\n",
      "Epoch 81/100\n",
      "33769/33769 [==============================] - 14s 423us/step - loss: 2.3314e-04 - val_loss: 7.9564e-05\n",
      "Epoch 82/100\n",
      "33769/33769 [==============================] - 14s 428us/step - loss: 2.3234e-04 - val_loss: 5.5890e-05\n",
      "Epoch 83/100\n",
      "33769/33769 [==============================] - 14s 424us/step - loss: 2.3477e-04 - val_loss: 6.8951e-05\n",
      "Epoch 84/100\n",
      "33769/33769 [==============================] - 14s 423us/step - loss: 2.3234e-04 - val_loss: 9.6086e-05\n",
      "Epoch 85/100\n",
      "33769/33769 [==============================] - 14s 429us/step - loss: 2.3105e-04 - val_loss: 5.6175e-05\n",
      "Epoch 86/100\n",
      "33769/33769 [==============================] - 14s 426us/step - loss: 2.3631e-04 - val_loss: 5.4776e-05\n",
      "Epoch 87/100\n",
      "33769/33769 [==============================] - 14s 424us/step - loss: 2.3331e-04 - val_loss: 5.3390e-05\n",
      "Epoch 88/100\n",
      "33769/33769 [==============================] - 14s 426us/step - loss: 2.3892e-04 - val_loss: 1.0642e-04\n",
      "Epoch 89/100\n",
      "33769/33769 [==============================] - 14s 425us/step - loss: 2.3377e-04 - val_loss: 5.9972e-05\n",
      "Epoch 90/100\n",
      "33769/33769 [==============================] - 14s 423us/step - loss: 2.3426e-04 - val_loss: 5.3760e-05\n",
      "Epoch 91/100\n",
      "33769/33769 [==============================] - 14s 424us/step - loss: 2.3496e-04 - val_loss: 5.4772e-05\n",
      "Epoch 92/100\n",
      "33769/33769 [==============================] - 14s 423us/step - loss: 2.3495e-04 - val_loss: 6.2381e-05\n",
      "Epoch 93/100\n",
      "33769/33769 [==============================] - 14s 425us/step - loss: 2.3636e-04 - val_loss: 5.7059e-05\n",
      "Epoch 94/100\n",
      "33769/33769 [==============================] - 14s 423us/step - loss: 2.3518e-04 - val_loss: 5.6631e-05\n",
      "Epoch 95/100\n",
      "33769/33769 [==============================] - 14s 422us/step - loss: 2.2927e-04 - val_loss: 5.9677e-05\n",
      "Epoch 96/100\n",
      "33769/33769 [==============================] - 14s 424us/step - loss: 2.3609e-04 - val_loss: 6.6919e-05\n",
      "Epoch 97/100\n",
      "33769/33769 [==============================] - 14s 423us/step - loss: 2.3474e-04 - val_loss: 6.0748e-05\n",
      "Epoch 98/100\n",
      "33769/33769 [==============================] - 14s 427us/step - loss: 2.3533e-04 - val_loss: 9.9981e-05\n",
      "Epoch 99/100\n",
      "33769/33769 [==============================] - 15s 430us/step - loss: 2.3783e-04 - val_loss: 6.6799e-05\n",
      "Epoch 100/100\n",
      "33769/33769 [==============================] - 15s 430us/step - loss: 2.3459e-04 - val_loss: 1.1333e-04\n"
     ]
    }
   ],
   "source": [
    "history_3 = LSTM_model_2.fit(X, y, epochs=100, batch_size=128, validation_data=(X_val, y_val))"
   ]
  },
  {
   "cell_type": "code",
   "execution_count": 292,
   "metadata": {},
   "outputs": [],
   "source": [
    "LSTM_model_3.save('LSTM_model_3_fit_100epochs.h5')"
   ]
  },
  {
   "cell_type": "code",
   "execution_count": 293,
   "metadata": {},
   "outputs": [],
   "source": [
    "keras.models.save_model(\n",
    "    LSTM_model_3,\n",
    "    'LSTM_model_3_fit_100epochs_2.hdf5',\n",
    "    overwrite=True,\n",
    "    include_optimizer=True\n",
    ")"
   ]
  },
  {
   "cell_type": "code",
   "execution_count": 362,
   "metadata": {},
   "outputs": [
    {
     "data": {
      "text/html": [
       "<div>\n",
       "<style scoped>\n",
       "    .dataframe tbody tr th:only-of-type {\n",
       "        vertical-align: middle;\n",
       "    }\n",
       "\n",
       "    .dataframe tbody tr th {\n",
       "        vertical-align: top;\n",
       "    }\n",
       "\n",
       "    .dataframe thead th {\n",
       "        text-align: right;\n",
       "    }\n",
       "</style>\n",
       "<table border=\"1\" class=\"dataframe\">\n",
       "  <thead>\n",
       "    <tr style=\"text-align: right;\">\n",
       "      <th></th>\n",
       "      <th>ds</th>\n",
       "      <th>y</th>\n",
       "    </tr>\n",
       "  </thead>\n",
       "  <tbody>\n",
       "    <tr>\n",
       "      <th>0</th>\n",
       "      <td>2017-01-25 16:00:00+00:00</td>\n",
       "      <td>19.14</td>\n",
       "    </tr>\n",
       "    <tr>\n",
       "      <th>1</th>\n",
       "      <td>2017-01-25 17:00:00+00:00</td>\n",
       "      <td>19.14</td>\n",
       "    </tr>\n",
       "    <tr>\n",
       "      <th>2</th>\n",
       "      <td>2017-01-25 18:00:00+00:00</td>\n",
       "      <td>19.14</td>\n",
       "    </tr>\n",
       "    <tr>\n",
       "      <th>3</th>\n",
       "      <td>2017-01-25 19:00:00+00:00</td>\n",
       "      <td>19.14</td>\n",
       "    </tr>\n",
       "    <tr>\n",
       "      <th>4</th>\n",
       "      <td>2017-01-25 20:00:00+00:00</td>\n",
       "      <td>19.14</td>\n",
       "    </tr>\n",
       "  </tbody>\n",
       "</table>\n",
       "</div>"
      ],
      "text/plain": [
       "                         ds      y\n",
       "0 2017-01-25 16:00:00+00:00  19.14\n",
       "1 2017-01-25 17:00:00+00:00  19.14\n",
       "2 2017-01-25 18:00:00+00:00  19.14\n",
       "3 2017-01-25 19:00:00+00:00  19.14\n",
       "4 2017-01-25 20:00:00+00:00  19.14"
      ]
     },
     "execution_count": 362,
     "metadata": {},
     "output_type": "execute_result"
    }
   ],
   "source": [
    "df_vix_FBP.head()"
   ]
  },
  {
   "cell_type": "code",
   "execution_count": null,
   "metadata": {},
   "outputs": [],
   "source": []
  },
  {
   "cell_type": "code",
   "execution_count": null,
   "metadata": {},
   "outputs": [],
   "source": []
  },
  {
   "cell_type": "code",
   "execution_count": 364,
   "metadata": {},
   "outputs": [
    {
     "data": {
      "text/html": [
       "<div>\n",
       "<style scoped>\n",
       "    .dataframe tbody tr th:only-of-type {\n",
       "        vertical-align: middle;\n",
       "    }\n",
       "\n",
       "    .dataframe tbody tr th {\n",
       "        vertical-align: top;\n",
       "    }\n",
       "\n",
       "    .dataframe thead th {\n",
       "        text-align: right;\n",
       "    }\n",
       "</style>\n",
       "<table border=\"1\" class=\"dataframe\">\n",
       "  <thead>\n",
       "    <tr style=\"text-align: right;\">\n",
       "      <th></th>\n",
       "      <th>ds</th>\n",
       "      <th>y</th>\n",
       "    </tr>\n",
       "  </thead>\n",
       "  <tbody>\n",
       "    <tr>\n",
       "      <th>432</th>\n",
       "      <td>2017-02-12 16:00:00+00:00</td>\n",
       "      <td>18.185</td>\n",
       "    </tr>\n",
       "    <tr>\n",
       "      <th>433</th>\n",
       "      <td>2017-02-12 17:00:00+00:00</td>\n",
       "      <td>18.185</td>\n",
       "    </tr>\n",
       "    <tr>\n",
       "      <th>434</th>\n",
       "      <td>2017-02-12 18:00:00+00:00</td>\n",
       "      <td>18.185</td>\n",
       "    </tr>\n",
       "    <tr>\n",
       "      <th>435</th>\n",
       "      <td>2017-02-12 19:00:00+00:00</td>\n",
       "      <td>18.185</td>\n",
       "    </tr>\n",
       "    <tr>\n",
       "      <th>436</th>\n",
       "      <td>2017-02-12 20:00:00+00:00</td>\n",
       "      <td>18.185</td>\n",
       "    </tr>\n",
       "    <tr>\n",
       "      <th>437</th>\n",
       "      <td>2017-02-12 21:00:00+00:00</td>\n",
       "      <td>18.185</td>\n",
       "    </tr>\n",
       "    <tr>\n",
       "      <th>438</th>\n",
       "      <td>2017-02-12 22:00:00+00:00</td>\n",
       "      <td>17.877</td>\n",
       "    </tr>\n",
       "    <tr>\n",
       "      <th>439</th>\n",
       "      <td>2017-02-12 23:00:00+00:00</td>\n",
       "      <td>17.840</td>\n",
       "    </tr>\n",
       "    <tr>\n",
       "      <th>1103</th>\n",
       "      <td>2017-03-12 17:00:00+00:00</td>\n",
       "      <td>17.000</td>\n",
       "    </tr>\n",
       "    <tr>\n",
       "      <th>1104</th>\n",
       "      <td>2017-03-12 18:00:00+00:00</td>\n",
       "      <td>17.000</td>\n",
       "    </tr>\n",
       "    <tr>\n",
       "      <th>1105</th>\n",
       "      <td>2017-03-12 19:00:00+00:00</td>\n",
       "      <td>17.000</td>\n",
       "    </tr>\n",
       "    <tr>\n",
       "      <th>1106</th>\n",
       "      <td>2017-03-12 20:00:00+00:00</td>\n",
       "      <td>17.000</td>\n",
       "    </tr>\n",
       "    <tr>\n",
       "      <th>1107</th>\n",
       "      <td>2017-03-12 21:00:00+00:00</td>\n",
       "      <td>17.000</td>\n",
       "    </tr>\n",
       "    <tr>\n",
       "      <th>1108</th>\n",
       "      <td>2017-03-12 22:00:00+00:00</td>\n",
       "      <td>17.000</td>\n",
       "    </tr>\n",
       "    <tr>\n",
       "      <th>1109</th>\n",
       "      <td>2017-03-12 23:00:00+00:00</td>\n",
       "      <td>16.928</td>\n",
       "    </tr>\n",
       "    <tr>\n",
       "      <th>1847</th>\n",
       "      <td>2017-04-12 17:00:00+00:00</td>\n",
       "      <td>17.898</td>\n",
       "    </tr>\n",
       "    <tr>\n",
       "      <th>1848</th>\n",
       "      <td>2017-04-12 18:00:00+00:00</td>\n",
       "      <td>17.898</td>\n",
       "    </tr>\n",
       "    <tr>\n",
       "      <th>1849</th>\n",
       "      <td>2017-04-12 19:00:00+00:00</td>\n",
       "      <td>17.898</td>\n",
       "    </tr>\n",
       "    <tr>\n",
       "      <th>1850</th>\n",
       "      <td>2017-04-12 20:00:00+00:00</td>\n",
       "      <td>17.898</td>\n",
       "    </tr>\n",
       "    <tr>\n",
       "      <th>1851</th>\n",
       "      <td>2017-04-12 21:00:00+00:00</td>\n",
       "      <td>17.898</td>\n",
       "    </tr>\n",
       "    <tr>\n",
       "      <th>1852</th>\n",
       "      <td>2017-04-12 22:00:00+00:00</td>\n",
       "      <td>17.898</td>\n",
       "    </tr>\n",
       "    <tr>\n",
       "      <th>1853</th>\n",
       "      <td>2017-04-12 23:00:00+00:00</td>\n",
       "      <td>17.967</td>\n",
       "    </tr>\n",
       "    <tr>\n",
       "      <th>2567</th>\n",
       "      <td>2017-05-12 17:00:00+00:00</td>\n",
       "      <td>14.045</td>\n",
       "    </tr>\n",
       "    <tr>\n",
       "      <th>2568</th>\n",
       "      <td>2017-05-12 18:00:00+00:00</td>\n",
       "      <td>14.045</td>\n",
       "    </tr>\n",
       "    <tr>\n",
       "      <th>2569</th>\n",
       "      <td>2017-05-12 19:00:00+00:00</td>\n",
       "      <td>14.045</td>\n",
       "    </tr>\n",
       "    <tr>\n",
       "      <th>2570</th>\n",
       "      <td>2017-05-12 20:00:00+00:00</td>\n",
       "      <td>14.045</td>\n",
       "    </tr>\n",
       "    <tr>\n",
       "      <th>2571</th>\n",
       "      <td>2017-05-12 21:00:00+00:00</td>\n",
       "      <td>14.045</td>\n",
       "    </tr>\n",
       "    <tr>\n",
       "      <th>2572</th>\n",
       "      <td>2017-05-12 22:00:00+00:00</td>\n",
       "      <td>14.045</td>\n",
       "    </tr>\n",
       "    <tr>\n",
       "      <th>2573</th>\n",
       "      <td>2017-05-12 23:00:00+00:00</td>\n",
       "      <td>14.045</td>\n",
       "    </tr>\n",
       "    <tr>\n",
       "      <th>3311</th>\n",
       "      <td>2017-06-12 17:00:00+00:00</td>\n",
       "      <td>13.445</td>\n",
       "    </tr>\n",
       "    <tr>\n",
       "      <th>...</th>\n",
       "      <td>...</td>\n",
       "      <td>...</td>\n",
       "    </tr>\n",
       "    <tr>\n",
       "      <th>17666</th>\n",
       "      <td>2019-01-01 18:00:00+00:00</td>\n",
       "      <td>38.667</td>\n",
       "    </tr>\n",
       "    <tr>\n",
       "      <th>17667</th>\n",
       "      <td>2019-01-01 19:00:00+00:00</td>\n",
       "      <td>38.667</td>\n",
       "    </tr>\n",
       "    <tr>\n",
       "      <th>17668</th>\n",
       "      <td>2019-01-01 20:00:00+00:00</td>\n",
       "      <td>38.667</td>\n",
       "    </tr>\n",
       "    <tr>\n",
       "      <th>17669</th>\n",
       "      <td>2019-01-01 21:00:00+00:00</td>\n",
       "      <td>38.667</td>\n",
       "    </tr>\n",
       "    <tr>\n",
       "      <th>17670</th>\n",
       "      <td>2019-01-01 22:00:00+00:00</td>\n",
       "      <td>38.667</td>\n",
       "    </tr>\n",
       "    <tr>\n",
       "      <th>17671</th>\n",
       "      <td>2019-01-01 23:00:00+00:00</td>\n",
       "      <td>38.667</td>\n",
       "    </tr>\n",
       "    <tr>\n",
       "      <th>17688</th>\n",
       "      <td>2019-02-01 16:00:00+00:00</td>\n",
       "      <td>38.667</td>\n",
       "    </tr>\n",
       "    <tr>\n",
       "      <th>17689</th>\n",
       "      <td>2019-02-01 17:00:00+00:00</td>\n",
       "      <td>38.667</td>\n",
       "    </tr>\n",
       "    <tr>\n",
       "      <th>17690</th>\n",
       "      <td>2019-02-01 18:00:00+00:00</td>\n",
       "      <td>38.667</td>\n",
       "    </tr>\n",
       "    <tr>\n",
       "      <th>17691</th>\n",
       "      <td>2019-02-01 19:00:00+00:00</td>\n",
       "      <td>38.667</td>\n",
       "    </tr>\n",
       "    <tr>\n",
       "      <th>17692</th>\n",
       "      <td>2019-02-01 20:00:00+00:00</td>\n",
       "      <td>38.667</td>\n",
       "    </tr>\n",
       "    <tr>\n",
       "      <th>17693</th>\n",
       "      <td>2019-02-01 21:00:00+00:00</td>\n",
       "      <td>38.667</td>\n",
       "    </tr>\n",
       "    <tr>\n",
       "      <th>17694</th>\n",
       "      <td>2019-02-01 22:00:00+00:00</td>\n",
       "      <td>38.667</td>\n",
       "    </tr>\n",
       "    <tr>\n",
       "      <th>17695</th>\n",
       "      <td>2019-02-01 23:00:00+00:00</td>\n",
       "      <td>38.667</td>\n",
       "    </tr>\n",
       "    <tr>\n",
       "      <th>17712</th>\n",
       "      <td>2019-03-01 16:00:00+00:00</td>\n",
       "      <td>38.667</td>\n",
       "    </tr>\n",
       "    <tr>\n",
       "      <th>17713</th>\n",
       "      <td>2019-03-01 17:00:00+00:00</td>\n",
       "      <td>38.667</td>\n",
       "    </tr>\n",
       "    <tr>\n",
       "      <th>17714</th>\n",
       "      <td>2019-03-01 18:00:00+00:00</td>\n",
       "      <td>38.667</td>\n",
       "    </tr>\n",
       "    <tr>\n",
       "      <th>17715</th>\n",
       "      <td>2019-03-01 19:00:00+00:00</td>\n",
       "      <td>38.667</td>\n",
       "    </tr>\n",
       "    <tr>\n",
       "      <th>17716</th>\n",
       "      <td>2019-03-01 20:00:00+00:00</td>\n",
       "      <td>38.667</td>\n",
       "    </tr>\n",
       "    <tr>\n",
       "      <th>17717</th>\n",
       "      <td>2019-03-01 21:00:00+00:00</td>\n",
       "      <td>38.667</td>\n",
       "    </tr>\n",
       "    <tr>\n",
       "      <th>17718</th>\n",
       "      <td>2019-03-01 22:00:00+00:00</td>\n",
       "      <td>38.667</td>\n",
       "    </tr>\n",
       "    <tr>\n",
       "      <th>17719</th>\n",
       "      <td>2019-03-01 23:00:00+00:00</td>\n",
       "      <td>38.667</td>\n",
       "    </tr>\n",
       "    <tr>\n",
       "      <th>17736</th>\n",
       "      <td>2019-04-01 16:00:00+00:00</td>\n",
       "      <td>38.667</td>\n",
       "    </tr>\n",
       "    <tr>\n",
       "      <th>17737</th>\n",
       "      <td>2019-04-01 17:00:00+00:00</td>\n",
       "      <td>38.667</td>\n",
       "    </tr>\n",
       "    <tr>\n",
       "      <th>17738</th>\n",
       "      <td>2019-04-01 18:00:00+00:00</td>\n",
       "      <td>38.667</td>\n",
       "    </tr>\n",
       "    <tr>\n",
       "      <th>17739</th>\n",
       "      <td>2019-04-01 19:00:00+00:00</td>\n",
       "      <td>38.667</td>\n",
       "    </tr>\n",
       "    <tr>\n",
       "      <th>17740</th>\n",
       "      <td>2019-04-01 20:00:00+00:00</td>\n",
       "      <td>38.667</td>\n",
       "    </tr>\n",
       "    <tr>\n",
       "      <th>17741</th>\n",
       "      <td>2019-04-01 21:00:00+00:00</td>\n",
       "      <td>38.667</td>\n",
       "    </tr>\n",
       "    <tr>\n",
       "      <th>17742</th>\n",
       "      <td>2019-04-01 22:00:00+00:00</td>\n",
       "      <td>38.667</td>\n",
       "    </tr>\n",
       "    <tr>\n",
       "      <th>17743</th>\n",
       "      <td>2019-04-01 23:00:00+00:00</td>\n",
       "      <td>38.667</td>\n",
       "    </tr>\n",
       "  </tbody>\n",
       "</table>\n",
       "<p>12712 rows × 2 columns</p>\n",
       "</div>"
      ],
      "text/plain": [
       "                             ds       y\n",
       "432   2017-02-12 16:00:00+00:00  18.185\n",
       "433   2017-02-12 17:00:00+00:00  18.185\n",
       "434   2017-02-12 18:00:00+00:00  18.185\n",
       "435   2017-02-12 19:00:00+00:00  18.185\n",
       "436   2017-02-12 20:00:00+00:00  18.185\n",
       "437   2017-02-12 21:00:00+00:00  18.185\n",
       "438   2017-02-12 22:00:00+00:00  17.877\n",
       "439   2017-02-12 23:00:00+00:00  17.840\n",
       "1103  2017-03-12 17:00:00+00:00  17.000\n",
       "1104  2017-03-12 18:00:00+00:00  17.000\n",
       "1105  2017-03-12 19:00:00+00:00  17.000\n",
       "1106  2017-03-12 20:00:00+00:00  17.000\n",
       "1107  2017-03-12 21:00:00+00:00  17.000\n",
       "1108  2017-03-12 22:00:00+00:00  17.000\n",
       "1109  2017-03-12 23:00:00+00:00  16.928\n",
       "1847  2017-04-12 17:00:00+00:00  17.898\n",
       "1848  2017-04-12 18:00:00+00:00  17.898\n",
       "1849  2017-04-12 19:00:00+00:00  17.898\n",
       "1850  2017-04-12 20:00:00+00:00  17.898\n",
       "1851  2017-04-12 21:00:00+00:00  17.898\n",
       "1852  2017-04-12 22:00:00+00:00  17.898\n",
       "1853  2017-04-12 23:00:00+00:00  17.967\n",
       "2567  2017-05-12 17:00:00+00:00  14.045\n",
       "2568  2017-05-12 18:00:00+00:00  14.045\n",
       "2569  2017-05-12 19:00:00+00:00  14.045\n",
       "2570  2017-05-12 20:00:00+00:00  14.045\n",
       "2571  2017-05-12 21:00:00+00:00  14.045\n",
       "2572  2017-05-12 22:00:00+00:00  14.045\n",
       "2573  2017-05-12 23:00:00+00:00  14.045\n",
       "3311  2017-06-12 17:00:00+00:00  13.445\n",
       "...                         ...     ...\n",
       "17666 2019-01-01 18:00:00+00:00  38.667\n",
       "17667 2019-01-01 19:00:00+00:00  38.667\n",
       "17668 2019-01-01 20:00:00+00:00  38.667\n",
       "17669 2019-01-01 21:00:00+00:00  38.667\n",
       "17670 2019-01-01 22:00:00+00:00  38.667\n",
       "17671 2019-01-01 23:00:00+00:00  38.667\n",
       "17688 2019-02-01 16:00:00+00:00  38.667\n",
       "17689 2019-02-01 17:00:00+00:00  38.667\n",
       "17690 2019-02-01 18:00:00+00:00  38.667\n",
       "17691 2019-02-01 19:00:00+00:00  38.667\n",
       "17692 2019-02-01 20:00:00+00:00  38.667\n",
       "17693 2019-02-01 21:00:00+00:00  38.667\n",
       "17694 2019-02-01 22:00:00+00:00  38.667\n",
       "17695 2019-02-01 23:00:00+00:00  38.667\n",
       "17712 2019-03-01 16:00:00+00:00  38.667\n",
       "17713 2019-03-01 17:00:00+00:00  38.667\n",
       "17714 2019-03-01 18:00:00+00:00  38.667\n",
       "17715 2019-03-01 19:00:00+00:00  38.667\n",
       "17716 2019-03-01 20:00:00+00:00  38.667\n",
       "17717 2019-03-01 21:00:00+00:00  38.667\n",
       "17718 2019-03-01 22:00:00+00:00  38.667\n",
       "17719 2019-03-01 23:00:00+00:00  38.667\n",
       "17736 2019-04-01 16:00:00+00:00  38.667\n",
       "17737 2019-04-01 17:00:00+00:00  38.667\n",
       "17738 2019-04-01 18:00:00+00:00  38.667\n",
       "17739 2019-04-01 19:00:00+00:00  38.667\n",
       "17740 2019-04-01 20:00:00+00:00  38.667\n",
       "17741 2019-04-01 21:00:00+00:00  38.667\n",
       "17742 2019-04-01 22:00:00+00:00  38.667\n",
       "17743 2019-04-01 23:00:00+00:00  38.667\n",
       "\n",
       "[12712 rows x 2 columns]"
      ]
     },
     "execution_count": 364,
     "metadata": {},
     "output_type": "execute_result"
    }
   ],
   "source": [
    "df_vix_FBP[df_vix_FBP.ds.isin(intersecting_dates)]"
   ]
  },
  {
   "cell_type": "code",
   "execution_count": 365,
   "metadata": {},
   "outputs": [
    {
     "data": {
      "text/html": [
       "<div>\n",
       "<style scoped>\n",
       "    .dataframe tbody tr th:only-of-type {\n",
       "        vertical-align: middle;\n",
       "    }\n",
       "\n",
       "    .dataframe tbody tr th {\n",
       "        vertical-align: top;\n",
       "    }\n",
       "\n",
       "    .dataframe thead th {\n",
       "        text-align: right;\n",
       "    }\n",
       "</style>\n",
       "<table border=\"1\" class=\"dataframe\">\n",
       "  <thead>\n",
       "    <tr style=\"text-align: right;\">\n",
       "      <th></th>\n",
       "      <th>ds</th>\n",
       "      <th>y</th>\n",
       "    </tr>\n",
       "  </thead>\n",
       "  <tbody>\n",
       "    <tr>\n",
       "      <th>14044</th>\n",
       "      <td>2017-01-08 00:00:00</td>\n",
       "      <td>902.12</td>\n",
       "    </tr>\n",
       "    <tr>\n",
       "      <th>14045</th>\n",
       "      <td>2017-01-08 01:00:00</td>\n",
       "      <td>898.47</td>\n",
       "    </tr>\n",
       "    <tr>\n",
       "      <th>14046</th>\n",
       "      <td>2017-01-08 02:00:00</td>\n",
       "      <td>909.53</td>\n",
       "    </tr>\n",
       "    <tr>\n",
       "      <th>14047</th>\n",
       "      <td>2017-01-08 03:00:00</td>\n",
       "      <td>916.38</td>\n",
       "    </tr>\n",
       "    <tr>\n",
       "      <th>14048</th>\n",
       "      <td>2017-01-08 04:00:00</td>\n",
       "      <td>927.38</td>\n",
       "    </tr>\n",
       "    <tr>\n",
       "      <th>14049</th>\n",
       "      <td>2017-01-08 05:00:00</td>\n",
       "      <td>932.42</td>\n",
       "    </tr>\n",
       "    <tr>\n",
       "      <th>14050</th>\n",
       "      <td>2017-01-08 06:00:00</td>\n",
       "      <td>933.59</td>\n",
       "    </tr>\n",
       "    <tr>\n",
       "      <th>14051</th>\n",
       "      <td>2017-01-08 07:00:00</td>\n",
       "      <td>933.36</td>\n",
       "    </tr>\n",
       "    <tr>\n",
       "      <th>14052</th>\n",
       "      <td>2017-01-08 08:00:00</td>\n",
       "      <td>930.09</td>\n",
       "    </tr>\n",
       "    <tr>\n",
       "      <th>14053</th>\n",
       "      <td>2017-01-08 09:00:00</td>\n",
       "      <td>931.71</td>\n",
       "    </tr>\n",
       "    <tr>\n",
       "      <th>14054</th>\n",
       "      <td>2017-01-08 10:00:00</td>\n",
       "      <td>927.55</td>\n",
       "    </tr>\n",
       "    <tr>\n",
       "      <th>14055</th>\n",
       "      <td>2017-01-08 11:00:00</td>\n",
       "      <td>911.40</td>\n",
       "    </tr>\n",
       "    <tr>\n",
       "      <th>14056</th>\n",
       "      <td>2017-01-08 12:00:00</td>\n",
       "      <td>911.84</td>\n",
       "    </tr>\n",
       "    <tr>\n",
       "      <th>14057</th>\n",
       "      <td>2017-01-08 13:00:00</td>\n",
       "      <td>918.05</td>\n",
       "    </tr>\n",
       "    <tr>\n",
       "      <th>14058</th>\n",
       "      <td>2017-01-08 14:00:00</td>\n",
       "      <td>916.62</td>\n",
       "    </tr>\n",
       "    <tr>\n",
       "      <th>14059</th>\n",
       "      <td>2017-01-08 15:00:00</td>\n",
       "      <td>900.17</td>\n",
       "    </tr>\n",
       "    <tr>\n",
       "      <th>14060</th>\n",
       "      <td>2017-01-08 16:00:00</td>\n",
       "      <td>900.67</td>\n",
       "    </tr>\n",
       "    <tr>\n",
       "      <th>14061</th>\n",
       "      <td>2017-01-08 17:00:00</td>\n",
       "      <td>892.55</td>\n",
       "    </tr>\n",
       "    <tr>\n",
       "      <th>14062</th>\n",
       "      <td>2017-01-08 18:00:00</td>\n",
       "      <td>902.98</td>\n",
       "    </tr>\n",
       "    <tr>\n",
       "      <th>14063</th>\n",
       "      <td>2017-01-08 19:00:00</td>\n",
       "      <td>899.81</td>\n",
       "    </tr>\n",
       "    <tr>\n",
       "      <th>14064</th>\n",
       "      <td>2017-01-08 20:00:00</td>\n",
       "      <td>905.74</td>\n",
       "    </tr>\n",
       "    <tr>\n",
       "      <th>14065</th>\n",
       "      <td>2017-01-08 21:00:00</td>\n",
       "      <td>910.42</td>\n",
       "    </tr>\n",
       "    <tr>\n",
       "      <th>14066</th>\n",
       "      <td>2017-01-08 22:00:00</td>\n",
       "      <td>904.68</td>\n",
       "    </tr>\n",
       "    <tr>\n",
       "      <th>14067</th>\n",
       "      <td>2017-01-08 23:00:00</td>\n",
       "      <td>908.94</td>\n",
       "    </tr>\n",
       "    <tr>\n",
       "      <th>14068</th>\n",
       "      <td>2017-01-09 00:00:00</td>\n",
       "      <td>894.35</td>\n",
       "    </tr>\n",
       "    <tr>\n",
       "      <th>14069</th>\n",
       "      <td>2017-01-09 01:00:00</td>\n",
       "      <td>883.30</td>\n",
       "    </tr>\n",
       "    <tr>\n",
       "      <th>14070</th>\n",
       "      <td>2017-01-09 02:00:00</td>\n",
       "      <td>884.98</td>\n",
       "    </tr>\n",
       "    <tr>\n",
       "      <th>14071</th>\n",
       "      <td>2017-01-09 03:00:00</td>\n",
       "      <td>888.59</td>\n",
       "    </tr>\n",
       "    <tr>\n",
       "      <th>14072</th>\n",
       "      <td>2017-01-09 04:00:00</td>\n",
       "      <td>885.22</td>\n",
       "    </tr>\n",
       "    <tr>\n",
       "      <th>14073</th>\n",
       "      <td>2017-01-09 05:00:00</td>\n",
       "      <td>892.81</td>\n",
       "    </tr>\n",
       "    <tr>\n",
       "      <th>...</th>\n",
       "      <td>...</td>\n",
       "      <td>...</td>\n",
       "    </tr>\n",
       "    <tr>\n",
       "      <th>32834</th>\n",
       "      <td>2019-03-01 18:00:00</td>\n",
       "      <td>3832.31</td>\n",
       "    </tr>\n",
       "    <tr>\n",
       "      <th>32835</th>\n",
       "      <td>2019-03-01 19:00:00</td>\n",
       "      <td>3831.71</td>\n",
       "    </tr>\n",
       "    <tr>\n",
       "      <th>32836</th>\n",
       "      <td>2019-03-01 20:00:00</td>\n",
       "      <td>3829.01</td>\n",
       "    </tr>\n",
       "    <tr>\n",
       "      <th>32837</th>\n",
       "      <td>2019-03-01 21:00:00</td>\n",
       "      <td>3829.27</td>\n",
       "    </tr>\n",
       "    <tr>\n",
       "      <th>32838</th>\n",
       "      <td>2019-03-01 22:00:00</td>\n",
       "      <td>3819.35</td>\n",
       "    </tr>\n",
       "    <tr>\n",
       "      <th>32839</th>\n",
       "      <td>2019-03-01 23:00:00</td>\n",
       "      <td>3811.35</td>\n",
       "    </tr>\n",
       "    <tr>\n",
       "      <th>33560</th>\n",
       "      <td>2019-04-01 00:00:00</td>\n",
       "      <td>4093.05</td>\n",
       "    </tr>\n",
       "    <tr>\n",
       "      <th>33561</th>\n",
       "      <td>2019-04-01 01:00:00</td>\n",
       "      <td>4121.13</td>\n",
       "    </tr>\n",
       "    <tr>\n",
       "      <th>33562</th>\n",
       "      <td>2019-04-01 02:00:00</td>\n",
       "      <td>4119.97</td>\n",
       "    </tr>\n",
       "    <tr>\n",
       "      <th>33563</th>\n",
       "      <td>2019-04-01 03:00:00</td>\n",
       "      <td>4121.55</td>\n",
       "    </tr>\n",
       "    <tr>\n",
       "      <th>33564</th>\n",
       "      <td>2019-04-01 04:00:00</td>\n",
       "      <td>4124.54</td>\n",
       "    </tr>\n",
       "    <tr>\n",
       "      <th>33565</th>\n",
       "      <td>2019-04-01 05:00:00</td>\n",
       "      <td>4118.76</td>\n",
       "    </tr>\n",
       "    <tr>\n",
       "      <th>33566</th>\n",
       "      <td>2019-04-01 06:00:00</td>\n",
       "      <td>4123.40</td>\n",
       "    </tr>\n",
       "    <tr>\n",
       "      <th>33567</th>\n",
       "      <td>2019-04-01 07:00:00</td>\n",
       "      <td>4121.23</td>\n",
       "    </tr>\n",
       "    <tr>\n",
       "      <th>33568</th>\n",
       "      <td>2019-04-01 08:00:00</td>\n",
       "      <td>4117.89</td>\n",
       "    </tr>\n",
       "    <tr>\n",
       "      <th>33569</th>\n",
       "      <td>2019-04-01 09:00:00</td>\n",
       "      <td>4120.75</td>\n",
       "    </tr>\n",
       "    <tr>\n",
       "      <th>33570</th>\n",
       "      <td>2019-04-01 10:00:00</td>\n",
       "      <td>4117.36</td>\n",
       "    </tr>\n",
       "    <tr>\n",
       "      <th>33571</th>\n",
       "      <td>2019-04-01 11:00:00</td>\n",
       "      <td>4113.23</td>\n",
       "    </tr>\n",
       "    <tr>\n",
       "      <th>33572</th>\n",
       "      <td>2019-04-01 12:00:00</td>\n",
       "      <td>4122.65</td>\n",
       "    </tr>\n",
       "    <tr>\n",
       "      <th>33573</th>\n",
       "      <td>2019-04-01 13:00:00</td>\n",
       "      <td>4126.42</td>\n",
       "    </tr>\n",
       "    <tr>\n",
       "      <th>33574</th>\n",
       "      <td>2019-04-01 14:00:00</td>\n",
       "      <td>4139.54</td>\n",
       "    </tr>\n",
       "    <tr>\n",
       "      <th>33575</th>\n",
       "      <td>2019-04-01 15:00:00</td>\n",
       "      <td>4132.65</td>\n",
       "    </tr>\n",
       "    <tr>\n",
       "      <th>33576</th>\n",
       "      <td>2019-04-01 16:00:00</td>\n",
       "      <td>4141.09</td>\n",
       "    </tr>\n",
       "    <tr>\n",
       "      <th>33577</th>\n",
       "      <td>2019-04-01 17:00:00</td>\n",
       "      <td>4134.30</td>\n",
       "    </tr>\n",
       "    <tr>\n",
       "      <th>33578</th>\n",
       "      <td>2019-04-01 18:00:00</td>\n",
       "      <td>4131.40</td>\n",
       "    </tr>\n",
       "    <tr>\n",
       "      <th>33579</th>\n",
       "      <td>2019-04-01 19:00:00</td>\n",
       "      <td>4131.35</td>\n",
       "    </tr>\n",
       "    <tr>\n",
       "      <th>33580</th>\n",
       "      <td>2019-04-01 20:00:00</td>\n",
       "      <td>4128.65</td>\n",
       "    </tr>\n",
       "    <tr>\n",
       "      <th>33581</th>\n",
       "      <td>2019-04-01 21:00:00</td>\n",
       "      <td>4128.70</td>\n",
       "    </tr>\n",
       "    <tr>\n",
       "      <th>33582</th>\n",
       "      <td>2019-04-01 22:00:00</td>\n",
       "      <td>4137.30</td>\n",
       "    </tr>\n",
       "    <tr>\n",
       "      <th>33583</th>\n",
       "      <td>2019-04-01 23:00:00</td>\n",
       "      <td>4139.19</td>\n",
       "    </tr>\n",
       "  </tbody>\n",
       "</table>\n",
       "<p>12681 rows × 2 columns</p>\n",
       "</div>"
      ],
      "text/plain": [
       "                       ds        y\n",
       "14044 2017-01-08 00:00:00   902.12\n",
       "14045 2017-01-08 01:00:00   898.47\n",
       "14046 2017-01-08 02:00:00   909.53\n",
       "14047 2017-01-08 03:00:00   916.38\n",
       "14048 2017-01-08 04:00:00   927.38\n",
       "14049 2017-01-08 05:00:00   932.42\n",
       "14050 2017-01-08 06:00:00   933.59\n",
       "14051 2017-01-08 07:00:00   933.36\n",
       "14052 2017-01-08 08:00:00   930.09\n",
       "14053 2017-01-08 09:00:00   931.71\n",
       "14054 2017-01-08 10:00:00   927.55\n",
       "14055 2017-01-08 11:00:00   911.40\n",
       "14056 2017-01-08 12:00:00   911.84\n",
       "14057 2017-01-08 13:00:00   918.05\n",
       "14058 2017-01-08 14:00:00   916.62\n",
       "14059 2017-01-08 15:00:00   900.17\n",
       "14060 2017-01-08 16:00:00   900.67\n",
       "14061 2017-01-08 17:00:00   892.55\n",
       "14062 2017-01-08 18:00:00   902.98\n",
       "14063 2017-01-08 19:00:00   899.81\n",
       "14064 2017-01-08 20:00:00   905.74\n",
       "14065 2017-01-08 21:00:00   910.42\n",
       "14066 2017-01-08 22:00:00   904.68\n",
       "14067 2017-01-08 23:00:00   908.94\n",
       "14068 2017-01-09 00:00:00   894.35\n",
       "14069 2017-01-09 01:00:00   883.30\n",
       "14070 2017-01-09 02:00:00   884.98\n",
       "14071 2017-01-09 03:00:00   888.59\n",
       "14072 2017-01-09 04:00:00   885.22\n",
       "14073 2017-01-09 05:00:00   892.81\n",
       "...                   ...      ...\n",
       "32834 2019-03-01 18:00:00  3832.31\n",
       "32835 2019-03-01 19:00:00  3831.71\n",
       "32836 2019-03-01 20:00:00  3829.01\n",
       "32837 2019-03-01 21:00:00  3829.27\n",
       "32838 2019-03-01 22:00:00  3819.35\n",
       "32839 2019-03-01 23:00:00  3811.35\n",
       "33560 2019-04-01 00:00:00  4093.05\n",
       "33561 2019-04-01 01:00:00  4121.13\n",
       "33562 2019-04-01 02:00:00  4119.97\n",
       "33563 2019-04-01 03:00:00  4121.55\n",
       "33564 2019-04-01 04:00:00  4124.54\n",
       "33565 2019-04-01 05:00:00  4118.76\n",
       "33566 2019-04-01 06:00:00  4123.40\n",
       "33567 2019-04-01 07:00:00  4121.23\n",
       "33568 2019-04-01 08:00:00  4117.89\n",
       "33569 2019-04-01 09:00:00  4120.75\n",
       "33570 2019-04-01 10:00:00  4117.36\n",
       "33571 2019-04-01 11:00:00  4113.23\n",
       "33572 2019-04-01 12:00:00  4122.65\n",
       "33573 2019-04-01 13:00:00  4126.42\n",
       "33574 2019-04-01 14:00:00  4139.54\n",
       "33575 2019-04-01 15:00:00  4132.65\n",
       "33576 2019-04-01 16:00:00  4141.09\n",
       "33577 2019-04-01 17:00:00  4134.30\n",
       "33578 2019-04-01 18:00:00  4131.40\n",
       "33579 2019-04-01 19:00:00  4131.35\n",
       "33580 2019-04-01 20:00:00  4128.65\n",
       "33581 2019-04-01 21:00:00  4128.70\n",
       "33582 2019-04-01 22:00:00  4137.30\n",
       "33583 2019-04-01 23:00:00  4139.19\n",
       "\n",
       "[12681 rows x 2 columns]"
      ]
     },
     "execution_count": 365,
     "metadata": {},
     "output_type": "execute_result"
    }
   ],
   "source": [
    "df_train[df_train.ds.isin(intersecting_dates)]"
   ]
  },
  {
   "cell_type": "code",
   "execution_count": null,
   "metadata": {},
   "outputs": [],
   "source": []
  },
  {
   "cell_type": "code",
   "execution_count": null,
   "metadata": {},
   "outputs": [],
   "source": []
  },
  {
   "cell_type": "code",
   "execution_count": null,
   "metadata": {},
   "outputs": [],
   "source": []
  }
 ],
 "metadata": {
  "kernelspec": {
   "display_name": "Python 3",
   "language": "python",
   "name": "python3"
  },
  "language_info": {
   "codemirror_mode": {
    "name": "ipython",
    "version": 3
   },
   "file_extension": ".py",
   "mimetype": "text/x-python",
   "name": "python",
   "nbconvert_exporter": "python",
   "pygments_lexer": "ipython3",
   "version": "3.6.8"
  }
 },
 "nbformat": 4,
 "nbformat_minor": 2
}
