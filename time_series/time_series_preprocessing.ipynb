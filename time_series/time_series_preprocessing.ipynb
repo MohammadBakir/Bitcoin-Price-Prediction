{
 "cells": [
  {
   "cell_type": "markdown",
   "metadata": {},
   "source": [
    "## Importing libraries"
   ]
  },
  {
   "cell_type": "code",
   "execution_count": 3,
   "metadata": {},
   "outputs": [],
   "source": [
    "import pandas as pd\n",
    "import numpy as np\n",
    "import seaborn as sns\n",
    "import matplotlib.pyplot as plt\n",
    "import matplotlib.mlab as mlab\n",
    "\n",
    "from numpy.random import seed\n",
    "\n",
    "# from tensorflow import set_random_seed"
   ]
  },
  {
   "cell_type": "code",
   "execution_count": 4,
   "metadata": {},
   "outputs": [],
   "source": [
    "seed(2019)"
   ]
  },
  {
   "cell_type": "code",
   "execution_count": 5,
   "metadata": {},
   "outputs": [],
   "source": [
    "def split_train_test_chronological(df, ratio = 0.9):\n",
    "    \n",
    "    '''\n",
    "    Input is a dataframe, and a ratio. Splits dataframe into 2 dataframes chronologically.\n",
    "    Returns first dataframe up to the index of the length of the input dataframe times the input ratio, \n",
    "    and returns second dataframe of remaining elements.\n",
    "    '''\n",
    "    \n",
    "    size = len(df) * ratio\n",
    "    size_round = round(size)\n",
    "    \n",
    "    df_train = df[0:(size_round)]\n",
    "    df_test = df[size_round:]\n",
    "    \n",
    "    return df_train, df_test"
   ]
  },
  {
   "cell_type": "markdown",
   "metadata": {},
   "source": [
    "## Importing data"
   ]
  },
  {
   "cell_type": "code",
   "execution_count": 6,
   "metadata": {},
   "outputs": [
    {
     "data": {
      "text/html": [
       "<div>\n",
       "<style scoped>\n",
       "    .dataframe tbody tr th:only-of-type {\n",
       "        vertical-align: middle;\n",
       "    }\n",
       "\n",
       "    .dataframe tbody tr th {\n",
       "        vertical-align: top;\n",
       "    }\n",
       "\n",
       "    .dataframe thead th {\n",
       "        text-align: right;\n",
       "    }\n",
       "</style>\n",
       "<table border=\"1\" class=\"dataframe\">\n",
       "  <thead>\n",
       "    <tr style=\"text-align: right;\">\n",
       "      <th></th>\n",
       "      <th>timestamp</th>\n",
       "      <th>open</th>\n",
       "      <th>high</th>\n",
       "      <th>low</th>\n",
       "      <th>close</th>\n",
       "      <th>volume (btc)</th>\n",
       "      <th>volume (currency)</th>\n",
       "      <th>weighted price</th>\n",
       "    </tr>\n",
       "  </thead>\n",
       "  <tbody>\n",
       "    <tr>\n",
       "      <th>0</th>\n",
       "      <td>2015-05-31 00:00:00</td>\n",
       "      <td>232.11</td>\n",
       "      <td>232.11</td>\n",
       "      <td>231.92</td>\n",
       "      <td>231.92</td>\n",
       "      <td>223.37</td>\n",
       "      <td>51822.18</td>\n",
       "      <td>232.00</td>\n",
       "    </tr>\n",
       "    <tr>\n",
       "      <th>1</th>\n",
       "      <td>2015-05-31 01:00:00</td>\n",
       "      <td>231.88</td>\n",
       "      <td>232.32</td>\n",
       "      <td>231.87</td>\n",
       "      <td>232.32</td>\n",
       "      <td>217.49</td>\n",
       "      <td>50452.68</td>\n",
       "      <td>231.98</td>\n",
       "    </tr>\n",
       "    <tr>\n",
       "      <th>2</th>\n",
       "      <td>2015-05-31 02:00:00</td>\n",
       "      <td>231.97</td>\n",
       "      <td>232.51</td>\n",
       "      <td>231.88</td>\n",
       "      <td>232.51</td>\n",
       "      <td>46.45</td>\n",
       "      <td>10782.23</td>\n",
       "      <td>232.14</td>\n",
       "    </tr>\n",
       "  </tbody>\n",
       "</table>\n",
       "</div>"
      ],
      "text/plain": [
       "            timestamp    open    high     low   close  volume (btc)  \\\n",
       "0 2015-05-31 00:00:00  232.11  232.11  231.92  231.92        223.37   \n",
       "1 2015-05-31 01:00:00  231.88  232.32  231.87  232.32        217.49   \n",
       "2 2015-05-31 02:00:00  231.97  232.51  231.88  232.51         46.45   \n",
       "\n",
       "   volume (currency)  weighted price  \n",
       "0           51822.18          232.00  \n",
       "1           50452.68          231.98  \n",
       "2           10782.23          232.14  "
      ]
     },
     "execution_count": 6,
     "metadata": {},
     "output_type": "execute_result"
    }
   ],
   "source": [
    "df_bitcoin_price = pd.read_pickle('../crypto_currency_and_market_value_history/data/bitcoin_4_year_hourly_history_df.pickle')\n",
    "\n",
    "df_bitcoin_price.head(3)"
   ]
  },
  {
   "cell_type": "code",
   "execution_count": 7,
   "metadata": {},
   "outputs": [
    {
     "data": {
      "text/html": [
       "<div>\n",
       "<style scoped>\n",
       "    .dataframe tbody tr th:only-of-type {\n",
       "        vertical-align: middle;\n",
       "    }\n",
       "\n",
       "    .dataframe tbody tr th {\n",
       "        vertical-align: top;\n",
       "    }\n",
       "\n",
       "    .dataframe thead th {\n",
       "        text-align: right;\n",
       "    }\n",
       "</style>\n",
       "<table border=\"1\" class=\"dataframe\">\n",
       "  <thead>\n",
       "    <tr style=\"text-align: right;\">\n",
       "      <th></th>\n",
       "      <th>trade date</th>\n",
       "      <th>open</th>\n",
       "      <th>high</th>\n",
       "      <th>low</th>\n",
       "      <th>close</th>\n",
       "      <th>settle</th>\n",
       "      <th>change</th>\n",
       "      <th>total volume</th>\n",
       "    </tr>\n",
       "  </thead>\n",
       "  <tbody>\n",
       "    <tr>\n",
       "      <th>0</th>\n",
       "      <td>2019-06-07</td>\n",
       "      <td>-0.014837</td>\n",
       "      <td>-0.019264</td>\n",
       "      <td>-0.006116</td>\n",
       "      <td>0.006591</td>\n",
       "      <td>0.015175</td>\n",
       "      <td>-2.666667</td>\n",
       "      <td>-0.066600</td>\n",
       "    </tr>\n",
       "    <tr>\n",
       "      <th>1</th>\n",
       "      <td>2019-06-06</td>\n",
       "      <td>-0.023754</td>\n",
       "      <td>-0.021143</td>\n",
       "      <td>-0.015060</td>\n",
       "      <td>0.002402</td>\n",
       "      <td>-0.009023</td>\n",
       "      <td>-0.750000</td>\n",
       "      <td>-0.038795</td>\n",
       "    </tr>\n",
       "    <tr>\n",
       "      <th>2</th>\n",
       "      <td>2019-06-05</td>\n",
       "      <td>-0.054247</td>\n",
       "      <td>-0.047360</td>\n",
       "      <td>-0.034884</td>\n",
       "      <td>-0.032539</td>\n",
       "      <td>-0.034833</td>\n",
       "      <td>-0.428571</td>\n",
       "      <td>-0.149433</td>\n",
       "    </tr>\n",
       "  </tbody>\n",
       "</table>\n",
       "</div>"
      ],
      "text/plain": [
       "  trade date      open      high       low     close    settle    change  \\\n",
       "0 2019-06-07 -0.014837 -0.019264 -0.006116  0.006591  0.015175 -2.666667   \n",
       "1 2019-06-06 -0.023754 -0.021143 -0.015060  0.002402 -0.009023 -0.750000   \n",
       "2 2019-06-05 -0.054247 -0.047360 -0.034884 -0.032539 -0.034833 -0.428571   \n",
       "\n",
       "   total volume  \n",
       "0     -0.066600  \n",
       "1     -0.038795  \n",
       "2     -0.149433  "
      ]
     },
     "execution_count": 7,
     "metadata": {},
     "output_type": "execute_result"
    }
   ],
   "source": [
    "df_vix_daily = pd.read_pickle('../crypto_currency_and_market_value_history/data/vix_volatility_daily_change_history_df.pickle')\n",
    "\n",
    "\n",
    "df_vix_daily.head(3)"
   ]
  },
  {
   "cell_type": "code",
   "execution_count": 8,
   "metadata": {},
   "outputs": [
    {
     "data": {
      "text/html": [
       "<div>\n",
       "<style scoped>\n",
       "    .dataframe tbody tr th:only-of-type {\n",
       "        vertical-align: middle;\n",
       "    }\n",
       "\n",
       "    .dataframe tbody tr th {\n",
       "        vertical-align: top;\n",
       "    }\n",
       "\n",
       "    .dataframe thead th {\n",
       "        text-align: right;\n",
       "    }\n",
       "</style>\n",
       "<table border=\"1\" class=\"dataframe\">\n",
       "  <thead>\n",
       "    <tr style=\"text-align: right;\">\n",
       "      <th></th>\n",
       "      <th>Local time</th>\n",
       "      <th>Open</th>\n",
       "      <th>High</th>\n",
       "      <th>Low</th>\n",
       "      <th>Close</th>\n",
       "      <th>Volume</th>\n",
       "      <th>local_time</th>\n",
       "    </tr>\n",
       "  </thead>\n",
       "  <tbody>\n",
       "    <tr>\n",
       "      <th>0</th>\n",
       "      <td>26.01.2017 00:00:00.000 GMT-0800</td>\n",
       "      <td>19.14</td>\n",
       "      <td>19.14</td>\n",
       "      <td>19.14</td>\n",
       "      <td>19.14</td>\n",
       "      <td>0.0</td>\n",
       "      <td>2017-01-25 16:00:00+00:00</td>\n",
       "    </tr>\n",
       "    <tr>\n",
       "      <th>1</th>\n",
       "      <td>26.01.2017 01:00:00.000 GMT-0800</td>\n",
       "      <td>19.14</td>\n",
       "      <td>19.14</td>\n",
       "      <td>19.14</td>\n",
       "      <td>19.14</td>\n",
       "      <td>0.0</td>\n",
       "      <td>2017-01-25 17:00:00+00:00</td>\n",
       "    </tr>\n",
       "    <tr>\n",
       "      <th>2</th>\n",
       "      <td>26.01.2017 02:00:00.000 GMT-0800</td>\n",
       "      <td>19.14</td>\n",
       "      <td>19.14</td>\n",
       "      <td>19.14</td>\n",
       "      <td>19.14</td>\n",
       "      <td>0.0</td>\n",
       "      <td>2017-01-25 18:00:00+00:00</td>\n",
       "    </tr>\n",
       "  </tbody>\n",
       "</table>\n",
       "</div>"
      ],
      "text/plain": [
       "                         Local time   Open   High    Low  Close  Volume  \\\n",
       "0  26.01.2017 00:00:00.000 GMT-0800  19.14  19.14  19.14  19.14     0.0   \n",
       "1  26.01.2017 01:00:00.000 GMT-0800  19.14  19.14  19.14  19.14     0.0   \n",
       "2  26.01.2017 02:00:00.000 GMT-0800  19.14  19.14  19.14  19.14     0.0   \n",
       "\n",
       "                 local_time  \n",
       "0 2017-01-25 16:00:00+00:00  \n",
       "1 2017-01-25 17:00:00+00:00  \n",
       "2 2017-01-25 18:00:00+00:00  "
      ]
     },
     "execution_count": 8,
     "metadata": {},
     "output_type": "execute_result"
    }
   ],
   "source": [
    "df_vix_hourly = pd.read_pickle('../crypto_currency_and_market_value_history/data/vix_volatility_hourly_history_df.pickle')\n",
    "\n",
    "\n",
    "df_vix_hourly.head(3)"
   ]
  },
  {
   "cell_type": "code",
   "execution_count": 9,
   "metadata": {},
   "outputs": [
    {
     "data": {
      "text/html": [
       "<div>\n",
       "<style scoped>\n",
       "    .dataframe tbody tr th:only-of-type {\n",
       "        vertical-align: middle;\n",
       "    }\n",
       "\n",
       "    .dataframe tbody tr th {\n",
       "        vertical-align: top;\n",
       "    }\n",
       "\n",
       "    .dataframe thead th {\n",
       "        text-align: right;\n",
       "    }\n",
       "</style>\n",
       "<table border=\"1\" class=\"dataframe\">\n",
       "  <thead>\n",
       "    <tr style=\"text-align: right;\">\n",
       "      <th></th>\n",
       "      <th>Date</th>\n",
       "      <th>Compound_Score</th>\n",
       "      <th>n</th>\n",
       "      <th>Count_Negatives</th>\n",
       "      <th>Count_Positives</th>\n",
       "      <th>Count_Neutrals</th>\n",
       "      <th>Sent_Negatives</th>\n",
       "      <th>Sent_Positives</th>\n",
       "      <th>Open</th>\n",
       "      <th>High</th>\n",
       "      <th>Low</th>\n",
       "      <th>Close</th>\n",
       "      <th>Volume (BTC)</th>\n",
       "      <th>Volume (Currency)</th>\n",
       "    </tr>\n",
       "  </thead>\n",
       "  <tbody>\n",
       "    <tr>\n",
       "      <th>12933</th>\n",
       "      <td>21/01/2019 21:00</td>\n",
       "      <td>0.131914</td>\n",
       "      <td>917.0</td>\n",
       "      <td>186.0</td>\n",
       "      <td>421.0</td>\n",
       "      <td>310.0</td>\n",
       "      <td>-0.470776</td>\n",
       "      <td>0.495320</td>\n",
       "      <td>3580.26</td>\n",
       "      <td>3582.38</td>\n",
       "      <td>3559.74</td>\n",
       "      <td>3560.70</td>\n",
       "      <td>117607867</td>\n",
       "      <td>2670000000000000,00</td>\n",
       "    </tr>\n",
       "    <tr>\n",
       "      <th>12934</th>\n",
       "      <td>21/01/2019 22:00</td>\n",
       "      <td>0.082912</td>\n",
       "      <td>929.0</td>\n",
       "      <td>247.0</td>\n",
       "      <td>377.0</td>\n",
       "      <td>305.0</td>\n",
       "      <td>-0.409633</td>\n",
       "      <td>0.472690</td>\n",
       "      <td>3561.58</td>\n",
       "      <td>3569.04</td>\n",
       "      <td>3535.19</td>\n",
       "      <td>3567.92</td>\n",
       "      <td>18324.54</td>\n",
       "      <td>2750000000000000,00</td>\n",
       "    </tr>\n",
       "    <tr>\n",
       "      <th>12935</th>\n",
       "      <td>21/01/2019 23:00</td>\n",
       "      <td>0.122160</td>\n",
       "      <td>899.0</td>\n",
       "      <td>168.0</td>\n",
       "      <td>355.0</td>\n",
       "      <td>376.0</td>\n",
       "      <td>-0.372583</td>\n",
       "      <td>0.485678</td>\n",
       "      <td>3569.34</td>\n",
       "      <td>3579.33</td>\n",
       "      <td>3569.34</td>\n",
       "      <td>3573.67</td>\n",
       "      <td>10105.2</td>\n",
       "      <td>2760000000000000,00</td>\n",
       "    </tr>\n",
       "  </tbody>\n",
       "</table>\n",
       "</div>"
      ],
      "text/plain": [
       "                   Date  Compound_Score      n  Count_Negatives  \\\n",
       "12933  21/01/2019 21:00        0.131914  917.0            186.0   \n",
       "12934  21/01/2019 22:00        0.082912  929.0            247.0   \n",
       "12935  21/01/2019 23:00        0.122160  899.0            168.0   \n",
       "\n",
       "       Count_Positives  Count_Neutrals  Sent_Negatives  Sent_Positives  \\\n",
       "12933            421.0           310.0       -0.470776        0.495320   \n",
       "12934            377.0           305.0       -0.409633        0.472690   \n",
       "12935            355.0           376.0       -0.372583        0.485678   \n",
       "\n",
       "          Open     High      Low    Close Volume (BTC)    Volume (Currency)  \n",
       "12933  3580.26  3582.38  3559.74  3560.70    117607867  2670000000000000,00  \n",
       "12934  3561.58  3569.04  3535.19  3567.92     18324.54  2750000000000000,00  \n",
       "12935  3569.34  3579.33  3569.34  3573.67      10105.2  2760000000000000,00  "
      ]
     },
     "execution_count": 9,
     "metadata": {},
     "output_type": "execute_result"
    }
   ],
   "source": [
    "df_gold = pd.read_csv('../crypto_currency_and_market_value_history/data/gold_hourly_data.csv', sep = ';')\n",
    "\n",
    "df_gold.tail(3)"
   ]
  },
  {
   "cell_type": "markdown",
   "metadata": {},
   "source": [
    "## Preprocessing"
   ]
  },
  {
   "cell_type": "code",
   "execution_count": 10,
   "metadata": {},
   "outputs": [
    {
     "data": {
      "text/html": [
       "<div>\n",
       "<style scoped>\n",
       "    .dataframe tbody tr th:only-of-type {\n",
       "        vertical-align: middle;\n",
       "    }\n",
       "\n",
       "    .dataframe tbody tr th {\n",
       "        vertical-align: top;\n",
       "    }\n",
       "\n",
       "    .dataframe thead th {\n",
       "        text-align: right;\n",
       "    }\n",
       "</style>\n",
       "<table border=\"1\" class=\"dataframe\">\n",
       "  <thead>\n",
       "    <tr style=\"text-align: right;\">\n",
       "      <th></th>\n",
       "      <th>ds</th>\n",
       "      <th>y</th>\n",
       "    </tr>\n",
       "  </thead>\n",
       "  <tbody>\n",
       "    <tr>\n",
       "      <th>35232</th>\n",
       "      <td>2019-06-09 16:00:00+00:00</td>\n",
       "      <td>7664.22</td>\n",
       "    </tr>\n",
       "    <tr>\n",
       "      <th>35233</th>\n",
       "      <td>2019-06-09 17:00:00+00:00</td>\n",
       "      <td>7645.34</td>\n",
       "    </tr>\n",
       "    <tr>\n",
       "      <th>35234</th>\n",
       "      <td>2019-06-09 18:00:00+00:00</td>\n",
       "      <td>7678.13</td>\n",
       "    </tr>\n",
       "    <tr>\n",
       "      <th>35235</th>\n",
       "      <td>2019-06-09 19:00:00+00:00</td>\n",
       "      <td>7711.10</td>\n",
       "    </tr>\n",
       "    <tr>\n",
       "      <th>35236</th>\n",
       "      <td>2019-06-09 20:00:00+00:00</td>\n",
       "      <td>7728.32</td>\n",
       "    </tr>\n",
       "  </tbody>\n",
       "</table>\n",
       "</div>"
      ],
      "text/plain": [
       "                             ds        y\n",
       "35232 2019-06-09 16:00:00+00:00  7664.22\n",
       "35233 2019-06-09 17:00:00+00:00  7645.34\n",
       "35234 2019-06-09 18:00:00+00:00  7678.13\n",
       "35235 2019-06-09 19:00:00+00:00  7711.10\n",
       "35236 2019-06-09 20:00:00+00:00  7728.32"
      ]
     },
     "execution_count": 10,
     "metadata": {},
     "output_type": "execute_result"
    }
   ],
   "source": [
    "df_bitcoin_price_FBP = df_bitcoin_price.copy()\n",
    "\n",
    "df_bitcoin_price_FBP.rename(columns={'timestamp': 'ds', 'weighted price': 'y'}, inplace=True)\n",
    "\n",
    "df_bitcoin_price_FBP = df_bitcoin_price_FBP[['ds', 'y']]\n",
    "\n",
    "df_bitcoin_price_FBP.ds = pd.to_datetime(df_bitcoin_price_FBP.ds, utc=True)\n",
    "\n",
    "df_bitcoin_price_FBP.tail()"
   ]
  },
  {
   "cell_type": "code",
   "execution_count": 11,
   "metadata": {},
   "outputs": [],
   "source": [
    "df_bitcoin_price_FBP[df_bitcoin_price_FBP.duplicated()]\n",
    "\n",
    "df_bitcoin_price_FBP.drop_duplicates(inplace=True)"
   ]
  },
  {
   "cell_type": "markdown",
   "metadata": {},
   "source": [
    "#### Preprocessing df_vix_hourly"
   ]
  },
  {
   "cell_type": "code",
   "execution_count": 13,
   "metadata": {},
   "outputs": [
    {
     "data": {
      "text/html": [
       "<div>\n",
       "<style scoped>\n",
       "    .dataframe tbody tr th:only-of-type {\n",
       "        vertical-align: middle;\n",
       "    }\n",
       "\n",
       "    .dataframe tbody tr th {\n",
       "        vertical-align: top;\n",
       "    }\n",
       "\n",
       "    .dataframe thead th {\n",
       "        text-align: right;\n",
       "    }\n",
       "</style>\n",
       "<table border=\"1\" class=\"dataframe\">\n",
       "  <thead>\n",
       "    <tr style=\"text-align: right;\">\n",
       "      <th></th>\n",
       "      <th>ds</th>\n",
       "      <th>y</th>\n",
       "    </tr>\n",
       "  </thead>\n",
       "  <tbody>\n",
       "    <tr>\n",
       "      <th>0</th>\n",
       "      <td>2017-01-25 16:00:00+00:00</td>\n",
       "      <td>19.14</td>\n",
       "    </tr>\n",
       "    <tr>\n",
       "      <th>1</th>\n",
       "      <td>2017-01-25 17:00:00+00:00</td>\n",
       "      <td>19.14</td>\n",
       "    </tr>\n",
       "    <tr>\n",
       "      <th>2</th>\n",
       "      <td>2017-01-25 18:00:00+00:00</td>\n",
       "      <td>19.14</td>\n",
       "    </tr>\n",
       "    <tr>\n",
       "      <th>3</th>\n",
       "      <td>2017-01-25 19:00:00+00:00</td>\n",
       "      <td>19.14</td>\n",
       "    </tr>\n",
       "    <tr>\n",
       "      <th>4</th>\n",
       "      <td>2017-01-25 20:00:00+00:00</td>\n",
       "      <td>19.14</td>\n",
       "    </tr>\n",
       "  </tbody>\n",
       "</table>\n",
       "</div>"
      ],
      "text/plain": [
       "                         ds      y\n",
       "0 2017-01-25 16:00:00+00:00  19.14\n",
       "1 2017-01-25 17:00:00+00:00  19.14\n",
       "2 2017-01-25 18:00:00+00:00  19.14\n",
       "3 2017-01-25 19:00:00+00:00  19.14\n",
       "4 2017-01-25 20:00:00+00:00  19.14"
      ]
     },
     "execution_count": 13,
     "metadata": {},
     "output_type": "execute_result"
    }
   ],
   "source": [
    "df_vix_FBP = df_vix_hourly.copy()\n",
    "\n",
    "df_vix_FBP.rename(columns={'local_time': 'ds', 'Open': 'y'}, inplace=True)\n",
    "\n",
    "df_vix_FBP = df_vix_FBP[['ds', 'y']]\n",
    "\n",
    "df_vix_FBP.ds = pd.to_datetime(df_vix_FBP.ds, utc = True)\n",
    "\n",
    "df_vix_FBP.sort_values(by=['ds'], inplace = True)\n",
    "\n",
    "df_vix_FBP.head()"
   ]
  },
  {
   "cell_type": "code",
   "execution_count": 14,
   "metadata": {},
   "outputs": [
    {
     "data": {
      "text/html": [
       "<div>\n",
       "<style scoped>\n",
       "    .dataframe tbody tr th:only-of-type {\n",
       "        vertical-align: middle;\n",
       "    }\n",
       "\n",
       "    .dataframe tbody tr th {\n",
       "        vertical-align: top;\n",
       "    }\n",
       "\n",
       "    .dataframe thead th {\n",
       "        text-align: right;\n",
       "    }\n",
       "</style>\n",
       "<table border=\"1\" class=\"dataframe\">\n",
       "  <thead>\n",
       "    <tr style=\"text-align: right;\">\n",
       "      <th></th>\n",
       "      <th>ds</th>\n",
       "      <th>y</th>\n",
       "    </tr>\n",
       "  </thead>\n",
       "  <tbody>\n",
       "    <tr>\n",
       "      <th>0</th>\n",
       "      <td>2017-01-08 00:00:00+00:00</td>\n",
       "      <td>2855.81</td>\n",
       "    </tr>\n",
       "    <tr>\n",
       "      <th>1</th>\n",
       "      <td>2017-01-08 01:00:00+00:00</td>\n",
       "      <td>2823.01</td>\n",
       "    </tr>\n",
       "    <tr>\n",
       "      <th>2</th>\n",
       "      <td>2017-01-08 02:00:00+00:00</td>\n",
       "      <td>2846.27</td>\n",
       "    </tr>\n",
       "    <tr>\n",
       "      <th>3</th>\n",
       "      <td>2017-01-08 03:00:00+00:00</td>\n",
       "      <td>2841.84</td>\n",
       "    </tr>\n",
       "    <tr>\n",
       "      <th>4</th>\n",
       "      <td>2017-01-08 04:00:00+00:00</td>\n",
       "      <td>2862.92</td>\n",
       "    </tr>\n",
       "  </tbody>\n",
       "</table>\n",
       "</div>"
      ],
      "text/plain": [
       "                         ds        y\n",
       "0 2017-01-08 00:00:00+00:00  2855.81\n",
       "1 2017-01-08 01:00:00+00:00  2823.01\n",
       "2 2017-01-08 02:00:00+00:00  2846.27\n",
       "3 2017-01-08 03:00:00+00:00  2841.84\n",
       "4 2017-01-08 04:00:00+00:00  2862.92"
      ]
     },
     "execution_count": 14,
     "metadata": {},
     "output_type": "execute_result"
    }
   ],
   "source": [
    "df_gold_FBP = df_gold.copy()\n",
    "\n",
    "df_gold_FBP.rename(columns={'Date': 'ds', 'Open': 'y'}, inplace=True)\n",
    "\n",
    "df_gold_FBP = df_gold_FBP[['ds', 'y']]\n",
    "\n",
    "df_gold_FBP.ds = pd.to_datetime(df_gold_FBP.ds, utc = True)\n",
    "\n",
    "df_gold_FBP.head()"
   ]
  },
  {
   "cell_type": "markdown",
   "metadata": {},
   "source": [
    "## Getting the intersecting dates of the dataframes\n"
   ]
  },
  {
   "cell_type": "code",
   "execution_count": 15,
   "metadata": {},
   "outputs": [
    {
     "data": {
      "text/plain": [
       "True"
      ]
     },
     "execution_count": 15,
     "metadata": {},
     "output_type": "execute_result"
    }
   ],
   "source": [
    "df_bitcoin_price_FBP.head()\n",
    "\n",
    "dates_gold = set(df_gold_FBP.ds)\n",
    "dates_vix = set(df_vix_FBP.ds)\n",
    "dates_bitcoin = set(df_bitcoin_price_FBP.ds)\n",
    "\n",
    "dates_intersection = dates_gold & dates_vix & dates_bitcoin\n",
    "\n",
    "df_bitcoin_inter = df_bitcoin_price_FBP[df_bitcoin_price_FBP.ds.isin(dates_intersection)]\n",
    "df_vix_inter = df_vix_FBP[df_vix_FBP.ds.isin(dates_intersection)]\n",
    "df_gold_inter = df_gold_FBP[df_gold_FBP.ds.isin(dates_intersection)]\n",
    "\n",
    "first_timestamp = min(dates_intersection)\n",
    "last_timestamp = max(dates_intersection)\n",
    "all(first_timestamp == min(df.ds) for df in [df_bitcoin_inter, df_vix_inter, df_gold_inter])\n",
    "all(last_timestamp == max(df.ds) for df in [df_bitcoin_inter, df_vix_inter, df_gold_inter])"
   ]
  },
  {
   "cell_type": "code",
   "execution_count": 16,
   "metadata": {
    "scrolled": false
   },
   "outputs": [
    {
     "name": "stderr",
     "output_type": "stream",
     "text": [
      "/anaconda3/envs/py36/lib/python3.6/site-packages/ipykernel_launcher.py:1: SettingWithCopyWarning: \n",
      "A value is trying to be set on a copy of a slice from a DataFrame.\n",
      "Try using .loc[row_indexer,col_indexer] = value instead\n",
      "\n",
      "See the caveats in the documentation: http://pandas.pydata.org/pandas-docs/stable/indexing.html#indexing-view-versus-copy\n",
      "  \"\"\"Entry point for launching an IPython kernel.\n",
      "/anaconda3/envs/py36/lib/python3.6/site-packages/ipykernel_launcher.py:2: SettingWithCopyWarning: \n",
      "A value is trying to be set on a copy of a slice from a DataFrame.\n",
      "Try using .loc[row_indexer,col_indexer] = value instead\n",
      "\n",
      "See the caveats in the documentation: http://pandas.pydata.org/pandas-docs/stable/indexing.html#indexing-view-versus-copy\n",
      "  \n",
      "/anaconda3/envs/py36/lib/python3.6/site-packages/ipykernel_launcher.py:3: SettingWithCopyWarning: \n",
      "A value is trying to be set on a copy of a slice from a DataFrame.\n",
      "Try using .loc[row_indexer,col_indexer] = value instead\n",
      "\n",
      "See the caveats in the documentation: http://pandas.pydata.org/pandas-docs/stable/indexing.html#indexing-view-versus-copy\n",
      "  This is separate from the ipykernel package so we can avoid doing imports until\n",
      "/anaconda3/envs/py36/lib/python3.6/site-packages/pandas/core/frame.py:3940: SettingWithCopyWarning: \n",
      "A value is trying to be set on a copy of a slice from a DataFrame\n",
      "\n",
      "See the caveats in the documentation: http://pandas.pydata.org/pandas-docs/stable/indexing.html#indexing-view-versus-copy\n",
      "  errors=errors)\n"
     ]
    }
   ],
   "source": [
    "df_bitcoin_inter['ds'] = df_bitcoin_inter.ds.dt.tz_localize(None)\n",
    "df_vix_inter['ds'] = df_vix_inter.ds.dt.tz_localize(None)\n",
    "df_gold_inter['ds'] = df_gold_inter.ds.dt.tz_localize(None)\n",
    "\n",
    "df_bitcoin_inter.reset_index(inplace = True)\n",
    "df_vix_inter.reset_index(inplace = True)\n",
    "df_gold_inter.reset_index(inplace = True)\n",
    "\n",
    "df_bitcoin_inter.drop('index', axis = 1, inplace = True)\n",
    "df_vix_inter.drop('index', axis = 1, inplace = True)\n",
    "df_gold_inter.drop('index', axis = 1, inplace = True)"
   ]
  },
  {
   "cell_type": "code",
   "execution_count": 17,
   "metadata": {},
   "outputs": [
    {
     "data": {
      "text/html": [
       "<div>\n",
       "<style scoped>\n",
       "    .dataframe tbody tr th:only-of-type {\n",
       "        vertical-align: middle;\n",
       "    }\n",
       "\n",
       "    .dataframe tbody tr th {\n",
       "        vertical-align: top;\n",
       "    }\n",
       "\n",
       "    .dataframe thead th {\n",
       "        text-align: right;\n",
       "    }\n",
       "</style>\n",
       "<table border=\"1\" class=\"dataframe\">\n",
       "  <thead>\n",
       "    <tr style=\"text-align: right;\">\n",
       "      <th></th>\n",
       "      <th>ds</th>\n",
       "      <th>y</th>\n",
       "    </tr>\n",
       "  </thead>\n",
       "  <tbody>\n",
       "    <tr>\n",
       "      <th>0</th>\n",
       "      <td>2017-02-08 00:00:00</td>\n",
       "      <td>1054.03</td>\n",
       "    </tr>\n",
       "    <tr>\n",
       "      <th>1</th>\n",
       "      <td>2017-02-08 01:00:00</td>\n",
       "      <td>1060.48</td>\n",
       "    </tr>\n",
       "    <tr>\n",
       "      <th>2</th>\n",
       "      <td>2017-02-08 02:00:00</td>\n",
       "      <td>1062.94</td>\n",
       "    </tr>\n",
       "    <tr>\n",
       "      <th>3</th>\n",
       "      <td>2017-02-08 03:00:00</td>\n",
       "      <td>1065.82</td>\n",
       "    </tr>\n",
       "    <tr>\n",
       "      <th>4</th>\n",
       "      <td>2017-02-08 04:00:00</td>\n",
       "      <td>1068.15</td>\n",
       "    </tr>\n",
       "  </tbody>\n",
       "</table>\n",
       "</div>"
      ],
      "text/plain": [
       "                   ds        y\n",
       "0 2017-02-08 00:00:00  1054.03\n",
       "1 2017-02-08 01:00:00  1060.48\n",
       "2 2017-02-08 02:00:00  1062.94\n",
       "3 2017-02-08 03:00:00  1065.82\n",
       "4 2017-02-08 04:00:00  1068.15"
      ]
     },
     "execution_count": 17,
     "metadata": {},
     "output_type": "execute_result"
    }
   ],
   "source": [
    "df_bitcoin_inter.head()"
   ]
  },
  {
   "cell_type": "code",
   "execution_count": 19,
   "metadata": {},
   "outputs": [],
   "source": [
    "df_bitcoin_inter.to_pickle('./processed_data/df_bitcoin_inter.pickle')\n",
    "df_vix_inter.to_pickle('./processed_data/df_vix_inter.pickle')\n",
    "df_gold_inter.to_pickle('./processed_data/df_gold_inter.pickle')"
   ]
  },
  {
   "cell_type": "code",
   "execution_count": 20,
   "metadata": {},
   "outputs": [],
   "source": [
    "df_combined = df_bitcoin_inter.copy()\n",
    "df_combined['vix'] = df_vix_inter['y']\n",
    "df_combined['gold'] = df_gold_inter['y']"
   ]
  },
  {
   "cell_type": "code",
   "execution_count": 22,
   "metadata": {},
   "outputs": [
    {
     "data": {
      "text/html": [
       "<div>\n",
       "<style scoped>\n",
       "    .dataframe tbody tr th:only-of-type {\n",
       "        vertical-align: middle;\n",
       "    }\n",
       "\n",
       "    .dataframe tbody tr th {\n",
       "        vertical-align: top;\n",
       "    }\n",
       "\n",
       "    .dataframe thead th {\n",
       "        text-align: right;\n",
       "    }\n",
       "</style>\n",
       "<table border=\"1\" class=\"dataframe\">\n",
       "  <thead>\n",
       "    <tr style=\"text-align: right;\">\n",
       "      <th></th>\n",
       "      <th>ds</th>\n",
       "      <th>y</th>\n",
       "      <th>vix</th>\n",
       "      <th>gold</th>\n",
       "    </tr>\n",
       "  </thead>\n",
       "  <tbody>\n",
       "    <tr>\n",
       "      <th>0</th>\n",
       "      <td>2017-02-08 00:00:00</td>\n",
       "      <td>1054.03</td>\n",
       "      <td>18.879</td>\n",
       "      <td>2732.0</td>\n",
       "    </tr>\n",
       "    <tr>\n",
       "      <th>1</th>\n",
       "      <td>2017-02-08 01:00:00</td>\n",
       "      <td>1060.48</td>\n",
       "      <td>18.915</td>\n",
       "      <td>2693.0</td>\n",
       "    </tr>\n",
       "  </tbody>\n",
       "</table>\n",
       "</div>"
      ],
      "text/plain": [
       "                   ds        y     vix    gold\n",
       "0 2017-02-08 00:00:00  1054.03  18.879  2732.0\n",
       "1 2017-02-08 01:00:00  1060.48  18.915  2693.0"
      ]
     },
     "execution_count": 22,
     "metadata": {},
     "output_type": "execute_result"
    }
   ],
   "source": [
    "df_combined.head(2)"
   ]
  },
  {
   "cell_type": "code",
   "execution_count": 23,
   "metadata": {},
   "outputs": [],
   "source": [
    "df_combined.to_pickle('./processed_data/df_combined.pickle')"
   ]
  },
  {
   "cell_type": "code",
   "execution_count": null,
   "metadata": {},
   "outputs": [],
   "source": []
  }
 ],
 "metadata": {
  "kernelspec": {
   "display_name": "Python 3",
   "language": "python",
   "name": "python3"
  },
  "language_info": {
   "codemirror_mode": {
    "name": "ipython",
    "version": 3
   },
   "file_extension": ".py",
   "mimetype": "text/x-python",
   "name": "python",
   "nbconvert_exporter": "python",
   "pygments_lexer": "ipython3",
   "version": "3.6.8"
  }
 },
 "nbformat": 4,
 "nbformat_minor": 2
}
