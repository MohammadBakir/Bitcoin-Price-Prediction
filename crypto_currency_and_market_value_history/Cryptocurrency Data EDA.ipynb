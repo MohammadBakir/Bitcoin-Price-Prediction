{
 "cells": [
  {
   "cell_type": "code",
   "execution_count": 1,
   "metadata": {},
   "outputs": [],
   "source": [
    "#Import required packages \n",
    "import numpy as np\n",
    "\n",
    "import pandas as pd\n",
    "import pandas_profiling\n",
    "\n",
    "from datetime import datetime\n",
    "\n",
    "import pickle"
   ]
  },
  {
   "cell_type": "markdown",
   "metadata": {},
   "source": [
    "# Import Bitcoin Scrapped Dataset and Preprocess"
   ]
  },
  {
   "cell_type": "code",
   "execution_count": 2,
   "metadata": {},
   "outputs": [],
   "source": [
    "#Import Bitcoin Barchart Data\n",
    "bitcoin_price_history_df = pd.read_csv('./data/price_history_4_year_hourly.csv')"
   ]
  },
  {
   "cell_type": "markdown",
   "metadata": {},
   "source": [
    "### Note: All financial columns are in U.S Dollars\n",
    "- Open  \n",
    "- Close \n",
    "- Low   \n",
    "- High  \n",
    "- Volume (Currency) \n",
    "- Weighted Price"
   ]
  },
  {
   "cell_type": "code",
   "execution_count": 7,
   "metadata": {},
   "outputs": [
    {
     "data": {
      "text/html": [
       "<div>\n",
       "<style scoped>\n",
       "    .dataframe tbody tr th:only-of-type {\n",
       "        vertical-align: middle;\n",
       "    }\n",
       "\n",
       "    .dataframe tbody tr th {\n",
       "        vertical-align: top;\n",
       "    }\n",
       "\n",
       "    .dataframe thead th {\n",
       "        text-align: right;\n",
       "    }\n",
       "</style>\n",
       "<table border=\"1\" class=\"dataframe\">\n",
       "  <thead>\n",
       "    <tr style=\"text-align: right;\">\n",
       "      <th></th>\n",
       "      <th>timestamp</th>\n",
       "      <th>open</th>\n",
       "      <th>high</th>\n",
       "      <th>low</th>\n",
       "      <th>close</th>\n",
       "      <th>volume (btc)</th>\n",
       "      <th>volume (currency)</th>\n",
       "      <th>weighted price</th>\n",
       "    </tr>\n",
       "  </thead>\n",
       "  <tbody>\n",
       "    <tr>\n",
       "      <th>14668</th>\n",
       "      <td>2017-02-03 00:00:00</td>\n",
       "      <td>1009.15</td>\n",
       "      <td>1009.93</td>\n",
       "      <td>1004.37</td>\n",
       "      <td>1008.00</td>\n",
       "      <td>130.40</td>\n",
       "      <td>131309.57</td>\n",
       "      <td>1007.00</td>\n",
       "    </tr>\n",
       "    <tr>\n",
       "      <th>8267</th>\n",
       "      <td>2016-05-10 09:00:00</td>\n",
       "      <td>459.00</td>\n",
       "      <td>459.60</td>\n",
       "      <td>453.10</td>\n",
       "      <td>454.88</td>\n",
       "      <td>457.00</td>\n",
       "      <td>208292.27</td>\n",
       "      <td>455.78</td>\n",
       "    </tr>\n",
       "    <tr>\n",
       "      <th>8151</th>\n",
       "      <td>2016-05-05 13:00:00</td>\n",
       "      <td>446.86</td>\n",
       "      <td>448.44</td>\n",
       "      <td>446.02</td>\n",
       "      <td>448.44</td>\n",
       "      <td>153.93</td>\n",
       "      <td>68827.37</td>\n",
       "      <td>447.14</td>\n",
       "    </tr>\n",
       "    <tr>\n",
       "      <th>33806</th>\n",
       "      <td>2019-04-11 06:00:00</td>\n",
       "      <td>5219.90</td>\n",
       "      <td>5224.99</td>\n",
       "      <td>5200.00</td>\n",
       "      <td>5220.00</td>\n",
       "      <td>405.92</td>\n",
       "      <td>2116117.80</td>\n",
       "      <td>5213.12</td>\n",
       "    </tr>\n",
       "    <tr>\n",
       "      <th>34911</th>\n",
       "      <td>2019-05-27 07:00:00</td>\n",
       "      <td>8757.73</td>\n",
       "      <td>8815.86</td>\n",
       "      <td>8750.00</td>\n",
       "      <td>8778.72</td>\n",
       "      <td>445.71</td>\n",
       "      <td>3915796.22</td>\n",
       "      <td>8785.47</td>\n",
       "    </tr>\n",
       "  </tbody>\n",
       "</table>\n",
       "</div>"
      ],
      "text/plain": [
       "                timestamp     open     high      low    close  volume (btc)  \\\n",
       "14668 2017-02-03 00:00:00  1009.15  1009.93  1004.37  1008.00        130.40   \n",
       "8267  2016-05-10 09:00:00   459.00   459.60   453.10   454.88        457.00   \n",
       "8151  2016-05-05 13:00:00   446.86   448.44   446.02   448.44        153.93   \n",
       "33806 2019-04-11 06:00:00  5219.90  5224.99  5200.00  5220.00        405.92   \n",
       "34911 2019-05-27 07:00:00  8757.73  8815.86  8750.00  8778.72        445.71   \n",
       "\n",
       "       volume (currency)  weighted price  \n",
       "14668          131309.57         1007.00  \n",
       "8267           208292.27          455.78  \n",
       "8151            68827.37          447.14  \n",
       "33806         2116117.80         5213.12  \n",
       "34911         3915796.22         8785.47  "
      ]
     },
     "execution_count": 7,
     "metadata": {},
     "output_type": "execute_result"
    }
   ],
   "source": [
    "bitcoin_price_history_df.sample(5)"
   ]
  },
  {
   "cell_type": "code",
   "execution_count": 4,
   "metadata": {},
   "outputs": [],
   "source": [
    "#strip column names of any space and lowercase\n",
    "bitcoin_price_history_df.rename(columns=lambda x: x.strip())\n",
    "bitcoin_price_history_df.columns = bitcoin_price_history_df.columns.str.lower()\n",
    "\n",
    "#Reconfigure Date to DateTime\n",
    "bitcoin_price_history_df.timestamp = pd.to_datetime(bitcoin_price_history_df.timestamp, format=\"%m/%d/%Y %H:%M\")"
   ]
  },
  {
   "cell_type": "code",
   "execution_count": 5,
   "metadata": {},
   "outputs": [
    {
     "data": {
      "text/plain": [
       "timestamp            datetime64[ns]\n",
       "open                        float64\n",
       "high                        float64\n",
       "low                         float64\n",
       "close                       float64\n",
       "volume (btc)                float64\n",
       "volume (currency)           float64\n",
       "weighted price              float64\n",
       "dtype: object"
      ]
     },
     "execution_count": 5,
     "metadata": {},
     "output_type": "execute_result"
    }
   ],
   "source": [
    "#Verify All Column DataTypes Are Int64\n",
    "bitcoin_price_history_df.dtypes"
   ]
  },
  {
   "cell_type": "code",
   "execution_count": 6,
   "metadata": {},
   "outputs": [],
   "source": [
    "# #Save Updated Data Frame\n",
    "with open('./data/bitcoin_4_year_hourly_history_df.pickle', 'wb') as file:\n",
    "     pickle.dump(bitcoin_price_history_df, file)     "
   ]
  }
 ],
 "metadata": {
  "kernelspec": {
   "display_name": "Python 3",
   "language": "python",
   "name": "python3"
  },
  "language_info": {
   "codemirror_mode": {
    "name": "ipython",
    "version": 3
   },
   "file_extension": ".py",
   "mimetype": "text/x-python",
   "name": "python",
   "nbconvert_exporter": "python",
   "pygments_lexer": "ipython3",
   "version": "3.6.8"
  }
 },
 "nbformat": 4,
 "nbformat_minor": 2
}
